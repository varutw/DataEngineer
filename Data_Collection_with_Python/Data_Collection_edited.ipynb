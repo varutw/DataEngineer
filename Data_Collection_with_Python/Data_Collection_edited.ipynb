{
  "cells": [
    {
      "cell_type": "markdown",
      "metadata": {
        "id": "IRz06BvaPvio"
      },
      "source": [
        "# Data Collection"
      ]
    },
    {
      "cell_type": "markdown",
      "metadata": {
        "id": "cnVUfpjsU1EX"
      },
      "source": [
        "This notebook shows the process of data collection, both from internal SQL database and external data via API. The notebook runs in Google Colab. The internal database is My SQL database that contains a transaction table and a dimension table of audio books. The external data comes from a REST API that contains currency conversion rate."
      ]
    },
    {
      "cell_type": "markdown",
      "metadata": {
        "id": "TiWl_xR-ffPb"
      },
      "source": [
        "## 1. Data collection from MySQL database"
      ]
    },
    {
      "cell_type": "markdown",
      "metadata": {
        "id": "RwfG6lNbiO4d"
      },
      "source": [
        "Install PyMySQL \n"
      ]
    },
    {
      "cell_type": "code",
      "execution_count": 1,
      "metadata": {
        "colab": {
          "base_uri": "https://localhost:8080/"
        },
        "id": "8drOFF__cMAH",
        "outputId": "3faf0a3c-e2f1-4ad9-9fdc-a198cc2953af"
      },
      "outputs": [
        {
          "name": "stdout",
          "output_type": "stream",
          "text": [
            "Requirement already satisfied: pymysql in c:\\users\\roron\\appdata\\local\\packages\\pythonsoftwarefoundation.python.3.9_qbz5n2kfra8p0\\localcache\\local-packages\\python39\\site-packages (1.0.2)\n"
          ]
        },
        {
          "name": "stderr",
          "output_type": "stream",
          "text": [
            "WARNING: You are using pip version 21.2.4; however, version 21.3.1 is available.\n",
            "You should consider upgrading via the 'C:\\Users\\roron\\AppData\\Local\\Microsoft\\WindowsApps\\PythonSoftwareFoundation.Python.3.9_qbz5n2kfra8p0\\python.exe -m pip install --upgrade pip' command.\n"
          ]
        }
      ],
      "source": [
        "! pip install pymysql"
      ]
    },
    {
      "cell_type": "code",
      "execution_count": 6,
      "metadata": {
        "id": "0olv0dV9lCp_"
      },
      "outputs": [],
      "source": [
        "# Enter credentials\n",
        "\n",
        "class Config:\n",
        "  MYSQL_HOST = '34.136.184.58'\n",
        "  MYSQL_PORT = 3306              # MySQL default port\n",
        "  MYSQL_USER = 'r2de2'\n",
        "  MYSQL_PASSWORD = 'I_Love_Data_Engineer'\n",
        "  MYSQL_DB = 'r2de2'\n",
        "  MYSQL_CHARSET = 'utf8mb4'"
      ]
    },
    {
      "cell_type": "code",
      "execution_count": 7,
      "metadata": {
        "colab": {
          "base_uri": "https://localhost:8080/"
        },
        "id": "HfL6r9jNJCJO",
        "outputId": "34f3805f-0dd6-4ec6-8606-5ce47d1d16c1"
      },
      "outputs": [
        {
          "name": "stdout",
          "output_type": "stream",
          "text": [
            "3306\n"
          ]
        }
      ],
      "source": [
        "# print configuration\n",
        "print(Config.MYSQL_PORT)"
      ]
    },
    {
      "cell_type": "markdown",
      "metadata": {
        "id": "Me00m6uBleCK"
      },
      "source": [
        "### Connect to DB\n",
        "Connect to the database with dababase configuration."
      ]
    },
    {
      "cell_type": "code",
      "execution_count": 9,
      "metadata": {
        "id": "nKxxuMyOltG3"
      },
      "outputs": [],
      "source": [
        "import pymysql\n",
        "\n",
        "# Connect to the database\n",
        "connection = pymysql.connect(host=Config.MYSQL_HOST,\n",
        "                             port=Config.MYSQL_PORT,\n",
        "                             user=Config.MYSQL_USER,\n",
        "                             password=Config.MYSQL_PASSWORD,\n",
        "                             db=Config.MYSQL_DB,\n",
        "                             charset=Config.MYSQL_CHARSET,\n",
        "                             cursorclass=pymysql.cursors.DictCursor)"
      ]
    },
    {
      "cell_type": "code",
      "execution_count": 10,
      "metadata": {
        "colab": {
          "base_uri": "https://localhost:8080/"
        },
        "id": "7Bw2Mkqkw0tJ",
        "outputId": "c72e1027-81f1-4824-bff5-82c00ef21587"
      },
      "outputs": [
        {
          "data": {
            "text/plain": [
              "<pymysql.connections.Connection at 0x1d971779400>"
            ]
          },
          "execution_count": 10,
          "metadata": {},
          "output_type": "execute_result"
        }
      ],
      "source": [
        "connection"
      ]
    },
    {
      "cell_type": "code",
      "execution_count": 11,
      "metadata": {
        "colab": {
          "base_uri": "https://localhost:8080/"
        },
        "id": "nDCAHpiMnswl",
        "outputId": "2f91eb90-4755-4190-8a04-8eb8d4880487"
      },
      "outputs": [
        {
          "name": "stdout",
          "output_type": "stream",
          "text": [
            "[{'Tables_in_r2de2': 'audible_data'}, {'Tables_in_r2de2': 'audible_transaction'}]\n"
          ]
        }
      ],
      "source": [
        "# list all tables\n",
        "cursor = connection.cursor()\n",
        "cursor.execute(\"show tables;\")\n",
        "tables = cursor.fetchall()\n",
        "cursor.close()\n",
        "print(tables)"
      ]
    },
    {
      "cell_type": "markdown",
      "metadata": {
        "id": "iF4KnPH2phaN"
      },
      "source": [
        "### Query Table"
      ]
    },
    {
      "cell_type": "markdown",
      "metadata": {
        "id": "KvOOSVUpKju8"
      },
      "source": [
        "Using `with connection.cursor() as cursor:` command, `cursor.close()` command is not necessary."
      ]
    },
    {
      "cell_type": "code",
      "execution_count": 12,
      "metadata": {
        "colab": {
          "base_uri": "https://localhost:8080/"
        },
        "id": "Iemb303DmFG7",
        "outputId": "1be33ce4-d4bb-4a03-d9b4-89b8a768fe08"
      },
      "outputs": [
        {
          "name": "stdout",
          "output_type": "stream",
          "text": [
            "number of rows:  2269\n"
          ]
        }
      ],
      "source": [
        "# Use with statement in stead of cursor.close()\n",
        "\n",
        "with connection.cursor() as cursor:\n",
        "  cursor.execute(\"SELECT * FROM audible_data;\")\n",
        "  result = cursor.fetchall()\n",
        "\n",
        "print(\"number of rows: \", len(result))"
      ]
    },
    {
      "cell_type": "code",
      "execution_count": 13,
      "metadata": {},
      "outputs": [
        {
          "data": {
            "text/plain": [
              "[{'Book_ID': 1,\n",
              "  'Book Title': 'Bamboozled by Jesus',\n",
              "  'Book Subtitle': 'How God Tricked Me into the Life of My Dreams',\n",
              "  'Book Author': 'Yvonne Orji',\n",
              "  'Book Narrator': 'Yvonne Orji',\n",
              "  'Audio Runtime': '6 hrs and 31 mins',\n",
              "  'Audiobook_Type': 'Unabridged Audiobook',\n",
              "  'Categories': 'Biographies & Memoirs',\n",
              "  'Rating': '5',\n",
              "  'Total No. of Ratings': 47,\n",
              "  'Price': '$29.65 '},\n",
              " {'Book_ID': 2,\n",
              "  'Book Title': 'Sixth Realm Part 1',\n",
              "  'Book Subtitle': 'A LitRPG Fantasy Series (The Ten Realms, Book 6)',\n",
              "  'Book Author': 'Michael Chatfield',\n",
              "  'Book Narrator': 'Neil Hellegers',\n",
              "  'Audio Runtime': '13 hrs and 33 mins',\n",
              "  'Audiobook_Type': 'Unabridged Audiobook',\n",
              "  'Categories': 'Science Fiction & Fantasy',\n",
              "  'Rating': '4.5',\n",
              "  'Total No. of Ratings': 98,\n",
              "  'Price': '$24.95 '}]"
            ]
          },
          "execution_count": 13,
          "metadata": {},
          "output_type": "execute_result"
        }
      ],
      "source": [
        "# Show examples from the query\n",
        "result[0:2]"
      ]
    },
    {
      "cell_type": "code",
      "execution_count": null,
      "metadata": {
        "colab": {
          "base_uri": "https://localhost:8080/"
        },
        "id": "PxYakxNTx9vW",
        "outputId": "308ac32f-4a44-4b18-fa9e-7f38a7a9da80"
      },
      "outputs": [
        {
          "data": {
            "text/plain": [
              "list"
            ]
          },
          "execution_count": 9,
          "metadata": {},
          "output_type": "execute_result"
        }
      ],
      "source": [
        "# Check the type of result\n",
        "type(result)"
      ]
    },
    {
      "cell_type": "markdown",
      "metadata": {
        "id": "kwYVG6a8l4hN"
      },
      "source": [
        "\n",
        "### Convert to Pandas"
      ]
    },
    {
      "cell_type": "code",
      "execution_count": 15,
      "metadata": {
        "id": "dQn-mQ49so4L"
      },
      "outputs": [],
      "source": [
        "import pandas as pd"
      ]
    },
    {
      "cell_type": "code",
      "execution_count": 16,
      "metadata": {
        "id": "OKbf9_qCts4D"
      },
      "outputs": [],
      "source": [
        "audible_data = pd.DataFrame(result)"
      ]
    },
    {
      "cell_type": "code",
      "execution_count": 17,
      "metadata": {
        "colab": {
          "base_uri": "https://localhost:8080/"
        },
        "id": "-iP4wQdryP-0",
        "outputId": "4c68306f-eccf-4999-ca7c-7e99ca51207f"
      },
      "outputs": [
        {
          "data": {
            "text/plain": [
              "pandas.core.frame.DataFrame"
            ]
          },
          "execution_count": 17,
          "metadata": {},
          "output_type": "execute_result"
        }
      ],
      "source": [
        "type(audible_data)"
      ]
    },
    {
      "cell_type": "code",
      "execution_count": 18,
      "metadata": {
        "colab": {
          "base_uri": "https://localhost:8080/",
          "height": 1000
        },
        "id": "O8TWjiZvtzzd",
        "outputId": "d6dec5a9-4856-479b-9d00-a2eb2892ccbe"
      },
      "outputs": [
        {
          "data": {
            "text/html": [
              "<div>\n",
              "<style scoped>\n",
              "    .dataframe tbody tr th:only-of-type {\n",
              "        vertical-align: middle;\n",
              "    }\n",
              "\n",
              "    .dataframe tbody tr th {\n",
              "        vertical-align: top;\n",
              "    }\n",
              "\n",
              "    .dataframe thead th {\n",
              "        text-align: right;\n",
              "    }\n",
              "</style>\n",
              "<table border=\"1\" class=\"dataframe\">\n",
              "  <thead>\n",
              "    <tr style=\"text-align: right;\">\n",
              "      <th></th>\n",
              "      <th>Book_ID</th>\n",
              "      <th>Book Title</th>\n",
              "      <th>Book Subtitle</th>\n",
              "      <th>Book Author</th>\n",
              "      <th>Book Narrator</th>\n",
              "      <th>Audio Runtime</th>\n",
              "      <th>Audiobook_Type</th>\n",
              "      <th>Categories</th>\n",
              "      <th>Rating</th>\n",
              "      <th>Total No. of Ratings</th>\n",
              "      <th>Price</th>\n",
              "    </tr>\n",
              "  </thead>\n",
              "  <tbody>\n",
              "    <tr>\n",
              "      <th>0</th>\n",
              "      <td>1</td>\n",
              "      <td>Bamboozled by Jesus</td>\n",
              "      <td>How God Tricked Me into the Life of My Dreams</td>\n",
              "      <td>Yvonne Orji</td>\n",
              "      <td>Yvonne Orji</td>\n",
              "      <td>6 hrs and 31 mins</td>\n",
              "      <td>Unabridged Audiobook</td>\n",
              "      <td>Biographies &amp; Memoirs</td>\n",
              "      <td>5</td>\n",
              "      <td>47.0</td>\n",
              "      <td>$29.65</td>\n",
              "    </tr>\n",
              "    <tr>\n",
              "      <th>1</th>\n",
              "      <td>2</td>\n",
              "      <td>Sixth Realm Part 1</td>\n",
              "      <td>A LitRPG Fantasy Series (The Ten Realms, Book 6)</td>\n",
              "      <td>Michael Chatfield</td>\n",
              "      <td>Neil Hellegers</td>\n",
              "      <td>13 hrs and 33 mins</td>\n",
              "      <td>Unabridged Audiobook</td>\n",
              "      <td>Science Fiction &amp; Fantasy</td>\n",
              "      <td>4.5</td>\n",
              "      <td>98.0</td>\n",
              "      <td>$24.95</td>\n",
              "    </tr>\n",
              "    <tr>\n",
              "      <th>2</th>\n",
              "      <td>3</td>\n",
              "      <td>Go Tell the Bees That I Am Gone</td>\n",
              "      <td>Outlander, Book 9</td>\n",
              "      <td>Diana Gabaldon</td>\n",
              "      <td>Davina Porter</td>\n",
              "      <td>27 hrs and 30 mins</td>\n",
              "      <td>Unabridged Audiobook</td>\n",
              "      <td>Science Fiction &amp; Fantasy</td>\n",
              "      <td>None</td>\n",
              "      <td>NaN</td>\n",
              "      <td>$41.99</td>\n",
              "    </tr>\n",
              "    <tr>\n",
              "      <th>3</th>\n",
              "      <td>4</td>\n",
              "      <td>How the Word Is Passed</td>\n",
              "      <td>A Reckoning with the History of Slavery Across...</td>\n",
              "      <td>Clint Smith</td>\n",
              "      <td>Clint Smith</td>\n",
              "      <td>10 hrs and 7 mins</td>\n",
              "      <td>Unabridged Audiobook</td>\n",
              "      <td>History</td>\n",
              "      <td>None</td>\n",
              "      <td>NaN</td>\n",
              "      <td>$29.65</td>\n",
              "    </tr>\n",
              "    <tr>\n",
              "      <th>4</th>\n",
              "      <td>5</td>\n",
              "      <td>The Devil May Dance</td>\n",
              "      <td>A Novel</td>\n",
              "      <td>Jake Tapper</td>\n",
              "      <td>Rob Shapiro</td>\n",
              "      <td>10 hrs and 12 mins</td>\n",
              "      <td>Unabridged Audiobook</td>\n",
              "      <td>Mystery, Thriller &amp; Suspense</td>\n",
              "      <td>4.5</td>\n",
              "      <td>108.0</td>\n",
              "      <td>$29.65</td>\n",
              "    </tr>\n",
              "  </tbody>\n",
              "</table>\n",
              "</div>"
            ],
            "text/plain": [
              "   Book_ID                       Book Title  \\\n",
              "0        1              Bamboozled by Jesus   \n",
              "1        2               Sixth Realm Part 1   \n",
              "2        3  Go Tell the Bees That I Am Gone   \n",
              "3        4           How the Word Is Passed   \n",
              "4        5              The Devil May Dance   \n",
              "\n",
              "                                       Book Subtitle        Book Author  \\\n",
              "0      How God Tricked Me into the Life of My Dreams        Yvonne Orji   \n",
              "1   A LitRPG Fantasy Series (The Ten Realms, Book 6)  Michael Chatfield   \n",
              "2                                  Outlander, Book 9     Diana Gabaldon   \n",
              "3  A Reckoning with the History of Slavery Across...        Clint Smith   \n",
              "4                                            A Novel        Jake Tapper   \n",
              "\n",
              "    Book Narrator       Audio Runtime        Audiobook_Type  \\\n",
              "0     Yvonne Orji   6 hrs and 31 mins  Unabridged Audiobook   \n",
              "1  Neil Hellegers  13 hrs and 33 mins  Unabridged Audiobook   \n",
              "2   Davina Porter  27 hrs and 30 mins  Unabridged Audiobook   \n",
              "3     Clint Smith   10 hrs and 7 mins  Unabridged Audiobook   \n",
              "4     Rob Shapiro  10 hrs and 12 mins  Unabridged Audiobook   \n",
              "\n",
              "                     Categories Rating  Total No. of Ratings    Price  \n",
              "0         Biographies & Memoirs      5                  47.0  $29.65   \n",
              "1     Science Fiction & Fantasy    4.5                  98.0  $24.95   \n",
              "2     Science Fiction & Fantasy   None                   NaN  $41.99   \n",
              "3                       History   None                   NaN  $29.65   \n",
              "4  Mystery, Thriller & Suspense    4.5                 108.0  $29.65   "
            ]
          },
          "execution_count": 18,
          "metadata": {},
          "output_type": "execute_result"
        }
      ],
      "source": [
        "# show an example of audio data\n",
        "audible_data.head()"
      ]
    },
    {
      "cell_type": "code",
      "execution_count": 25,
      "metadata": {
        "id": "Ca8QYJemCRVt"
      },
      "outputs": [],
      "source": [
        "# Set Book_ID as an index\n",
        "audible_data = audible_data.set_index(\"Book_ID\")"
      ]
    },
    {
      "cell_type": "code",
      "execution_count": 26,
      "metadata": {
        "colab": {
          "base_uri": "https://localhost:8080/",
          "height": 1000
        },
        "id": "pBBFI_vPysN_",
        "outputId": "d48b38a4-554e-4903-a03a-cfe6e58e47e9"
      },
      "outputs": [
        {
          "data": {
            "text/html": [
              "<div>\n",
              "<style scoped>\n",
              "    .dataframe tbody tr th:only-of-type {\n",
              "        vertical-align: middle;\n",
              "    }\n",
              "\n",
              "    .dataframe tbody tr th {\n",
              "        vertical-align: top;\n",
              "    }\n",
              "\n",
              "    .dataframe thead th {\n",
              "        text-align: right;\n",
              "    }\n",
              "</style>\n",
              "<table border=\"1\" class=\"dataframe\">\n",
              "  <thead>\n",
              "    <tr style=\"text-align: right;\">\n",
              "      <th></th>\n",
              "      <th>Book Title</th>\n",
              "      <th>Book Subtitle</th>\n",
              "      <th>Book Author</th>\n",
              "      <th>Book Narrator</th>\n",
              "      <th>Audio Runtime</th>\n",
              "      <th>Audiobook_Type</th>\n",
              "      <th>Categories</th>\n",
              "      <th>Rating</th>\n",
              "      <th>Total No. of Ratings</th>\n",
              "      <th>Price</th>\n",
              "    </tr>\n",
              "    <tr>\n",
              "      <th>Book_ID</th>\n",
              "      <th></th>\n",
              "      <th></th>\n",
              "      <th></th>\n",
              "      <th></th>\n",
              "      <th></th>\n",
              "      <th></th>\n",
              "      <th></th>\n",
              "      <th></th>\n",
              "      <th></th>\n",
              "      <th></th>\n",
              "    </tr>\n",
              "  </thead>\n",
              "  <tbody>\n",
              "    <tr>\n",
              "      <th>1</th>\n",
              "      <td>Bamboozled by Jesus</td>\n",
              "      <td>How God Tricked Me into the Life of My Dreams</td>\n",
              "      <td>Yvonne Orji</td>\n",
              "      <td>Yvonne Orji</td>\n",
              "      <td>6 hrs and 31 mins</td>\n",
              "      <td>Unabridged Audiobook</td>\n",
              "      <td>Biographies &amp; Memoirs</td>\n",
              "      <td>5</td>\n",
              "      <td>47.0</td>\n",
              "      <td>$29.65</td>\n",
              "    </tr>\n",
              "    <tr>\n",
              "      <th>2</th>\n",
              "      <td>Sixth Realm Part 1</td>\n",
              "      <td>A LitRPG Fantasy Series (The Ten Realms, Book 6)</td>\n",
              "      <td>Michael Chatfield</td>\n",
              "      <td>Neil Hellegers</td>\n",
              "      <td>13 hrs and 33 mins</td>\n",
              "      <td>Unabridged Audiobook</td>\n",
              "      <td>Science Fiction &amp; Fantasy</td>\n",
              "      <td>4.5</td>\n",
              "      <td>98.0</td>\n",
              "      <td>$24.95</td>\n",
              "    </tr>\n",
              "    <tr>\n",
              "      <th>3</th>\n",
              "      <td>Go Tell the Bees That I Am Gone</td>\n",
              "      <td>Outlander, Book 9</td>\n",
              "      <td>Diana Gabaldon</td>\n",
              "      <td>Davina Porter</td>\n",
              "      <td>27 hrs and 30 mins</td>\n",
              "      <td>Unabridged Audiobook</td>\n",
              "      <td>Science Fiction &amp; Fantasy</td>\n",
              "      <td>None</td>\n",
              "      <td>NaN</td>\n",
              "      <td>$41.99</td>\n",
              "    </tr>\n",
              "    <tr>\n",
              "      <th>4</th>\n",
              "      <td>How the Word Is Passed</td>\n",
              "      <td>A Reckoning with the History of Slavery Across...</td>\n",
              "      <td>Clint Smith</td>\n",
              "      <td>Clint Smith</td>\n",
              "      <td>10 hrs and 7 mins</td>\n",
              "      <td>Unabridged Audiobook</td>\n",
              "      <td>History</td>\n",
              "      <td>None</td>\n",
              "      <td>NaN</td>\n",
              "      <td>$29.65</td>\n",
              "    </tr>\n",
              "    <tr>\n",
              "      <th>5</th>\n",
              "      <td>The Devil May Dance</td>\n",
              "      <td>A Novel</td>\n",
              "      <td>Jake Tapper</td>\n",
              "      <td>Rob Shapiro</td>\n",
              "      <td>10 hrs and 12 mins</td>\n",
              "      <td>Unabridged Audiobook</td>\n",
              "      <td>Mystery, Thriller &amp; Suspense</td>\n",
              "      <td>4.5</td>\n",
              "      <td>108.0</td>\n",
              "      <td>$29.65</td>\n",
              "    </tr>\n",
              "  </tbody>\n",
              "</table>\n",
              "</div>"
            ],
            "text/plain": [
              "                              Book Title  \\\n",
              "Book_ID                                    \n",
              "1                    Bamboozled by Jesus   \n",
              "2                     Sixth Realm Part 1   \n",
              "3        Go Tell the Bees That I Am Gone   \n",
              "4                 How the Word Is Passed   \n",
              "5                    The Devil May Dance   \n",
              "\n",
              "                                             Book Subtitle        Book Author  \\\n",
              "Book_ID                                                                         \n",
              "1            How God Tricked Me into the Life of My Dreams        Yvonne Orji   \n",
              "2         A LitRPG Fantasy Series (The Ten Realms, Book 6)  Michael Chatfield   \n",
              "3                                        Outlander, Book 9     Diana Gabaldon   \n",
              "4        A Reckoning with the History of Slavery Across...        Clint Smith   \n",
              "5                                                  A Novel        Jake Tapper   \n",
              "\n",
              "          Book Narrator       Audio Runtime        Audiobook_Type  \\\n",
              "Book_ID                                                             \n",
              "1           Yvonne Orji   6 hrs and 31 mins  Unabridged Audiobook   \n",
              "2        Neil Hellegers  13 hrs and 33 mins  Unabridged Audiobook   \n",
              "3         Davina Porter  27 hrs and 30 mins  Unabridged Audiobook   \n",
              "4           Clint Smith   10 hrs and 7 mins  Unabridged Audiobook   \n",
              "5           Rob Shapiro  10 hrs and 12 mins  Unabridged Audiobook   \n",
              "\n",
              "                           Categories Rating  Total No. of Ratings    Price  \n",
              "Book_ID                                                                      \n",
              "1               Biographies & Memoirs      5                  47.0  $29.65   \n",
              "2           Science Fiction & Fantasy    4.5                  98.0  $24.95   \n",
              "3           Science Fiction & Fantasy   None                   NaN  $41.99   \n",
              "4                             History   None                   NaN  $29.65   \n",
              "5        Mystery, Thriller & Suspense    4.5                 108.0  $29.65   "
            ]
          },
          "execution_count": 26,
          "metadata": {},
          "output_type": "execute_result"
        }
      ],
      "source": [
        "audible_data.head()"
      ]
    },
    {
      "cell_type": "markdown",
      "metadata": {
        "id": "0gQKH9qlM2tM"
      },
      "source": [
        "## 2. Join table: audible_transaction & audible_data"
      ]
    },
    {
      "cell_type": "code",
      "execution_count": 30,
      "metadata": {},
      "outputs": [],
      "source": [
        "# Load transaction data\n",
        "with connection.cursor() as cursor:\n",
        "  cursor.execute(\"SELECT * FROM audible_transaction;\")\n",
        "  result2 = cursor.fetchall()\n",
        "\n",
        "# Convert to pandas dataframe\n",
        "audible_transaction = pd.DataFrame(result2)\n",
        "\n",
        "# Set book_id as an index\n",
        "audible_transaction = audible_transaction.set_index(\"book_id\")"
      ]
    },
    {
      "cell_type": "markdown",
      "metadata": {
        "id": "iDQaUsMwNDEa"
      },
      "source": [
        "The keys to merge data are:\n",
        "- audible_transaction: `book_id`\n",
        "- audible_data: `Book_ID`"
      ]
    },
    {
      "cell_type": "code",
      "execution_count": 31,
      "metadata": {
        "id": "A14bNzsmDv2T"
      },
      "outputs": [],
      "source": [
        "transaction = audible_transaction.merge(audible_data, how=\"left\", left_on=\"book_id\", right_on=\"Book_ID\")"
      ]
    },
    {
      "cell_type": "code",
      "execution_count": 32,
      "metadata": {
        "colab": {
          "base_uri": "https://localhost:8080/",
          "height": 929
        },
        "id": "y5GLAftnGF72",
        "outputId": "86db43b7-d0d6-4386-830e-600d741cad1d"
      },
      "outputs": [
        {
          "data": {
            "text/html": [
              "<div>\n",
              "<style scoped>\n",
              "    .dataframe tbody tr th:only-of-type {\n",
              "        vertical-align: middle;\n",
              "    }\n",
              "\n",
              "    .dataframe tbody tr th {\n",
              "        vertical-align: top;\n",
              "    }\n",
              "\n",
              "    .dataframe thead th {\n",
              "        text-align: right;\n",
              "    }\n",
              "</style>\n",
              "<table border=\"1\" class=\"dataframe\">\n",
              "  <thead>\n",
              "    <tr style=\"text-align: right;\">\n",
              "      <th></th>\n",
              "      <th>timestamp</th>\n",
              "      <th>user_id</th>\n",
              "      <th>country</th>\n",
              "      <th>Book Title</th>\n",
              "      <th>Book Subtitle</th>\n",
              "      <th>Book Author</th>\n",
              "      <th>Book Narrator</th>\n",
              "      <th>Audio Runtime</th>\n",
              "      <th>Audiobook_Type</th>\n",
              "      <th>Categories</th>\n",
              "      <th>Rating</th>\n",
              "      <th>Total No. of Ratings</th>\n",
              "      <th>Price</th>\n",
              "    </tr>\n",
              "  </thead>\n",
              "  <tbody>\n",
              "    <tr>\n",
              "      <th>0</th>\n",
              "      <td>2021-05-01 00:00:01</td>\n",
              "      <td>ad8eca41</td>\n",
              "      <td>Portugal</td>\n",
              "      <td>Sycamore Row</td>\n",
              "      <td>None</td>\n",
              "      <td>John Grisham</td>\n",
              "      <td>Michael Beck</td>\n",
              "      <td>20 hrs and 46 mins</td>\n",
              "      <td>Unabridged Audiobook</td>\n",
              "      <td>Mystery, Thriller &amp; Suspense</td>\n",
              "      <td>4.6</td>\n",
              "      <td>25863.0</td>\n",
              "      <td>$35.00</td>\n",
              "    </tr>\n",
              "    <tr>\n",
              "      <th>1</th>\n",
              "      <td>2021-05-01 00:00:03</td>\n",
              "      <td>561b26c1</td>\n",
              "      <td>United States of America</td>\n",
              "      <td>The 5 Love Languages of Children</td>\n",
              "      <td>The Secret to Loving Children Effectively</td>\n",
              "      <td>Gary Chapman</td>\n",
              "      <td>Chris Fabry</td>\n",
              "      <td>5 hrs and 48 mins</td>\n",
              "      <td>Unabridged Audiobook</td>\n",
              "      <td>Relationships, Parenting &amp; Personal Development</td>\n",
              "      <td>4.8</td>\n",
              "      <td>2441.0</td>\n",
              "      <td>$19.59</td>\n",
              "    </tr>\n",
              "    <tr>\n",
              "      <th>2</th>\n",
              "      <td>2021-05-01 00:00:04</td>\n",
              "      <td>81f149e5</td>\n",
              "      <td>Japan</td>\n",
              "      <td>The Guardians</td>\n",
              "      <td>A Novel</td>\n",
              "      <td>John Grisham</td>\n",
              "      <td>Michael Beck</td>\n",
              "      <td>11 hrs and 50 mins</td>\n",
              "      <td>Unabridged Audiobook</td>\n",
              "      <td>Mystery, Thriller &amp; Suspense</td>\n",
              "      <td>4.6</td>\n",
              "      <td>26781.0</td>\n",
              "      <td>$31.50</td>\n",
              "    </tr>\n",
              "    <tr>\n",
              "      <th>3</th>\n",
              "      <td>2021-05-01 00:00:07</td>\n",
              "      <td>4f218413</td>\n",
              "      <td>Taiwan</td>\n",
              "      <td>How to Be a 3% Man</td>\n",
              "      <td>None</td>\n",
              "      <td>Corey Wayne</td>\n",
              "      <td>Corey Wayne</td>\n",
              "      <td>7 hrs and 33 mins</td>\n",
              "      <td>Unabridged Audiobook</td>\n",
              "      <td>Relationships, Parenting &amp; Personal Development</td>\n",
              "      <td>4.8</td>\n",
              "      <td>11459.0</td>\n",
              "      <td>$19.95</td>\n",
              "    </tr>\n",
              "    <tr>\n",
              "      <th>4</th>\n",
              "      <td>2021-05-01 00:00:18</td>\n",
              "      <td>a4066781</td>\n",
              "      <td>United States of America</td>\n",
              "      <td>Napoleon Hill's Outwitting the Devil</td>\n",
              "      <td>The Secret to Freedom and Success</td>\n",
              "      <td>Napoleon Hill</td>\n",
              "      <td>Dan John Miller</td>\n",
              "      <td>5 hrs and 51 mins</td>\n",
              "      <td>Unabridged Audiobook</td>\n",
              "      <td>Business &amp; Careers</td>\n",
              "      <td>4.8</td>\n",
              "      <td>9305.0</td>\n",
              "      <td>$17.49</td>\n",
              "    </tr>\n",
              "  </tbody>\n",
              "</table>\n",
              "</div>"
            ],
            "text/plain": [
              "            timestamp   user_id                   country  \\\n",
              "0 2021-05-01 00:00:01  ad8eca41                  Portugal   \n",
              "1 2021-05-01 00:00:03  561b26c1  United States of America   \n",
              "2 2021-05-01 00:00:04  81f149e5                     Japan   \n",
              "3 2021-05-01 00:00:07  4f218413                    Taiwan   \n",
              "4 2021-05-01 00:00:18  a4066781  United States of America   \n",
              "\n",
              "                             Book Title  \\\n",
              "0                          Sycamore Row   \n",
              "1      The 5 Love Languages of Children   \n",
              "2                         The Guardians   \n",
              "3                    How to Be a 3% Man   \n",
              "4  Napoleon Hill's Outwitting the Devil   \n",
              "\n",
              "                               Book Subtitle    Book Author    Book Narrator  \\\n",
              "0                                       None   John Grisham     Michael Beck   \n",
              "1  The Secret to Loving Children Effectively   Gary Chapman      Chris Fabry   \n",
              "2                                    A Novel   John Grisham     Michael Beck   \n",
              "3                                       None    Corey Wayne      Corey Wayne   \n",
              "4          The Secret to Freedom and Success  Napoleon Hill  Dan John Miller   \n",
              "\n",
              "        Audio Runtime        Audiobook_Type  \\\n",
              "0  20 hrs and 46 mins  Unabridged Audiobook   \n",
              "1   5 hrs and 48 mins  Unabridged Audiobook   \n",
              "2  11 hrs and 50 mins  Unabridged Audiobook   \n",
              "3   7 hrs and 33 mins  Unabridged Audiobook   \n",
              "4   5 hrs and 51 mins  Unabridged Audiobook   \n",
              "\n",
              "                                        Categories Rating  \\\n",
              "0                     Mystery, Thriller & Suspense    4.6   \n",
              "1  Relationships, Parenting & Personal Development    4.8   \n",
              "2                     Mystery, Thriller & Suspense    4.6   \n",
              "3  Relationships, Parenting & Personal Development    4.8   \n",
              "4                               Business & Careers    4.8   \n",
              "\n",
              "   Total No. of Ratings    Price  \n",
              "0               25863.0  $35.00   \n",
              "1                2441.0  $19.59   \n",
              "2               26781.0  $31.50   \n",
              "3               11459.0  $19.95   \n",
              "4                9305.0  $17.49   "
            ]
          },
          "execution_count": 32,
          "metadata": {},
          "output_type": "execute_result"
        }
      ],
      "source": [
        "# See the result from joining\n",
        "transaction.head()"
      ]
    },
    {
      "cell_type": "markdown",
      "metadata": {
        "id": "oo9VV8oWNJG_"
      },
      "source": [
        "Now transaction data is here, but the price is in USD (with $ string)\n",
        "\n",
        "Next, conversion rate data will be loaded to convert the price into BHT (Thai Baht) via API."
      ]
    },
    {
      "cell_type": "markdown",
      "metadata": {
        "id": "vni1aTvqe1dY"
      },
      "source": [
        "\n",
        "\n",
        "---\n",
        "\n",
        "\n",
        "## 3. Get data from REST API"
      ]
    },
    {
      "cell_type": "markdown",
      "metadata": {
        "id": "K5NLiqJDcNSS"
      },
      "source": [
        "Use `requests` package to call REST API"
      ]
    },
    {
      "cell_type": "code",
      "execution_count": 19,
      "metadata": {},
      "outputs": [
        {
          "name": "stdout",
          "output_type": "stream",
          "text": [
            "Requirement already satisfied: requests in c:\\users\\roron\\appdata\\local\\packages\\pythonsoftwarefoundation.python.3.9_qbz5n2kfra8p0\\localcache\\local-packages\\python39\\site-packages (2.27.1)"
          ]
        },
        {
          "name": "stderr",
          "output_type": "stream",
          "text": [
            "WARNING: You are using pip version 21.2.4; however, version 21.3.1 is available.\n",
            "You should consider upgrading via the 'C:\\Users\\roron\\AppData\\Local\\Microsoft\\WindowsApps\\PythonSoftwareFoundation.Python.3.9_qbz5n2kfra8p0\\python.exe -m pip install --upgrade pip' command.\n"
          ]
        },
        {
          "name": "stdout",
          "output_type": "stream",
          "text": [
            "\n",
            "Requirement already satisfied: urllib3<1.27,>=1.21.1 in c:\\users\\roron\\appdata\\local\\packages\\pythonsoftwarefoundation.python.3.9_qbz5n2kfra8p0\\localcache\\local-packages\\python39\\site-packages (from requests) (1.26.8)\n",
            "Requirement already satisfied: idna<4,>=2.5 in c:\\users\\roron\\appdata\\local\\packages\\pythonsoftwarefoundation.python.3.9_qbz5n2kfra8p0\\localcache\\local-packages\\python39\\site-packages (from requests) (3.3)\n",
            "Requirement already satisfied: charset-normalizer~=2.0.0 in c:\\users\\roron\\appdata\\local\\packages\\pythonsoftwarefoundation.python.3.9_qbz5n2kfra8p0\\localcache\\local-packages\\python39\\site-packages (from requests) (2.0.10)\n",
            "Requirement already satisfied: certifi>=2017.4.17 in c:\\users\\roron\\appdata\\local\\packages\\pythonsoftwarefoundation.python.3.9_qbz5n2kfra8p0\\localcache\\local-packages\\python39\\site-packages (from requests) (2021.10.8)\n"
          ]
        }
      ],
      "source": [
        "# Install request package\n",
        "!pip install requests"
      ]
    },
    {
      "cell_type": "code",
      "execution_count": 20,
      "metadata": {
        "id": "OFIraFVkb2g3"
      },
      "outputs": [],
      "source": [
        "import requests"
      ]
    },
    {
      "cell_type": "markdown",
      "metadata": {
        "id": "0qE0ieb6b7oe"
      },
      "source": [
        "Data that is going to be collected can be seen from web browse here [Currency conversion API](https://r2de2-workshop-vmftiryt6q-ts.a.run.app/usd_thb_conversion_rate)  \n",
        "\n",
        "Data from GET method is in JSON format. Therefore, `.json()` will be used to convert data into dictionary.\n"
      ]
    },
    {
      "cell_type": "code",
      "execution_count": 22,
      "metadata": {
        "id": "mID4KWhzcinC"
      },
      "outputs": [],
      "source": [
        "url = \"https://r2de2-workshop-vmftiryt6q-ts.a.run.app/usd_thb_conversion_rate\"\n",
        "r = requests.get(url)\n",
        "result_conversion_rate = r.json()"
      ]
    },
    {
      "cell_type": "code",
      "execution_count": 32,
      "metadata": {
        "colab": {
          "base_uri": "https://localhost:8080/"
        },
        "id": "tiwuf4o-2DDH",
        "outputId": "c10f7b13-f5d3-4c34-a4f2-7406005d9159"
      },
      "outputs": [],
      "source": [
        "# Show example of results\n",
        "#result_conversion_rate['conversion_rate']\n",
        "# Very long!"
      ]
    },
    {
      "cell_type": "markdown",
      "metadata": {
        "id": "KbGeUEVXR5Ye"
      },
      "source": [
        "Check the data type."
      ]
    },
    {
      "cell_type": "code",
      "execution_count": 43,
      "metadata": {
        "colab": {
          "base_uri": "https://localhost:8080/"
        },
        "id": "qgIGR8KoQOdB",
        "outputId": "076869fc-452f-40a4-be33-ff29e787035e"
      },
      "outputs": [
        {
          "name": "stdout",
          "output_type": "stream",
          "text": [
            "<class 'dict'>\n"
          ]
        }
      ],
      "source": [
        "print(type(result_conversion_rate))\n",
        "assert isinstance(result_conversion_rate, dict)"
      ]
    },
    {
      "cell_type": "markdown",
      "metadata": {
        "id": "Rxp9qo9OvbfO"
      },
      "source": [
        " ### Convert to Pandas"
      ]
    },
    {
      "cell_type": "code",
      "execution_count": 52,
      "metadata": {
        "id": "QNcga24QusdA"
      },
      "outputs": [],
      "source": [
        "conversion_rate = pd.DataFrame(result_conversion_rate)"
      ]
    },
    {
      "cell_type": "code",
      "execution_count": 53,
      "metadata": {
        "colab": {
          "base_uri": "https://localhost:8080/",
          "height": 423
        },
        "id": "5sOYWtW3icvF",
        "outputId": "a0bee6d0-7279-4ee0-9b89-2162aa5a25a1"
      },
      "outputs": [
        {
          "data": {
            "text/html": [
              "<div>\n",
              "<style scoped>\n",
              "    .dataframe tbody tr th:only-of-type {\n",
              "        vertical-align: middle;\n",
              "    }\n",
              "\n",
              "    .dataframe tbody tr th {\n",
              "        vertical-align: top;\n",
              "    }\n",
              "\n",
              "    .dataframe thead th {\n",
              "        text-align: right;\n",
              "    }\n",
              "</style>\n",
              "<table border=\"1\" class=\"dataframe\">\n",
              "  <thead>\n",
              "    <tr style=\"text-align: right;\">\n",
              "      <th></th>\n",
              "      <th>conversion_rate</th>\n",
              "    </tr>\n",
              "  </thead>\n",
              "  <tbody>\n",
              "    <tr>\n",
              "      <th>2021-04-01</th>\n",
              "      <td>31.194</td>\n",
              "    </tr>\n",
              "    <tr>\n",
              "      <th>2021-04-02</th>\n",
              "      <td>31.290</td>\n",
              "    </tr>\n",
              "    <tr>\n",
              "      <th>2021-04-03</th>\n",
              "      <td>31.256</td>\n",
              "    </tr>\n",
              "    <tr>\n",
              "      <th>2021-04-04</th>\n",
              "      <td>31.244</td>\n",
              "    </tr>\n",
              "    <tr>\n",
              "      <th>2021-04-05</th>\n",
              "      <td>31.342</td>\n",
              "    </tr>\n",
              "  </tbody>\n",
              "</table>\n",
              "</div>"
            ],
            "text/plain": [
              "            conversion_rate\n",
              "2021-04-01           31.194\n",
              "2021-04-02           31.290\n",
              "2021-04-03           31.256\n",
              "2021-04-04           31.244\n",
              "2021-04-05           31.342"
            ]
          },
          "execution_count": 53,
          "metadata": {},
          "output_type": "execute_result"
        }
      ],
      "source": [
        "conversion_rate.head()"
      ]
    },
    {
      "cell_type": "markdown",
      "metadata": {
        "id": "2BSBl2N3qhXk"
      },
      "source": [
        "Transform index into date column for further joining."
      ]
    },
    {
      "cell_type": "code",
      "execution_count": 54,
      "metadata": {
        "colab": {
          "base_uri": "https://localhost:8080/",
          "height": 143
        },
        "id": "-RqNiXKmJDhC",
        "outputId": "8f30fb58-7599-4605-d06b-0d00208b5773"
      },
      "outputs": [
        {
          "data": {
            "text/html": [
              "<div>\n",
              "<style scoped>\n",
              "    .dataframe tbody tr th:only-of-type {\n",
              "        vertical-align: middle;\n",
              "    }\n",
              "\n",
              "    .dataframe tbody tr th {\n",
              "        vertical-align: top;\n",
              "    }\n",
              "\n",
              "    .dataframe thead th {\n",
              "        text-align: right;\n",
              "    }\n",
              "</style>\n",
              "<table border=\"1\" class=\"dataframe\">\n",
              "  <thead>\n",
              "    <tr style=\"text-align: right;\">\n",
              "      <th></th>\n",
              "      <th>date</th>\n",
              "      <th>conversion_rate</th>\n",
              "    </tr>\n",
              "  </thead>\n",
              "  <tbody>\n",
              "    <tr>\n",
              "      <th>0</th>\n",
              "      <td>2021-04-01</td>\n",
              "      <td>31.194</td>\n",
              "    </tr>\n",
              "    <tr>\n",
              "      <th>1</th>\n",
              "      <td>2021-04-02</td>\n",
              "      <td>31.290</td>\n",
              "    </tr>\n",
              "    <tr>\n",
              "      <th>2</th>\n",
              "      <td>2021-04-03</td>\n",
              "      <td>31.256</td>\n",
              "    </tr>\n",
              "  </tbody>\n",
              "</table>\n",
              "</div>"
            ],
            "text/plain": [
              "         date  conversion_rate\n",
              "0  2021-04-01           31.194\n",
              "1  2021-04-02           31.290\n",
              "2  2021-04-03           31.256"
            ]
          },
          "execution_count": 54,
          "metadata": {},
          "output_type": "execute_result"
        }
      ],
      "source": [
        "conversion_rate = conversion_rate.reset_index().rename(columns={\"index\": \"date\"})\n",
        "conversion_rate[:3]"
      ]
    },
    {
      "cell_type": "markdown",
      "metadata": {
        "id": "-YEnRnb7vOER"
      },
      "source": [
        "## 4. Join the data"
      ]
    },
    {
      "cell_type": "markdown",
      "metadata": {
        "id": "QEGJeMebvTXD"
      },
      "source": [
        "Conversion rate data will be joined with the transaction dataframe. However, timestamp column in transaction dataframe has to be converted to date column, so that the two dataframes can be joined."
      ]
    },
    {
      "cell_type": "code",
      "execution_count": 48,
      "metadata": {
        "colab": {
          "base_uri": "https://localhost:8080/",
          "height": 929
        },
        "id": "3mLbBR-e17Js",
        "outputId": "7228ad87-64f3-46cf-e192-67619aa51618"
      },
      "outputs": [
        {
          "data": {
            "text/html": [
              "<div>\n",
              "<style scoped>\n",
              "    .dataframe tbody tr th:only-of-type {\n",
              "        vertical-align: middle;\n",
              "    }\n",
              "\n",
              "    .dataframe tbody tr th {\n",
              "        vertical-align: top;\n",
              "    }\n",
              "\n",
              "    .dataframe thead th {\n",
              "        text-align: right;\n",
              "    }\n",
              "</style>\n",
              "<table border=\"1\" class=\"dataframe\">\n",
              "  <thead>\n",
              "    <tr style=\"text-align: right;\">\n",
              "      <th></th>\n",
              "      <th>timestamp</th>\n",
              "      <th>user_id</th>\n",
              "      <th>country</th>\n",
              "      <th>Book Title</th>\n",
              "      <th>Book Subtitle</th>\n",
              "      <th>Book Author</th>\n",
              "      <th>Book Narrator</th>\n",
              "      <th>Audio Runtime</th>\n",
              "      <th>Audiobook_Type</th>\n",
              "      <th>Categories</th>\n",
              "      <th>Rating</th>\n",
              "      <th>Total No. of Ratings</th>\n",
              "      <th>Price</th>\n",
              "    </tr>\n",
              "  </thead>\n",
              "  <tbody>\n",
              "    <tr>\n",
              "      <th>0</th>\n",
              "      <td>2021-05-01 00:00:01</td>\n",
              "      <td>ad8eca41</td>\n",
              "      <td>Portugal</td>\n",
              "      <td>Sycamore Row</td>\n",
              "      <td>None</td>\n",
              "      <td>John Grisham</td>\n",
              "      <td>Michael Beck</td>\n",
              "      <td>20 hrs and 46 mins</td>\n",
              "      <td>Unabridged Audiobook</td>\n",
              "      <td>Mystery, Thriller &amp; Suspense</td>\n",
              "      <td>4.6</td>\n",
              "      <td>25863.0</td>\n",
              "      <td>$35.00</td>\n",
              "    </tr>\n",
              "    <tr>\n",
              "      <th>1</th>\n",
              "      <td>2021-05-01 00:00:03</td>\n",
              "      <td>561b26c1</td>\n",
              "      <td>United States of America</td>\n",
              "      <td>The 5 Love Languages of Children</td>\n",
              "      <td>The Secret to Loving Children Effectively</td>\n",
              "      <td>Gary Chapman</td>\n",
              "      <td>Chris Fabry</td>\n",
              "      <td>5 hrs and 48 mins</td>\n",
              "      <td>Unabridged Audiobook</td>\n",
              "      <td>Relationships, Parenting &amp; Personal Development</td>\n",
              "      <td>4.8</td>\n",
              "      <td>2441.0</td>\n",
              "      <td>$19.59</td>\n",
              "    </tr>\n",
              "    <tr>\n",
              "      <th>2</th>\n",
              "      <td>2021-05-01 00:00:04</td>\n",
              "      <td>81f149e5</td>\n",
              "      <td>Japan</td>\n",
              "      <td>The Guardians</td>\n",
              "      <td>A Novel</td>\n",
              "      <td>John Grisham</td>\n",
              "      <td>Michael Beck</td>\n",
              "      <td>11 hrs and 50 mins</td>\n",
              "      <td>Unabridged Audiobook</td>\n",
              "      <td>Mystery, Thriller &amp; Suspense</td>\n",
              "      <td>4.6</td>\n",
              "      <td>26781.0</td>\n",
              "      <td>$31.50</td>\n",
              "    </tr>\n",
              "    <tr>\n",
              "      <th>3</th>\n",
              "      <td>2021-05-01 00:00:07</td>\n",
              "      <td>4f218413</td>\n",
              "      <td>Taiwan</td>\n",
              "      <td>How to Be a 3% Man</td>\n",
              "      <td>None</td>\n",
              "      <td>Corey Wayne</td>\n",
              "      <td>Corey Wayne</td>\n",
              "      <td>7 hrs and 33 mins</td>\n",
              "      <td>Unabridged Audiobook</td>\n",
              "      <td>Relationships, Parenting &amp; Personal Development</td>\n",
              "      <td>4.8</td>\n",
              "      <td>11459.0</td>\n",
              "      <td>$19.95</td>\n",
              "    </tr>\n",
              "    <tr>\n",
              "      <th>4</th>\n",
              "      <td>2021-05-01 00:00:18</td>\n",
              "      <td>a4066781</td>\n",
              "      <td>United States of America</td>\n",
              "      <td>Napoleon Hill's Outwitting the Devil</td>\n",
              "      <td>The Secret to Freedom and Success</td>\n",
              "      <td>Napoleon Hill</td>\n",
              "      <td>Dan John Miller</td>\n",
              "      <td>5 hrs and 51 mins</td>\n",
              "      <td>Unabridged Audiobook</td>\n",
              "      <td>Business &amp; Careers</td>\n",
              "      <td>4.8</td>\n",
              "      <td>9305.0</td>\n",
              "      <td>$17.49</td>\n",
              "    </tr>\n",
              "  </tbody>\n",
              "</table>\n",
              "</div>"
            ],
            "text/plain": [
              "            timestamp   user_id                   country  \\\n",
              "0 2021-05-01 00:00:01  ad8eca41                  Portugal   \n",
              "1 2021-05-01 00:00:03  561b26c1  United States of America   \n",
              "2 2021-05-01 00:00:04  81f149e5                     Japan   \n",
              "3 2021-05-01 00:00:07  4f218413                    Taiwan   \n",
              "4 2021-05-01 00:00:18  a4066781  United States of America   \n",
              "\n",
              "                             Book Title  \\\n",
              "0                          Sycamore Row   \n",
              "1      The 5 Love Languages of Children   \n",
              "2                         The Guardians   \n",
              "3                    How to Be a 3% Man   \n",
              "4  Napoleon Hill's Outwitting the Devil   \n",
              "\n",
              "                               Book Subtitle    Book Author    Book Narrator  \\\n",
              "0                                       None   John Grisham     Michael Beck   \n",
              "1  The Secret to Loving Children Effectively   Gary Chapman      Chris Fabry   \n",
              "2                                    A Novel   John Grisham     Michael Beck   \n",
              "3                                       None    Corey Wayne      Corey Wayne   \n",
              "4          The Secret to Freedom and Success  Napoleon Hill  Dan John Miller   \n",
              "\n",
              "        Audio Runtime        Audiobook_Type  \\\n",
              "0  20 hrs and 46 mins  Unabridged Audiobook   \n",
              "1   5 hrs and 48 mins  Unabridged Audiobook   \n",
              "2  11 hrs and 50 mins  Unabridged Audiobook   \n",
              "3   7 hrs and 33 mins  Unabridged Audiobook   \n",
              "4   5 hrs and 51 mins  Unabridged Audiobook   \n",
              "\n",
              "                                        Categories Rating  \\\n",
              "0                     Mystery, Thriller & Suspense    4.6   \n",
              "1  Relationships, Parenting & Personal Development    4.8   \n",
              "2                     Mystery, Thriller & Suspense    4.6   \n",
              "3  Relationships, Parenting & Personal Development    4.8   \n",
              "4                               Business & Careers    4.8   \n",
              "\n",
              "   Total No. of Ratings    Price  \n",
              "0               25863.0  $35.00   \n",
              "1                2441.0  $19.59   \n",
              "2               26781.0  $31.50   \n",
              "3               11459.0  $19.95   \n",
              "4                9305.0  $17.49   "
            ]
          },
          "execution_count": 48,
          "metadata": {},
          "output_type": "execute_result"
        }
      ],
      "source": [
        "transaction.head()"
      ]
    },
    {
      "cell_type": "code",
      "execution_count": 49,
      "metadata": {
        "colab": {
          "base_uri": "https://localhost:8080/",
          "height": 929
        },
        "id": "jizZTTbblbC-",
        "outputId": "9b6672fe-a5a1-492b-a7e0-9dc3551901da"
      },
      "outputs": [
        {
          "data": {
            "text/html": [
              "<div>\n",
              "<style scoped>\n",
              "    .dataframe tbody tr th:only-of-type {\n",
              "        vertical-align: middle;\n",
              "    }\n",
              "\n",
              "    .dataframe tbody tr th {\n",
              "        vertical-align: top;\n",
              "    }\n",
              "\n",
              "    .dataframe thead th {\n",
              "        text-align: right;\n",
              "    }\n",
              "</style>\n",
              "<table border=\"1\" class=\"dataframe\">\n",
              "  <thead>\n",
              "    <tr style=\"text-align: right;\">\n",
              "      <th></th>\n",
              "      <th>timestamp</th>\n",
              "      <th>user_id</th>\n",
              "      <th>country</th>\n",
              "      <th>Book Title</th>\n",
              "      <th>Book Subtitle</th>\n",
              "      <th>Book Author</th>\n",
              "      <th>Book Narrator</th>\n",
              "      <th>Audio Runtime</th>\n",
              "      <th>Audiobook_Type</th>\n",
              "      <th>Categories</th>\n",
              "      <th>Rating</th>\n",
              "      <th>Total No. of Ratings</th>\n",
              "      <th>Price</th>\n",
              "      <th>date</th>\n",
              "    </tr>\n",
              "  </thead>\n",
              "  <tbody>\n",
              "    <tr>\n",
              "      <th>0</th>\n",
              "      <td>2021-05-01 00:00:01</td>\n",
              "      <td>ad8eca41</td>\n",
              "      <td>Portugal</td>\n",
              "      <td>Sycamore Row</td>\n",
              "      <td>None</td>\n",
              "      <td>John Grisham</td>\n",
              "      <td>Michael Beck</td>\n",
              "      <td>20 hrs and 46 mins</td>\n",
              "      <td>Unabridged Audiobook</td>\n",
              "      <td>Mystery, Thriller &amp; Suspense</td>\n",
              "      <td>4.6</td>\n",
              "      <td>25863.0</td>\n",
              "      <td>$35.00</td>\n",
              "      <td>2021-05-01 00:00:01</td>\n",
              "    </tr>\n",
              "    <tr>\n",
              "      <th>1</th>\n",
              "      <td>2021-05-01 00:00:03</td>\n",
              "      <td>561b26c1</td>\n",
              "      <td>United States of America</td>\n",
              "      <td>The 5 Love Languages of Children</td>\n",
              "      <td>The Secret to Loving Children Effectively</td>\n",
              "      <td>Gary Chapman</td>\n",
              "      <td>Chris Fabry</td>\n",
              "      <td>5 hrs and 48 mins</td>\n",
              "      <td>Unabridged Audiobook</td>\n",
              "      <td>Relationships, Parenting &amp; Personal Development</td>\n",
              "      <td>4.8</td>\n",
              "      <td>2441.0</td>\n",
              "      <td>$19.59</td>\n",
              "      <td>2021-05-01 00:00:03</td>\n",
              "    </tr>\n",
              "    <tr>\n",
              "      <th>2</th>\n",
              "      <td>2021-05-01 00:00:04</td>\n",
              "      <td>81f149e5</td>\n",
              "      <td>Japan</td>\n",
              "      <td>The Guardians</td>\n",
              "      <td>A Novel</td>\n",
              "      <td>John Grisham</td>\n",
              "      <td>Michael Beck</td>\n",
              "      <td>11 hrs and 50 mins</td>\n",
              "      <td>Unabridged Audiobook</td>\n",
              "      <td>Mystery, Thriller &amp; Suspense</td>\n",
              "      <td>4.6</td>\n",
              "      <td>26781.0</td>\n",
              "      <td>$31.50</td>\n",
              "      <td>2021-05-01 00:00:04</td>\n",
              "    </tr>\n",
              "    <tr>\n",
              "      <th>3</th>\n",
              "      <td>2021-05-01 00:00:07</td>\n",
              "      <td>4f218413</td>\n",
              "      <td>Taiwan</td>\n",
              "      <td>How to Be a 3% Man</td>\n",
              "      <td>None</td>\n",
              "      <td>Corey Wayne</td>\n",
              "      <td>Corey Wayne</td>\n",
              "      <td>7 hrs and 33 mins</td>\n",
              "      <td>Unabridged Audiobook</td>\n",
              "      <td>Relationships, Parenting &amp; Personal Development</td>\n",
              "      <td>4.8</td>\n",
              "      <td>11459.0</td>\n",
              "      <td>$19.95</td>\n",
              "      <td>2021-05-01 00:00:07</td>\n",
              "    </tr>\n",
              "    <tr>\n",
              "      <th>4</th>\n",
              "      <td>2021-05-01 00:00:18</td>\n",
              "      <td>a4066781</td>\n",
              "      <td>United States of America</td>\n",
              "      <td>Napoleon Hill's Outwitting the Devil</td>\n",
              "      <td>The Secret to Freedom and Success</td>\n",
              "      <td>Napoleon Hill</td>\n",
              "      <td>Dan John Miller</td>\n",
              "      <td>5 hrs and 51 mins</td>\n",
              "      <td>Unabridged Audiobook</td>\n",
              "      <td>Business &amp; Careers</td>\n",
              "      <td>4.8</td>\n",
              "      <td>9305.0</td>\n",
              "      <td>$17.49</td>\n",
              "      <td>2021-05-01 00:00:18</td>\n",
              "    </tr>\n",
              "  </tbody>\n",
              "</table>\n",
              "</div>"
            ],
            "text/plain": [
              "            timestamp   user_id                   country  \\\n",
              "0 2021-05-01 00:00:01  ad8eca41                  Portugal   \n",
              "1 2021-05-01 00:00:03  561b26c1  United States of America   \n",
              "2 2021-05-01 00:00:04  81f149e5                     Japan   \n",
              "3 2021-05-01 00:00:07  4f218413                    Taiwan   \n",
              "4 2021-05-01 00:00:18  a4066781  United States of America   \n",
              "\n",
              "                             Book Title  \\\n",
              "0                          Sycamore Row   \n",
              "1      The 5 Love Languages of Children   \n",
              "2                         The Guardians   \n",
              "3                    How to Be a 3% Man   \n",
              "4  Napoleon Hill's Outwitting the Devil   \n",
              "\n",
              "                               Book Subtitle    Book Author    Book Narrator  \\\n",
              "0                                       None   John Grisham     Michael Beck   \n",
              "1  The Secret to Loving Children Effectively   Gary Chapman      Chris Fabry   \n",
              "2                                    A Novel   John Grisham     Michael Beck   \n",
              "3                                       None    Corey Wayne      Corey Wayne   \n",
              "4          The Secret to Freedom and Success  Napoleon Hill  Dan John Miller   \n",
              "\n",
              "        Audio Runtime        Audiobook_Type  \\\n",
              "0  20 hrs and 46 mins  Unabridged Audiobook   \n",
              "1   5 hrs and 48 mins  Unabridged Audiobook   \n",
              "2  11 hrs and 50 mins  Unabridged Audiobook   \n",
              "3   7 hrs and 33 mins  Unabridged Audiobook   \n",
              "4   5 hrs and 51 mins  Unabridged Audiobook   \n",
              "\n",
              "                                        Categories Rating  \\\n",
              "0                     Mystery, Thriller & Suspense    4.6   \n",
              "1  Relationships, Parenting & Personal Development    4.8   \n",
              "2                     Mystery, Thriller & Suspense    4.6   \n",
              "3  Relationships, Parenting & Personal Development    4.8   \n",
              "4                               Business & Careers    4.8   \n",
              "\n",
              "   Total No. of Ratings    Price                date  \n",
              "0               25863.0  $35.00  2021-05-01 00:00:01  \n",
              "1                2441.0  $19.59  2021-05-01 00:00:03  \n",
              "2               26781.0  $31.50  2021-05-01 00:00:04  \n",
              "3               11459.0  $19.95  2021-05-01 00:00:07  \n",
              "4                9305.0  $17.49  2021-05-01 00:00:18  "
            ]
          },
          "execution_count": 49,
          "metadata": {},
          "output_type": "execute_result"
        }
      ],
      "source": [
        "# Copy column timestamp to the new column called date\n",
        "transaction['date'] = transaction['timestamp']\n",
        "transaction.head()"
      ]
    },
    {
      "cell_type": "code",
      "execution_count": 55,
      "metadata": {
        "colab": {
          "base_uri": "https://localhost:8080/",
          "height": 521
        },
        "id": "ns3DWsatNnA5",
        "outputId": "70bceb35-8add-4783-b260-de3b92d08be4"
      },
      "outputs": [
        {
          "data": {
            "text/html": [
              "<div>\n",
              "<style scoped>\n",
              "    .dataframe tbody tr th:only-of-type {\n",
              "        vertical-align: middle;\n",
              "    }\n",
              "\n",
              "    .dataframe tbody tr th {\n",
              "        vertical-align: top;\n",
              "    }\n",
              "\n",
              "    .dataframe thead th {\n",
              "        text-align: right;\n",
              "    }\n",
              "</style>\n",
              "<table border=\"1\" class=\"dataframe\">\n",
              "  <thead>\n",
              "    <tr style=\"text-align: right;\">\n",
              "      <th></th>\n",
              "      <th>timestamp</th>\n",
              "      <th>user_id</th>\n",
              "      <th>country</th>\n",
              "      <th>Book Title</th>\n",
              "      <th>Book Subtitle</th>\n",
              "      <th>Book Author</th>\n",
              "      <th>Book Narrator</th>\n",
              "      <th>Audio Runtime</th>\n",
              "      <th>Audiobook_Type</th>\n",
              "      <th>Categories</th>\n",
              "      <th>Rating</th>\n",
              "      <th>Total No. of Ratings</th>\n",
              "      <th>Price</th>\n",
              "      <th>date</th>\n",
              "    </tr>\n",
              "  </thead>\n",
              "  <tbody>\n",
              "    <tr>\n",
              "      <th>0</th>\n",
              "      <td>2021-05-01 00:00:01</td>\n",
              "      <td>ad8eca41</td>\n",
              "      <td>Portugal</td>\n",
              "      <td>Sycamore Row</td>\n",
              "      <td>None</td>\n",
              "      <td>John Grisham</td>\n",
              "      <td>Michael Beck</td>\n",
              "      <td>20 hrs and 46 mins</td>\n",
              "      <td>Unabridged Audiobook</td>\n",
              "      <td>Mystery, Thriller &amp; Suspense</td>\n",
              "      <td>4.6</td>\n",
              "      <td>25863.0</td>\n",
              "      <td>$35.00</td>\n",
              "      <td>2021-05-01</td>\n",
              "    </tr>\n",
              "    <tr>\n",
              "      <th>1</th>\n",
              "      <td>2021-05-01 00:00:03</td>\n",
              "      <td>561b26c1</td>\n",
              "      <td>United States of America</td>\n",
              "      <td>The 5 Love Languages of Children</td>\n",
              "      <td>The Secret to Loving Children Effectively</td>\n",
              "      <td>Gary Chapman</td>\n",
              "      <td>Chris Fabry</td>\n",
              "      <td>5 hrs and 48 mins</td>\n",
              "      <td>Unabridged Audiobook</td>\n",
              "      <td>Relationships, Parenting &amp; Personal Development</td>\n",
              "      <td>4.8</td>\n",
              "      <td>2441.0</td>\n",
              "      <td>$19.59</td>\n",
              "      <td>2021-05-01</td>\n",
              "    </tr>\n",
              "    <tr>\n",
              "      <th>2</th>\n",
              "      <td>2021-05-01 00:00:04</td>\n",
              "      <td>81f149e5</td>\n",
              "      <td>Japan</td>\n",
              "      <td>The Guardians</td>\n",
              "      <td>A Novel</td>\n",
              "      <td>John Grisham</td>\n",
              "      <td>Michael Beck</td>\n",
              "      <td>11 hrs and 50 mins</td>\n",
              "      <td>Unabridged Audiobook</td>\n",
              "      <td>Mystery, Thriller &amp; Suspense</td>\n",
              "      <td>4.6</td>\n",
              "      <td>26781.0</td>\n",
              "      <td>$31.50</td>\n",
              "      <td>2021-05-01</td>\n",
              "    </tr>\n",
              "    <tr>\n",
              "      <th>3</th>\n",
              "      <td>2021-05-01 00:00:07</td>\n",
              "      <td>4f218413</td>\n",
              "      <td>Taiwan</td>\n",
              "      <td>How to Be a 3% Man</td>\n",
              "      <td>None</td>\n",
              "      <td>Corey Wayne</td>\n",
              "      <td>Corey Wayne</td>\n",
              "      <td>7 hrs and 33 mins</td>\n",
              "      <td>Unabridged Audiobook</td>\n",
              "      <td>Relationships, Parenting &amp; Personal Development</td>\n",
              "      <td>4.8</td>\n",
              "      <td>11459.0</td>\n",
              "      <td>$19.95</td>\n",
              "      <td>2021-05-01</td>\n",
              "    </tr>\n",
              "    <tr>\n",
              "      <th>4</th>\n",
              "      <td>2021-05-01 00:00:18</td>\n",
              "      <td>a4066781</td>\n",
              "      <td>United States of America</td>\n",
              "      <td>Napoleon Hill's Outwitting the Devil</td>\n",
              "      <td>The Secret to Freedom and Success</td>\n",
              "      <td>Napoleon Hill</td>\n",
              "      <td>Dan John Miller</td>\n",
              "      <td>5 hrs and 51 mins</td>\n",
              "      <td>Unabridged Audiobook</td>\n",
              "      <td>Business &amp; Careers</td>\n",
              "      <td>4.8</td>\n",
              "      <td>9305.0</td>\n",
              "      <td>$17.49</td>\n",
              "      <td>2021-05-01</td>\n",
              "    </tr>\n",
              "  </tbody>\n",
              "</table>\n",
              "</div>"
            ],
            "text/plain": [
              "            timestamp   user_id                   country  \\\n",
              "0 2021-05-01 00:00:01  ad8eca41                  Portugal   \n",
              "1 2021-05-01 00:00:03  561b26c1  United States of America   \n",
              "2 2021-05-01 00:00:04  81f149e5                     Japan   \n",
              "3 2021-05-01 00:00:07  4f218413                    Taiwan   \n",
              "4 2021-05-01 00:00:18  a4066781  United States of America   \n",
              "\n",
              "                             Book Title  \\\n",
              "0                          Sycamore Row   \n",
              "1      The 5 Love Languages of Children   \n",
              "2                         The Guardians   \n",
              "3                    How to Be a 3% Man   \n",
              "4  Napoleon Hill's Outwitting the Devil   \n",
              "\n",
              "                               Book Subtitle    Book Author    Book Narrator  \\\n",
              "0                                       None   John Grisham     Michael Beck   \n",
              "1  The Secret to Loving Children Effectively   Gary Chapman      Chris Fabry   \n",
              "2                                    A Novel   John Grisham     Michael Beck   \n",
              "3                                       None    Corey Wayne      Corey Wayne   \n",
              "4          The Secret to Freedom and Success  Napoleon Hill  Dan John Miller   \n",
              "\n",
              "        Audio Runtime        Audiobook_Type  \\\n",
              "0  20 hrs and 46 mins  Unabridged Audiobook   \n",
              "1   5 hrs and 48 mins  Unabridged Audiobook   \n",
              "2  11 hrs and 50 mins  Unabridged Audiobook   \n",
              "3   7 hrs and 33 mins  Unabridged Audiobook   \n",
              "4   5 hrs and 51 mins  Unabridged Audiobook   \n",
              "\n",
              "                                        Categories Rating  \\\n",
              "0                     Mystery, Thriller & Suspense    4.6   \n",
              "1  Relationships, Parenting & Personal Development    4.8   \n",
              "2                     Mystery, Thriller & Suspense    4.6   \n",
              "3  Relationships, Parenting & Personal Development    4.8   \n",
              "4                               Business & Careers    4.8   \n",
              "\n",
              "   Total No. of Ratings    Price        date  \n",
              "0               25863.0  $35.00   2021-05-01  \n",
              "1                2441.0  $19.59   2021-05-01  \n",
              "2               26781.0  $31.50   2021-05-01  \n",
              "3               11459.0  $19.95   2021-05-01  \n",
              "4                9305.0  $17.49   2021-05-01  "
            ]
          },
          "execution_count": 55,
          "metadata": {},
          "output_type": "execute_result"
        }
      ],
      "source": [
        "# Make sure that date column from both dataframes is in datetime format\n",
        "transaction['date'] = pd.to_datetime(transaction['date']).dt.date\n",
        "conversion_rate['date'] = pd.to_datetime(conversion_rate['date']).dt.date\n",
        "transaction.head()"
      ]
    },
    {
      "cell_type": "code",
      "execution_count": 57,
      "metadata": {
        "colab": {
          "base_uri": "https://localhost:8080/",
          "height": 929
        },
        "id": "qzQvG2XB9map",
        "outputId": "3d872e19-33d0-4c4f-e1e8-fdfd11601e5d"
      },
      "outputs": [
        {
          "data": {
            "text/html": [
              "<div>\n",
              "<style scoped>\n",
              "    .dataframe tbody tr th:only-of-type {\n",
              "        vertical-align: middle;\n",
              "    }\n",
              "\n",
              "    .dataframe tbody tr th {\n",
              "        vertical-align: top;\n",
              "    }\n",
              "\n",
              "    .dataframe thead th {\n",
              "        text-align: right;\n",
              "    }\n",
              "</style>\n",
              "<table border=\"1\" class=\"dataframe\">\n",
              "  <thead>\n",
              "    <tr style=\"text-align: right;\">\n",
              "      <th></th>\n",
              "      <th>timestamp</th>\n",
              "      <th>user_id</th>\n",
              "      <th>country</th>\n",
              "      <th>Book Title</th>\n",
              "      <th>Book Subtitle</th>\n",
              "      <th>Book Author</th>\n",
              "      <th>Book Narrator</th>\n",
              "      <th>Audio Runtime</th>\n",
              "      <th>Audiobook_Type</th>\n",
              "      <th>Categories</th>\n",
              "      <th>Rating</th>\n",
              "      <th>Total No. of Ratings</th>\n",
              "      <th>Price</th>\n",
              "      <th>date</th>\n",
              "      <th>conversion_rate</th>\n",
              "    </tr>\n",
              "  </thead>\n",
              "  <tbody>\n",
              "    <tr>\n",
              "      <th>0</th>\n",
              "      <td>2021-05-01 00:00:01</td>\n",
              "      <td>ad8eca41</td>\n",
              "      <td>Portugal</td>\n",
              "      <td>Sycamore Row</td>\n",
              "      <td>None</td>\n",
              "      <td>John Grisham</td>\n",
              "      <td>Michael Beck</td>\n",
              "      <td>20 hrs and 46 mins</td>\n",
              "      <td>Unabridged Audiobook</td>\n",
              "      <td>Mystery, Thriller &amp; Suspense</td>\n",
              "      <td>4.6</td>\n",
              "      <td>25863.0</td>\n",
              "      <td>$35.00</td>\n",
              "      <td>2021-05-01</td>\n",
              "      <td>31.14</td>\n",
              "    </tr>\n",
              "    <tr>\n",
              "      <th>1</th>\n",
              "      <td>2021-05-01 00:00:03</td>\n",
              "      <td>561b26c1</td>\n",
              "      <td>United States of America</td>\n",
              "      <td>The 5 Love Languages of Children</td>\n",
              "      <td>The Secret to Loving Children Effectively</td>\n",
              "      <td>Gary Chapman</td>\n",
              "      <td>Chris Fabry</td>\n",
              "      <td>5 hrs and 48 mins</td>\n",
              "      <td>Unabridged Audiobook</td>\n",
              "      <td>Relationships, Parenting &amp; Personal Development</td>\n",
              "      <td>4.8</td>\n",
              "      <td>2441.0</td>\n",
              "      <td>$19.59</td>\n",
              "      <td>2021-05-01</td>\n",
              "      <td>31.14</td>\n",
              "    </tr>\n",
              "    <tr>\n",
              "      <th>2</th>\n",
              "      <td>2021-05-01 00:00:04</td>\n",
              "      <td>81f149e5</td>\n",
              "      <td>Japan</td>\n",
              "      <td>The Guardians</td>\n",
              "      <td>A Novel</td>\n",
              "      <td>John Grisham</td>\n",
              "      <td>Michael Beck</td>\n",
              "      <td>11 hrs and 50 mins</td>\n",
              "      <td>Unabridged Audiobook</td>\n",
              "      <td>Mystery, Thriller &amp; Suspense</td>\n",
              "      <td>4.6</td>\n",
              "      <td>26781.0</td>\n",
              "      <td>$31.50</td>\n",
              "      <td>2021-05-01</td>\n",
              "      <td>31.14</td>\n",
              "    </tr>\n",
              "    <tr>\n",
              "      <th>3</th>\n",
              "      <td>2021-05-01 00:00:07</td>\n",
              "      <td>4f218413</td>\n",
              "      <td>Taiwan</td>\n",
              "      <td>How to Be a 3% Man</td>\n",
              "      <td>None</td>\n",
              "      <td>Corey Wayne</td>\n",
              "      <td>Corey Wayne</td>\n",
              "      <td>7 hrs and 33 mins</td>\n",
              "      <td>Unabridged Audiobook</td>\n",
              "      <td>Relationships, Parenting &amp; Personal Development</td>\n",
              "      <td>4.8</td>\n",
              "      <td>11459.0</td>\n",
              "      <td>$19.95</td>\n",
              "      <td>2021-05-01</td>\n",
              "      <td>31.14</td>\n",
              "    </tr>\n",
              "    <tr>\n",
              "      <th>4</th>\n",
              "      <td>2021-05-01 00:00:18</td>\n",
              "      <td>a4066781</td>\n",
              "      <td>United States of America</td>\n",
              "      <td>Napoleon Hill's Outwitting the Devil</td>\n",
              "      <td>The Secret to Freedom and Success</td>\n",
              "      <td>Napoleon Hill</td>\n",
              "      <td>Dan John Miller</td>\n",
              "      <td>5 hrs and 51 mins</td>\n",
              "      <td>Unabridged Audiobook</td>\n",
              "      <td>Business &amp; Careers</td>\n",
              "      <td>4.8</td>\n",
              "      <td>9305.0</td>\n",
              "      <td>$17.49</td>\n",
              "      <td>2021-05-01</td>\n",
              "      <td>31.14</td>\n",
              "    </tr>\n",
              "  </tbody>\n",
              "</table>\n",
              "</div>"
            ],
            "text/plain": [
              "            timestamp   user_id                   country  \\\n",
              "0 2021-05-01 00:00:01  ad8eca41                  Portugal   \n",
              "1 2021-05-01 00:00:03  561b26c1  United States of America   \n",
              "2 2021-05-01 00:00:04  81f149e5                     Japan   \n",
              "3 2021-05-01 00:00:07  4f218413                    Taiwan   \n",
              "4 2021-05-01 00:00:18  a4066781  United States of America   \n",
              "\n",
              "                             Book Title  \\\n",
              "0                          Sycamore Row   \n",
              "1      The 5 Love Languages of Children   \n",
              "2                         The Guardians   \n",
              "3                    How to Be a 3% Man   \n",
              "4  Napoleon Hill's Outwitting the Devil   \n",
              "\n",
              "                               Book Subtitle    Book Author    Book Narrator  \\\n",
              "0                                       None   John Grisham     Michael Beck   \n",
              "1  The Secret to Loving Children Effectively   Gary Chapman      Chris Fabry   \n",
              "2                                    A Novel   John Grisham     Michael Beck   \n",
              "3                                       None    Corey Wayne      Corey Wayne   \n",
              "4          The Secret to Freedom and Success  Napoleon Hill  Dan John Miller   \n",
              "\n",
              "        Audio Runtime        Audiobook_Type  \\\n",
              "0  20 hrs and 46 mins  Unabridged Audiobook   \n",
              "1   5 hrs and 48 mins  Unabridged Audiobook   \n",
              "2  11 hrs and 50 mins  Unabridged Audiobook   \n",
              "3   7 hrs and 33 mins  Unabridged Audiobook   \n",
              "4   5 hrs and 51 mins  Unabridged Audiobook   \n",
              "\n",
              "                                        Categories Rating  \\\n",
              "0                     Mystery, Thriller & Suspense    4.6   \n",
              "1  Relationships, Parenting & Personal Development    4.8   \n",
              "2                     Mystery, Thriller & Suspense    4.6   \n",
              "3  Relationships, Parenting & Personal Development    4.8   \n",
              "4                               Business & Careers    4.8   \n",
              "\n",
              "   Total No. of Ratings    Price        date  conversion_rate  \n",
              "0               25863.0  $35.00   2021-05-01            31.14  \n",
              "1                2441.0  $19.59   2021-05-01            31.14  \n",
              "2               26781.0  $31.50   2021-05-01            31.14  \n",
              "3               11459.0  $19.95   2021-05-01            31.14  \n",
              "4                9305.0  $17.49   2021-05-01            31.14  "
            ]
          },
          "execution_count": 57,
          "metadata": {},
          "output_type": "execute_result"
        }
      ],
      "source": [
        "# Join two datafrmes together\n",
        "final_df = transaction.merge(conversion_rate, how=\"left\", left_on=\"date\", right_on=\"date\")\n",
        "final_df.head()"
      ]
    },
    {
      "cell_type": "markdown",
      "metadata": {
        "id": "L2nPyz7aBcHq"
      },
      "source": [
        "However, the price column is in string format, with $ sign. The sign will be removed with apply function first. Then, the column will be converted to float type. "
      ]
    },
    {
      "cell_type": "code",
      "execution_count": 58,
      "metadata": {
        "colab": {
          "base_uri": "https://localhost:8080/",
          "height": 521
        },
        "id": "1zbR_Scz4lF6",
        "outputId": "77103eae-f2ae-45c7-f4c9-f975c403e6af"
      },
      "outputs": [
        {
          "data": {
            "text/html": [
              "<div>\n",
              "<style scoped>\n",
              "    .dataframe tbody tr th:only-of-type {\n",
              "        vertical-align: middle;\n",
              "    }\n",
              "\n",
              "    .dataframe tbody tr th {\n",
              "        vertical-align: top;\n",
              "    }\n",
              "\n",
              "    .dataframe thead th {\n",
              "        text-align: right;\n",
              "    }\n",
              "</style>\n",
              "<table border=\"1\" class=\"dataframe\">\n",
              "  <thead>\n",
              "    <tr style=\"text-align: right;\">\n",
              "      <th></th>\n",
              "      <th>timestamp</th>\n",
              "      <th>user_id</th>\n",
              "      <th>country</th>\n",
              "      <th>Book Title</th>\n",
              "      <th>Book Subtitle</th>\n",
              "      <th>Book Author</th>\n",
              "      <th>Book Narrator</th>\n",
              "      <th>Audio Runtime</th>\n",
              "      <th>Audiobook_Type</th>\n",
              "      <th>Categories</th>\n",
              "      <th>Rating</th>\n",
              "      <th>Total No. of Ratings</th>\n",
              "      <th>Price</th>\n",
              "      <th>date</th>\n",
              "      <th>conversion_rate</th>\n",
              "    </tr>\n",
              "  </thead>\n",
              "  <tbody>\n",
              "    <tr>\n",
              "      <th>0</th>\n",
              "      <td>2021-05-01 00:00:01</td>\n",
              "      <td>ad8eca41</td>\n",
              "      <td>Portugal</td>\n",
              "      <td>Sycamore Row</td>\n",
              "      <td>None</td>\n",
              "      <td>John Grisham</td>\n",
              "      <td>Michael Beck</td>\n",
              "      <td>20 hrs and 46 mins</td>\n",
              "      <td>Unabridged Audiobook</td>\n",
              "      <td>Mystery, Thriller &amp; Suspense</td>\n",
              "      <td>4.6</td>\n",
              "      <td>25863.0</td>\n",
              "      <td>35.00</td>\n",
              "      <td>2021-05-01</td>\n",
              "      <td>31.14</td>\n",
              "    </tr>\n",
              "    <tr>\n",
              "      <th>1</th>\n",
              "      <td>2021-05-01 00:00:03</td>\n",
              "      <td>561b26c1</td>\n",
              "      <td>United States of America</td>\n",
              "      <td>The 5 Love Languages of Children</td>\n",
              "      <td>The Secret to Loving Children Effectively</td>\n",
              "      <td>Gary Chapman</td>\n",
              "      <td>Chris Fabry</td>\n",
              "      <td>5 hrs and 48 mins</td>\n",
              "      <td>Unabridged Audiobook</td>\n",
              "      <td>Relationships, Parenting &amp; Personal Development</td>\n",
              "      <td>4.8</td>\n",
              "      <td>2441.0</td>\n",
              "      <td>19.59</td>\n",
              "      <td>2021-05-01</td>\n",
              "      <td>31.14</td>\n",
              "    </tr>\n",
              "    <tr>\n",
              "      <th>2</th>\n",
              "      <td>2021-05-01 00:00:04</td>\n",
              "      <td>81f149e5</td>\n",
              "      <td>Japan</td>\n",
              "      <td>The Guardians</td>\n",
              "      <td>A Novel</td>\n",
              "      <td>John Grisham</td>\n",
              "      <td>Michael Beck</td>\n",
              "      <td>11 hrs and 50 mins</td>\n",
              "      <td>Unabridged Audiobook</td>\n",
              "      <td>Mystery, Thriller &amp; Suspense</td>\n",
              "      <td>4.6</td>\n",
              "      <td>26781.0</td>\n",
              "      <td>31.50</td>\n",
              "      <td>2021-05-01</td>\n",
              "      <td>31.14</td>\n",
              "    </tr>\n",
              "    <tr>\n",
              "      <th>3</th>\n",
              "      <td>2021-05-01 00:00:07</td>\n",
              "      <td>4f218413</td>\n",
              "      <td>Taiwan</td>\n",
              "      <td>How to Be a 3% Man</td>\n",
              "      <td>None</td>\n",
              "      <td>Corey Wayne</td>\n",
              "      <td>Corey Wayne</td>\n",
              "      <td>7 hrs and 33 mins</td>\n",
              "      <td>Unabridged Audiobook</td>\n",
              "      <td>Relationships, Parenting &amp; Personal Development</td>\n",
              "      <td>4.8</td>\n",
              "      <td>11459.0</td>\n",
              "      <td>19.95</td>\n",
              "      <td>2021-05-01</td>\n",
              "      <td>31.14</td>\n",
              "    </tr>\n",
              "    <tr>\n",
              "      <th>4</th>\n",
              "      <td>2021-05-01 00:00:18</td>\n",
              "      <td>a4066781</td>\n",
              "      <td>United States of America</td>\n",
              "      <td>Napoleon Hill's Outwitting the Devil</td>\n",
              "      <td>The Secret to Freedom and Success</td>\n",
              "      <td>Napoleon Hill</td>\n",
              "      <td>Dan John Miller</td>\n",
              "      <td>5 hrs and 51 mins</td>\n",
              "      <td>Unabridged Audiobook</td>\n",
              "      <td>Business &amp; Careers</td>\n",
              "      <td>4.8</td>\n",
              "      <td>9305.0</td>\n",
              "      <td>17.49</td>\n",
              "      <td>2021-05-01</td>\n",
              "      <td>31.14</td>\n",
              "    </tr>\n",
              "  </tbody>\n",
              "</table>\n",
              "</div>"
            ],
            "text/plain": [
              "            timestamp   user_id                   country  \\\n",
              "0 2021-05-01 00:00:01  ad8eca41                  Portugal   \n",
              "1 2021-05-01 00:00:03  561b26c1  United States of America   \n",
              "2 2021-05-01 00:00:04  81f149e5                     Japan   \n",
              "3 2021-05-01 00:00:07  4f218413                    Taiwan   \n",
              "4 2021-05-01 00:00:18  a4066781  United States of America   \n",
              "\n",
              "                             Book Title  \\\n",
              "0                          Sycamore Row   \n",
              "1      The 5 Love Languages of Children   \n",
              "2                         The Guardians   \n",
              "3                    How to Be a 3% Man   \n",
              "4  Napoleon Hill's Outwitting the Devil   \n",
              "\n",
              "                               Book Subtitle    Book Author    Book Narrator  \\\n",
              "0                                       None   John Grisham     Michael Beck   \n",
              "1  The Secret to Loving Children Effectively   Gary Chapman      Chris Fabry   \n",
              "2                                    A Novel   John Grisham     Michael Beck   \n",
              "3                                       None    Corey Wayne      Corey Wayne   \n",
              "4          The Secret to Freedom and Success  Napoleon Hill  Dan John Miller   \n",
              "\n",
              "        Audio Runtime        Audiobook_Type  \\\n",
              "0  20 hrs and 46 mins  Unabridged Audiobook   \n",
              "1   5 hrs and 48 mins  Unabridged Audiobook   \n",
              "2  11 hrs and 50 mins  Unabridged Audiobook   \n",
              "3   7 hrs and 33 mins  Unabridged Audiobook   \n",
              "4   5 hrs and 51 mins  Unabridged Audiobook   \n",
              "\n",
              "                                        Categories Rating  \\\n",
              "0                     Mystery, Thriller & Suspense    4.6   \n",
              "1  Relationships, Parenting & Personal Development    4.8   \n",
              "2                     Mystery, Thriller & Suspense    4.6   \n",
              "3  Relationships, Parenting & Personal Development    4.8   \n",
              "4                               Business & Careers    4.8   \n",
              "\n",
              "   Total No. of Ratings   Price        date  conversion_rate  \n",
              "0               25863.0  35.00   2021-05-01            31.14  \n",
              "1                2441.0  19.59   2021-05-01            31.14  \n",
              "2               26781.0  31.50   2021-05-01            31.14  \n",
              "3               11459.0  19.95   2021-05-01            31.14  \n",
              "4                9305.0  17.49   2021-05-01            31.14  "
            ]
          },
          "execution_count": 58,
          "metadata": {},
          "output_type": "execute_result"
        }
      ],
      "source": [
        "# remove $ sign\n",
        "final_df[\"Price\"] = final_df.apply(lambda x: x[\"Price\"].replace(\"$\",\"\"), axis=1)\n",
        "final_df.head()"
      ]
    },
    {
      "cell_type": "code",
      "execution_count": 59,
      "metadata": {
        "id": "fs0l_UgQrCGP"
      },
      "outputs": [],
      "source": [
        "# Convert to float type\n",
        "final_df[\"Price\"] = final_df[\"Price\"].astype(float)"
      ]
    },
    {
      "cell_type": "code",
      "execution_count": 61,
      "metadata": {
        "colab": {
          "base_uri": "https://localhost:8080/"
        },
        "id": "zA0bwCBfrdYX",
        "outputId": "9aac0b80-9275-4051-9110-6075e3bd81c1"
      },
      "outputs": [
        {
          "data": {
            "text/plain": [
              "timestamp               datetime64[ns]\n",
              "user_id                         object\n",
              "country                         object\n",
              "Book Title                      object\n",
              "Book Subtitle                   object\n",
              "Book Author                     object\n",
              "Book Narrator                   object\n",
              "Audio Runtime                   object\n",
              "Audiobook_Type                  object\n",
              "Categories                      object\n",
              "Rating                          object\n",
              "Total No. of Ratings           float64\n",
              "Price                          float64\n",
              "date                            object\n",
              "conversion_rate                float64\n",
              "dtype: object"
            ]
          },
          "execution_count": 61,
          "metadata": {},
          "output_type": "execute_result"
        }
      ],
      "source": [
        "# Check type of all columns\n",
        "final_df.dtypes"
      ]
    },
    {
      "cell_type": "markdown",
      "metadata": {
        "id": "p3MRdJ0hQuVm"
      },
      "source": [
        "After joining, create 'THBPrice' column as a product of multiplication between price and conversion rate."
      ]
    },
    {
      "cell_type": "code",
      "execution_count": 63,
      "metadata": {
        "colab": {
          "base_uri": "https://localhost:8080/",
          "height": 929
        },
        "id": "VzoKQqnGQ7cO",
        "outputId": "3061296b-96bb-402b-d610-d034f4c76cab"
      },
      "outputs": [
        {
          "data": {
            "text/html": [
              "<div>\n",
              "<style scoped>\n",
              "    .dataframe tbody tr th:only-of-type {\n",
              "        vertical-align: middle;\n",
              "    }\n",
              "\n",
              "    .dataframe tbody tr th {\n",
              "        vertical-align: top;\n",
              "    }\n",
              "\n",
              "    .dataframe thead th {\n",
              "        text-align: right;\n",
              "    }\n",
              "</style>\n",
              "<table border=\"1\" class=\"dataframe\">\n",
              "  <thead>\n",
              "    <tr style=\"text-align: right;\">\n",
              "      <th></th>\n",
              "      <th>timestamp</th>\n",
              "      <th>user_id</th>\n",
              "      <th>country</th>\n",
              "      <th>Book Title</th>\n",
              "      <th>Book Subtitle</th>\n",
              "      <th>Book Author</th>\n",
              "      <th>Book Narrator</th>\n",
              "      <th>Audio Runtime</th>\n",
              "      <th>Audiobook_Type</th>\n",
              "      <th>Categories</th>\n",
              "      <th>Rating</th>\n",
              "      <th>Total No. of Ratings</th>\n",
              "      <th>Price</th>\n",
              "      <th>date</th>\n",
              "      <th>conversion_rate</th>\n",
              "      <th>THBPrice</th>\n",
              "    </tr>\n",
              "  </thead>\n",
              "  <tbody>\n",
              "    <tr>\n",
              "      <th>0</th>\n",
              "      <td>2021-05-01 00:00:01</td>\n",
              "      <td>ad8eca41</td>\n",
              "      <td>Portugal</td>\n",
              "      <td>Sycamore Row</td>\n",
              "      <td>None</td>\n",
              "      <td>John Grisham</td>\n",
              "      <td>Michael Beck</td>\n",
              "      <td>20 hrs and 46 mins</td>\n",
              "      <td>Unabridged Audiobook</td>\n",
              "      <td>Mystery, Thriller &amp; Suspense</td>\n",
              "      <td>4.6</td>\n",
              "      <td>25863.0</td>\n",
              "      <td>35.00</td>\n",
              "      <td>2021-05-01</td>\n",
              "      <td>31.14</td>\n",
              "      <td>1089.9000</td>\n",
              "    </tr>\n",
              "    <tr>\n",
              "      <th>1</th>\n",
              "      <td>2021-05-01 00:00:03</td>\n",
              "      <td>561b26c1</td>\n",
              "      <td>United States of America</td>\n",
              "      <td>The 5 Love Languages of Children</td>\n",
              "      <td>The Secret to Loving Children Effectively</td>\n",
              "      <td>Gary Chapman</td>\n",
              "      <td>Chris Fabry</td>\n",
              "      <td>5 hrs and 48 mins</td>\n",
              "      <td>Unabridged Audiobook</td>\n",
              "      <td>Relationships, Parenting &amp; Personal Development</td>\n",
              "      <td>4.8</td>\n",
              "      <td>2441.0</td>\n",
              "      <td>19.59</td>\n",
              "      <td>2021-05-01</td>\n",
              "      <td>31.14</td>\n",
              "      <td>610.0326</td>\n",
              "    </tr>\n",
              "    <tr>\n",
              "      <th>2</th>\n",
              "      <td>2021-05-01 00:00:04</td>\n",
              "      <td>81f149e5</td>\n",
              "      <td>Japan</td>\n",
              "      <td>The Guardians</td>\n",
              "      <td>A Novel</td>\n",
              "      <td>John Grisham</td>\n",
              "      <td>Michael Beck</td>\n",
              "      <td>11 hrs and 50 mins</td>\n",
              "      <td>Unabridged Audiobook</td>\n",
              "      <td>Mystery, Thriller &amp; Suspense</td>\n",
              "      <td>4.6</td>\n",
              "      <td>26781.0</td>\n",
              "      <td>31.50</td>\n",
              "      <td>2021-05-01</td>\n",
              "      <td>31.14</td>\n",
              "      <td>980.9100</td>\n",
              "    </tr>\n",
              "    <tr>\n",
              "      <th>3</th>\n",
              "      <td>2021-05-01 00:00:07</td>\n",
              "      <td>4f218413</td>\n",
              "      <td>Taiwan</td>\n",
              "      <td>How to Be a 3% Man</td>\n",
              "      <td>None</td>\n",
              "      <td>Corey Wayne</td>\n",
              "      <td>Corey Wayne</td>\n",
              "      <td>7 hrs and 33 mins</td>\n",
              "      <td>Unabridged Audiobook</td>\n",
              "      <td>Relationships, Parenting &amp; Personal Development</td>\n",
              "      <td>4.8</td>\n",
              "      <td>11459.0</td>\n",
              "      <td>19.95</td>\n",
              "      <td>2021-05-01</td>\n",
              "      <td>31.14</td>\n",
              "      <td>621.2430</td>\n",
              "    </tr>\n",
              "    <tr>\n",
              "      <th>4</th>\n",
              "      <td>2021-05-01 00:00:18</td>\n",
              "      <td>a4066781</td>\n",
              "      <td>United States of America</td>\n",
              "      <td>Napoleon Hill's Outwitting the Devil</td>\n",
              "      <td>The Secret to Freedom and Success</td>\n",
              "      <td>Napoleon Hill</td>\n",
              "      <td>Dan John Miller</td>\n",
              "      <td>5 hrs and 51 mins</td>\n",
              "      <td>Unabridged Audiobook</td>\n",
              "      <td>Business &amp; Careers</td>\n",
              "      <td>4.8</td>\n",
              "      <td>9305.0</td>\n",
              "      <td>17.49</td>\n",
              "      <td>2021-05-01</td>\n",
              "      <td>31.14</td>\n",
              "      <td>544.6386</td>\n",
              "    </tr>\n",
              "  </tbody>\n",
              "</table>\n",
              "</div>"
            ],
            "text/plain": [
              "            timestamp   user_id                   country  \\\n",
              "0 2021-05-01 00:00:01  ad8eca41                  Portugal   \n",
              "1 2021-05-01 00:00:03  561b26c1  United States of America   \n",
              "2 2021-05-01 00:00:04  81f149e5                     Japan   \n",
              "3 2021-05-01 00:00:07  4f218413                    Taiwan   \n",
              "4 2021-05-01 00:00:18  a4066781  United States of America   \n",
              "\n",
              "                             Book Title  \\\n",
              "0                          Sycamore Row   \n",
              "1      The 5 Love Languages of Children   \n",
              "2                         The Guardians   \n",
              "3                    How to Be a 3% Man   \n",
              "4  Napoleon Hill's Outwitting the Devil   \n",
              "\n",
              "                               Book Subtitle    Book Author    Book Narrator  \\\n",
              "0                                       None   John Grisham     Michael Beck   \n",
              "1  The Secret to Loving Children Effectively   Gary Chapman      Chris Fabry   \n",
              "2                                    A Novel   John Grisham     Michael Beck   \n",
              "3                                       None    Corey Wayne      Corey Wayne   \n",
              "4          The Secret to Freedom and Success  Napoleon Hill  Dan John Miller   \n",
              "\n",
              "        Audio Runtime        Audiobook_Type  \\\n",
              "0  20 hrs and 46 mins  Unabridged Audiobook   \n",
              "1   5 hrs and 48 mins  Unabridged Audiobook   \n",
              "2  11 hrs and 50 mins  Unabridged Audiobook   \n",
              "3   7 hrs and 33 mins  Unabridged Audiobook   \n",
              "4   5 hrs and 51 mins  Unabridged Audiobook   \n",
              "\n",
              "                                        Categories Rating  \\\n",
              "0                     Mystery, Thriller & Suspense    4.6   \n",
              "1  Relationships, Parenting & Personal Development    4.8   \n",
              "2                     Mystery, Thriller & Suspense    4.6   \n",
              "3  Relationships, Parenting & Personal Development    4.8   \n",
              "4                               Business & Careers    4.8   \n",
              "\n",
              "   Total No. of Ratings  Price        date  conversion_rate   THBPrice  \n",
              "0               25863.0  35.00  2021-05-01            31.14  1089.9000  \n",
              "1                2441.0  19.59  2021-05-01            31.14   610.0326  \n",
              "2               26781.0  31.50  2021-05-01            31.14   980.9100  \n",
              "3               11459.0  19.95  2021-05-01            31.14   621.2430  \n",
              "4                9305.0  17.49  2021-05-01            31.14   544.6386  "
            ]
          },
          "execution_count": 63,
          "metadata": {},
          "output_type": "execute_result"
        }
      ],
      "source": [
        "# Add \"THBPrice\" column\n",
        "final_df[\"THBPrice\"] = final_df[\"Price\"] * final_df[\"conversion_rate\"]\n",
        "final_df.head()"
      ]
    },
    {
      "cell_type": "code",
      "execution_count": 64,
      "metadata": {
        "id": "kxymm_7KJDtt"
      },
      "outputs": [],
      "source": [
        "# Drop unused column\n",
        "final_df = final_df.drop(\"date\", axis=1)"
      ]
    },
    {
      "cell_type": "code",
      "execution_count": 65,
      "metadata": {
        "colab": {
          "base_uri": "https://localhost:8080/",
          "height": 929
        },
        "id": "ljZ_klSp76i6",
        "outputId": "0e311787-6eae-419e-a63e-c39dc9eb8ee0"
      },
      "outputs": [
        {
          "data": {
            "text/html": [
              "<div>\n",
              "<style scoped>\n",
              "    .dataframe tbody tr th:only-of-type {\n",
              "        vertical-align: middle;\n",
              "    }\n",
              "\n",
              "    .dataframe tbody tr th {\n",
              "        vertical-align: top;\n",
              "    }\n",
              "\n",
              "    .dataframe thead th {\n",
              "        text-align: right;\n",
              "    }\n",
              "</style>\n",
              "<table border=\"1\" class=\"dataframe\">\n",
              "  <thead>\n",
              "    <tr style=\"text-align: right;\">\n",
              "      <th></th>\n",
              "      <th>timestamp</th>\n",
              "      <th>user_id</th>\n",
              "      <th>country</th>\n",
              "      <th>Book Title</th>\n",
              "      <th>Book Subtitle</th>\n",
              "      <th>Book Author</th>\n",
              "      <th>Book Narrator</th>\n",
              "      <th>Audio Runtime</th>\n",
              "      <th>Audiobook_Type</th>\n",
              "      <th>Categories</th>\n",
              "      <th>Rating</th>\n",
              "      <th>Total No. of Ratings</th>\n",
              "      <th>Price</th>\n",
              "      <th>conversion_rate</th>\n",
              "      <th>THBPrice</th>\n",
              "    </tr>\n",
              "  </thead>\n",
              "  <tbody>\n",
              "    <tr>\n",
              "      <th>0</th>\n",
              "      <td>2021-05-01 00:00:01</td>\n",
              "      <td>ad8eca41</td>\n",
              "      <td>Portugal</td>\n",
              "      <td>Sycamore Row</td>\n",
              "      <td>None</td>\n",
              "      <td>John Grisham</td>\n",
              "      <td>Michael Beck</td>\n",
              "      <td>20 hrs and 46 mins</td>\n",
              "      <td>Unabridged Audiobook</td>\n",
              "      <td>Mystery, Thriller &amp; Suspense</td>\n",
              "      <td>4.6</td>\n",
              "      <td>25863.0</td>\n",
              "      <td>35.00</td>\n",
              "      <td>31.14</td>\n",
              "      <td>1089.9000</td>\n",
              "    </tr>\n",
              "    <tr>\n",
              "      <th>1</th>\n",
              "      <td>2021-05-01 00:00:03</td>\n",
              "      <td>561b26c1</td>\n",
              "      <td>United States of America</td>\n",
              "      <td>The 5 Love Languages of Children</td>\n",
              "      <td>The Secret to Loving Children Effectively</td>\n",
              "      <td>Gary Chapman</td>\n",
              "      <td>Chris Fabry</td>\n",
              "      <td>5 hrs and 48 mins</td>\n",
              "      <td>Unabridged Audiobook</td>\n",
              "      <td>Relationships, Parenting &amp; Personal Development</td>\n",
              "      <td>4.8</td>\n",
              "      <td>2441.0</td>\n",
              "      <td>19.59</td>\n",
              "      <td>31.14</td>\n",
              "      <td>610.0326</td>\n",
              "    </tr>\n",
              "    <tr>\n",
              "      <th>2</th>\n",
              "      <td>2021-05-01 00:00:04</td>\n",
              "      <td>81f149e5</td>\n",
              "      <td>Japan</td>\n",
              "      <td>The Guardians</td>\n",
              "      <td>A Novel</td>\n",
              "      <td>John Grisham</td>\n",
              "      <td>Michael Beck</td>\n",
              "      <td>11 hrs and 50 mins</td>\n",
              "      <td>Unabridged Audiobook</td>\n",
              "      <td>Mystery, Thriller &amp; Suspense</td>\n",
              "      <td>4.6</td>\n",
              "      <td>26781.0</td>\n",
              "      <td>31.50</td>\n",
              "      <td>31.14</td>\n",
              "      <td>980.9100</td>\n",
              "    </tr>\n",
              "    <tr>\n",
              "      <th>3</th>\n",
              "      <td>2021-05-01 00:00:07</td>\n",
              "      <td>4f218413</td>\n",
              "      <td>Taiwan</td>\n",
              "      <td>How to Be a 3% Man</td>\n",
              "      <td>None</td>\n",
              "      <td>Corey Wayne</td>\n",
              "      <td>Corey Wayne</td>\n",
              "      <td>7 hrs and 33 mins</td>\n",
              "      <td>Unabridged Audiobook</td>\n",
              "      <td>Relationships, Parenting &amp; Personal Development</td>\n",
              "      <td>4.8</td>\n",
              "      <td>11459.0</td>\n",
              "      <td>19.95</td>\n",
              "      <td>31.14</td>\n",
              "      <td>621.2430</td>\n",
              "    </tr>\n",
              "    <tr>\n",
              "      <th>4</th>\n",
              "      <td>2021-05-01 00:00:18</td>\n",
              "      <td>a4066781</td>\n",
              "      <td>United States of America</td>\n",
              "      <td>Napoleon Hill's Outwitting the Devil</td>\n",
              "      <td>The Secret to Freedom and Success</td>\n",
              "      <td>Napoleon Hill</td>\n",
              "      <td>Dan John Miller</td>\n",
              "      <td>5 hrs and 51 mins</td>\n",
              "      <td>Unabridged Audiobook</td>\n",
              "      <td>Business &amp; Careers</td>\n",
              "      <td>4.8</td>\n",
              "      <td>9305.0</td>\n",
              "      <td>17.49</td>\n",
              "      <td>31.14</td>\n",
              "      <td>544.6386</td>\n",
              "    </tr>\n",
              "  </tbody>\n",
              "</table>\n",
              "</div>"
            ],
            "text/plain": [
              "            timestamp   user_id                   country  \\\n",
              "0 2021-05-01 00:00:01  ad8eca41                  Portugal   \n",
              "1 2021-05-01 00:00:03  561b26c1  United States of America   \n",
              "2 2021-05-01 00:00:04  81f149e5                     Japan   \n",
              "3 2021-05-01 00:00:07  4f218413                    Taiwan   \n",
              "4 2021-05-01 00:00:18  a4066781  United States of America   \n",
              "\n",
              "                             Book Title  \\\n",
              "0                          Sycamore Row   \n",
              "1      The 5 Love Languages of Children   \n",
              "2                         The Guardians   \n",
              "3                    How to Be a 3% Man   \n",
              "4  Napoleon Hill's Outwitting the Devil   \n",
              "\n",
              "                               Book Subtitle    Book Author    Book Narrator  \\\n",
              "0                                       None   John Grisham     Michael Beck   \n",
              "1  The Secret to Loving Children Effectively   Gary Chapman      Chris Fabry   \n",
              "2                                    A Novel   John Grisham     Michael Beck   \n",
              "3                                       None    Corey Wayne      Corey Wayne   \n",
              "4          The Secret to Freedom and Success  Napoleon Hill  Dan John Miller   \n",
              "\n",
              "        Audio Runtime        Audiobook_Type  \\\n",
              "0  20 hrs and 46 mins  Unabridged Audiobook   \n",
              "1   5 hrs and 48 mins  Unabridged Audiobook   \n",
              "2  11 hrs and 50 mins  Unabridged Audiobook   \n",
              "3   7 hrs and 33 mins  Unabridged Audiobook   \n",
              "4   5 hrs and 51 mins  Unabridged Audiobook   \n",
              "\n",
              "                                        Categories Rating  \\\n",
              "0                     Mystery, Thriller & Suspense    4.6   \n",
              "1  Relationships, Parenting & Personal Development    4.8   \n",
              "2                     Mystery, Thriller & Suspense    4.6   \n",
              "3  Relationships, Parenting & Personal Development    4.8   \n",
              "4                               Business & Careers    4.8   \n",
              "\n",
              "   Total No. of Ratings  Price  conversion_rate   THBPrice  \n",
              "0               25863.0  35.00            31.14  1089.9000  \n",
              "1                2441.0  19.59            31.14   610.0326  \n",
              "2               26781.0  31.50            31.14   980.9100  \n",
              "3               11459.0  19.95            31.14   621.2430  \n",
              "4                9305.0  17.49            31.14   544.6386  "
            ]
          },
          "execution_count": 65,
          "metadata": {},
          "output_type": "execute_result"
        }
      ],
      "source": [
        "final_df.head()"
      ]
    },
    {
      "cell_type": "markdown",
      "metadata": {
        "id": "wtek5AhSwXDi"
      },
      "source": [
        "### Save to CSV"
      ]
    },
    {
      "cell_type": "markdown",
      "metadata": {
        "id": "ghd6H6VvO36W"
      },
      "source": [
        "Save final_df into csv file, with `index=False` statement to exclude index."
      ]
    },
    {
      "cell_type": "code",
      "execution_count": 66,
      "metadata": {
        "id": "LNsNcinqTDfg"
      },
      "outputs": [],
      "source": [
        "#final_df.to_csv(\"output.csv\", index=False)"
      ]
    },
    {
      "cell_type": "markdown",
      "metadata": {
        "id": "RS8OduWmOUJ8"
      },
      "source": [
        "The saved file can be open with  `head` bash command"
      ]
    },
    {
      "cell_type": "code",
      "execution_count": 70,
      "metadata": {
        "colab": {
          "base_uri": "https://localhost:8080/"
        },
        "id": "fA70nQj_OgUc",
        "outputId": "62ae4393-c31d-48af-9d4e-64f568a3ef59"
      },
      "outputs": [],
      "source": [
        "#!head output.csv"
      ]
    }
  ],
  "metadata": {
    "colab": {
      "collapsed_sections": [],
      "name": "Data_Collection.ipynb",
      "provenance": [],
      "toc_visible": true
    },
    "kernelspec": {
      "display_name": "Python 3",
      "name": "python3"
    },
    "language_info": {
      "codemirror_mode": {
        "name": "ipython",
        "version": 3
      },
      "file_extension": ".py",
      "mimetype": "text/x-python",
      "name": "python",
      "nbconvert_exporter": "python",
      "pygments_lexer": "ipython3",
      "version": "3.9.13"
    }
  },
  "nbformat": 4,
  "nbformat_minor": 0
}
