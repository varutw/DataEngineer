{
 "cells": [
  {
   "attachments": {},
   "cell_type": "markdown",
   "metadata": {},
   "source": [
    "# Collection Data Types\n",
    "\n",
    "In this file, the data types that are used to store collection in Python are reviewed. It includes:\n",
    "* List \n",
    "* Tuple \n",
    "* Set \n",
    "* Dictionary"
   ]
  },
  {
   "cell_type": "markdown",
   "metadata": {},
   "source": [
    "## Lists\n",
    "\n",
    "* List is a collection data type.\n",
    "* List is ordered and mutable.\n",
    "* It allows duplicate members."
   ]
  },
  {
   "cell_type": "markdown",
   "metadata": {},
   "source": [
    "### Creating a list\n",
    "Lists are created with square brackets or the built-in list function."
   ]
  },
  {
   "cell_type": "code",
   "execution_count": 4,
   "metadata": {},
   "outputs": [
    {
     "name": "stdout",
     "output_type": "stream",
     "text": [
      "['banana', 'cherry', 'apple']\n",
      "[]\n",
      "[5, True, 'apple']\n",
      "[0, 0, 1, 1]\n"
     ]
    }
   ],
   "source": [
    "list_1 = [\"banana\", \"cherry\", \"apple\"]\n",
    "print(list_1)\n",
    "\n",
    "# Or create an empty list with the list function\n",
    "list_2 = list()\n",
    "print(list_2)\n",
    "\n",
    "# Lists allow different data types\n",
    "list_3 = [5, True, \"apple\"]\n",
    "print(list_3)\n",
    "\n",
    "# Lists allow duplicates\n",
    "list_4 = [0, 0, 1, 1]\n",
    "print(list_4)"
   ]
  },
  {
   "cell_type": "markdown",
   "metadata": {},
   "source": [
    "### Access elements and Changing Items in list\n",
    "You access the list items by referring to the index number. Note that the indices start at 0.\n",
    "To change items, just refer to the index number and assign a new value."
   ]
  },
  {
   "cell_type": "code",
   "execution_count": 5,
   "metadata": {},
   "outputs": [
    {
     "name": "stdout",
     "output_type": "stream",
     "text": [
      "banana\n",
      "apple\n",
      "['banana', 'cherry', 'lemon']\n"
     ]
    }
   ],
   "source": [
    "item = list_1[0]\n",
    "print(item)\n",
    "\n",
    "# You can also use negative indexing, e.g -1 refers to the last item,\n",
    "# -2 to the second last item, and so on\n",
    "item = list_1[-1]\n",
    "print(item)\n",
    "\n",
    "# Lists can be altered after their creation\n",
    "list_1[2] = \"lemon\"\n",
    "print(list_1)"
   ]
  },
  {
   "cell_type": "markdown",
   "metadata": {},
   "source": [
    "### Useful functions and methods for list\n",
    "* len(): get the number of elements in a list\n",
    "* append() : adds an element to the end of the list\n",
    "* insert() : adds an element at the specified position\n",
    "* pop() : removes and returns the item at the given position. Default is the last item.\n",
    "* remove() : removes an identified item from the list\n",
    "* clear() : removes all items from the list\n",
    "* reverse() : reverse order of items in the list\n",
    "* sort() : sort the order of items in ascending order\n",
    "* "
   ]
  },
  {
   "cell_type": "code",
   "execution_count": 6,
   "metadata": {},
   "outputs": [
    {
     "name": "stdout",
     "output_type": "stream",
     "text": [
      "Length: 3\n",
      "['banana', 'blueberry', 'cherry', 'apple', 'orange']\n",
      "Popped item:  orange\n",
      "['banana', 'blueberry', 'apple']\n",
      "[]\n",
      "Reversed:  ['apple', 'cherry', 'banana']\n",
      "Sorted:  ['apple', 'banana', 'cherry']\n"
     ]
    }
   ],
   "source": [
    "my_list = [\"banana\", \"cherry\", \"apple\"]\n",
    "\n",
    "# len() : get the number of elements in a list\n",
    "print(\"Length:\", len(my_list))\n",
    "\n",
    "# append() : adds an element to the end of the list\n",
    "my_list.append(\"orange\")\n",
    "\n",
    "# insert() : adds an element at the specified position\n",
    "my_list.insert(1, \"blueberry\")\n",
    "print(my_list)\n",
    "\n",
    "# pop() : removes and returns the item at the given position, default is the last item\n",
    "item = my_list.pop()\n",
    "print(\"Popped item: \", item)\n",
    "\n",
    "# remove() : removes an item from the list\n",
    "my_list.remove(\"cherry\") # Value error if not in the list\n",
    "print(my_list)\n",
    "\n",
    "# clear() : removes all items from the list\n",
    "my_list.clear()\n",
    "print(my_list)\n",
    "\n",
    "# reverse() : reverse the items\n",
    "my_list = [\"banana\", \"cherry\", \"apple\"]\n",
    "my_list.reverse()\n",
    "print('Reversed: ', my_list)\n",
    "\n",
    "# sort() : sort items in ascending order\n",
    "my_list.sort()\n",
    "print('Sorted: ', my_list)\n",
    "\n",
    "# use sorted() to get a new list, and leave the original unaffected.\n",
    "# sorted() works on any iterable type, not just lists\n",
    "my_list = [\"banana\", \"cherry\", \"apple\"]\n",
    "new_list = sorted(my_list)"
   ]
  },
  {
   "cell_type": "markdown",
   "metadata": {},
   "source": [
    "### Creating list with repeated elements, concatenation, and converting string to list"
   ]
  },
  {
   "cell_type": "code",
   "execution_count": 7,
   "metadata": {},
   "outputs": [
    {
     "name": "stdout",
     "output_type": "stream",
     "text": [
      "[0, 0, 0, 0, 0]\n",
      "[0, 0, 0, 0, 0, 'banana', 'cherry', 'apple']\n",
      "['H', 'e', 'l', 'l', 'o']\n"
     ]
    }
   ],
   "source": [
    "# create list with repeated elements\n",
    "list_with_zeros = [0] * 5\n",
    "print(list_with_zeros)\n",
    "\n",
    "# concatenation\n",
    "list_concat = list_with_zeros + my_list\n",
    "print(list_concat)\n",
    "\n",
    "# convert string to list\n",
    "string_to_list = list('Hello')\n",
    "print(string_to_list)"
   ]
  },
  {
   "cell_type": "markdown",
   "metadata": {},
   "source": [
    "### Copy a list\n",
    "Be careful when copying references, as modifying the copy can also affects the original!"
   ]
  },
  {
   "cell_type": "code",
   "execution_count": 8,
   "metadata": {},
   "outputs": [
    {
     "name": "stdout",
     "output_type": "stream",
     "text": [
      "['banana', 'cherry', 'apple', True]\n",
      "['banana', 'cherry', 'apple', True]\n",
      "['banana', 'cherry', 'apple', True]\n",
      "['banana', 'cherry', 'apple']\n"
     ]
    }
   ],
   "source": [
    "list_org = [\"banana\", \"cherry\", \"apple\"]\n",
    "\n",
    "# this just copies the reference to the list, so be careful!\n",
    "list_copy = list_org\n",
    "\n",
    "# now modifying the copy also affects the original\n",
    "list_copy.append(True)\n",
    "print(list_copy)\n",
    "print(list_org)\n",
    "\n",
    "# use copy(), or list(x) to actually copy the list\n",
    "# slicing also works: list_copy = list_org[:]\n",
    "list_org = [\"banana\", \"cherry\", \"apple\"]\n",
    "\n",
    "list_copy = list_org.copy()\n",
    "# list_copy = list(list_org)\n",
    "# list_copy = list_org[:]\n",
    "\n",
    "# now modifying the copy does not affect the original\n",
    "list_copy.append(True)\n",
    "print(list_copy)\n",
    "print(list_org)"
   ]
  },
  {
   "cell_type": "markdown",
   "metadata": {},
   "source": [
    "### Iterating the list\n",
    "The elements inside the list can be iterated."
   ]
  },
  {
   "cell_type": "code",
   "execution_count": 9,
   "metadata": {},
   "outputs": [
    {
     "name": "stdout",
     "output_type": "stream",
     "text": [
      "banana\n",
      "cherry\n",
      "lemon\n"
     ]
    }
   ],
   "source": [
    "# Iterating over a list by using a for in loop\n",
    "for i in list_1:\n",
    "    print(i)"
   ]
  },
  {
   "cell_type": "markdown",
   "metadata": {},
   "source": [
    "### Slicing the list\n",
    "Access sub parts of the list wih the use of colon (:), just as with strings."
   ]
  },
  {
   "cell_type": "code",
   "execution_count": 10,
   "metadata": {},
   "outputs": [
    {
     "name": "stdout",
     "output_type": "stream",
     "text": [
      "b\n",
      "[2, 3]\n",
      "c\n",
      "[2, 3]\n",
      "d\n",
      "[1, 2, 3]\n",
      "a\n",
      "[0, 4, 5, 6, 7, 8, 9, 10]\n",
      "e\n",
      "[0, 5, 7, 9]\n",
      "f\n",
      "[10, 9, 8, 7, 6, 5, 4, 0]\n",
      "g\n",
      "[0, 4, 5, 6, 7, 8, 9, 10]\n"
     ]
    }
   ],
   "source": [
    "# a[start:stop:step], default step is 1\n",
    "a = [1, 2, 3, 4, 5, 6, 7, 8, 9, 10]\n",
    "b = a[1:3] # Note that the last index is not included\n",
    "print('b')\n",
    "print(b)\n",
    "c = a[2:] # until the end\n",
    "print('c')\n",
    "print(b)\n",
    "d = a[:3] # from beginning\n",
    "print('d')\n",
    "print(d)\n",
    "a[0:3] = [0] # replace sub-parts, you need an iterable here\n",
    "print('a')\n",
    "print(a)\n",
    "e = a[::2] # start to end with every second item\n",
    "print('e')\n",
    "print(e)\n",
    "f = a[::-1] # reverse the list with a negative step:\n",
    "print('f')\n",
    "print(f)\n",
    "g = a[:] # copy a list with slicing\n",
    "print('g')\n",
    "print(g)"
   ]
  },
  {
   "cell_type": "markdown",
   "metadata": {},
   "source": [
    "### List comprehension\n",
    "A elegant and fast way to create a new list from an existing list. List comprehension consists of an expression followed by a for statement inside square brackets."
   ]
  },
  {
   "cell_type": "code",
   "execution_count": 11,
   "metadata": {},
   "outputs": [
    {
     "name": "stdout",
     "output_type": "stream",
     "text": [
      "[1, 4, 9, 16, 25, 36, 49, 64]\n"
     ]
    }
   ],
   "source": [
    "a = [1, 2, 3, 4, 5, 6, 7, 8]\n",
    "b = [i * i for i in a] # squares each element\n",
    "print(b)"
   ]
  },
  {
   "cell_type": "markdown",
   "metadata": {},
   "source": [
    "### Nested lists\n",
    "Lists can contain other lists (or other container types)."
   ]
  },
  {
   "cell_type": "code",
   "execution_count": 12,
   "metadata": {},
   "outputs": [
    {
     "name": "stdout",
     "output_type": "stream",
     "text": [
      "[[1, 2], [3, 4]]\n",
      "[1, 2]\n"
     ]
    }
   ],
   "source": [
    "a = [[1, 2], [3, 4]]\n",
    "print(a)\n",
    "print(a[0])"
   ]
  },
  {
   "cell_type": "markdown",
   "metadata": {},
   "source": [
    "## Tuple\n",
    "* Tuples are similar to lists, the main difference ist the immutability.\n",
    "* Use tuple for heterogeneous (different) datatypes and list for homogeneous (similar) datatypes.\n",
    "* Since tuple are immutable, iterating through tuple is slightly faster than with list."
   ]
  },
  {
   "cell_type": "markdown",
   "metadata": {},
   "source": [
    "### Creating a tuple\n",
    "Tuples are created with round brackets and comma separated values. Or use the built-in tuple function."
   ]
  },
  {
   "cell_type": "code",
   "execution_count": 13,
   "metadata": {},
   "outputs": [
    {
     "name": "stdout",
     "output_type": "stream",
     "text": [
      "('Max', 28, 'New York')\n",
      "('Linda', 25, 'Miami')\n",
      "(25,)\n",
      "(1, 2, 3)\n"
     ]
    }
   ],
   "source": [
    "tuple_1 = (\"Max\", 28, \"New York\")\n",
    "tuple_2 = \"Linda\", 25, \"Miami\" # Parentheses are optional\n",
    "\n",
    "# Special case: a tuple with only one element needs to have a comma at the end, \n",
    "# otherwise it is not recognized as tuple\n",
    "tuple_3 = (25,)\n",
    "print(tuple_1)\n",
    "print(tuple_2)\n",
    "print(tuple_3)\n",
    "\n",
    "# Or convert an iterable (list, dict, string) with the built-in tuple function\n",
    "tuple_4 = tuple([1,2,3])\n",
    "print(tuple_4)"
   ]
  },
  {
   "cell_type": "markdown",
   "metadata": {},
   "source": [
    "### Access elements\n",
    "You access the tuple items by referring to the index number. Note that the indices start at 0."
   ]
  },
  {
   "cell_type": "code",
   "execution_count": 14,
   "metadata": {},
   "outputs": [
    {
     "name": "stdout",
     "output_type": "stream",
     "text": [
      "Max\n",
      "New York\n"
     ]
    }
   ],
   "source": [
    "item = tuple_1[0]\n",
    "print(item)\n",
    "# You can also use negative indexing, e.g -1 refers to the last item,\n",
    "# -2 to the second last item, and so on\n",
    "item = tuple_1[-1]\n",
    "print(item)"
   ]
  },
  {
   "cell_type": "markdown",
   "metadata": {},
   "source": [
    "### Add or change items\n",
    "Not possible and will raise a TypeError."
   ]
  },
  {
   "cell_type": "code",
   "execution_count": 15,
   "metadata": {},
   "outputs": [],
   "source": [
    "#tuple_1[2] = \"Boston\""
   ]
  },
  {
   "cell_type": "markdown",
   "metadata": {},
   "source": [
    "### Iterating and check if an item exists in tuple\n",
    "Iterating over a tuple by using a for in loop"
   ]
  },
  {
   "cell_type": "code",
   "execution_count": 16,
   "metadata": {},
   "outputs": [
    {
     "name": "stdout",
     "output_type": "stream",
     "text": [
      "Max\n",
      "28\n",
      "New York\n",
      "yes\n"
     ]
    }
   ],
   "source": [
    "for i in tuple_1:\n",
    "    print(i)\n",
    "\n",
    "if \"New York\" in tuple_1:\n",
    "    print(\"yes\")\n",
    "else:\n",
    "    print(\"no\")\n"
   ]
  },
  {
   "cell_type": "markdown",
   "metadata": {},
   "source": [
    "### Useful dunctions and methods for tuple\n",
    "* len() : get the number of elements in a tuple\n",
    "* count(x) : Return the number of items that is equal to x\n",
    "* index(x) : Return index of first item that is equal to x"
   ]
  },
  {
   "cell_type": "code",
   "execution_count": 17,
   "metadata": {},
   "outputs": [
    {
     "name": "stdout",
     "output_type": "stream",
     "text": [
      "5\n",
      "2\n",
      "3\n"
     ]
    }
   ],
   "source": [
    "my_tuple = ('a','p','p','l','e',)\n",
    "\n",
    "# len() : get the number of elements in a tuple\n",
    "print(len(my_tuple))\n",
    "\n",
    "# count(x) : Return the number of items that is equal to x\n",
    "print(my_tuple.count('p'))\n",
    "\n",
    "# index(x) : Return index of first item that is equal to x\n",
    "print(my_tuple.index('l'))"
   ]
  },
  {
   "cell_type": "markdown",
   "metadata": {},
   "source": [
    "### Repetition, concatenation, and conversion"
   ]
  },
  {
   "cell_type": "code",
   "execution_count": 18,
   "metadata": {},
   "outputs": [
    {
     "name": "stdout",
     "output_type": "stream",
     "text": [
      "('a', 'b', 'a', 'b', 'a', 'b', 'a', 'b', 'a', 'b')\n",
      "(1, 2, 3, 4, 5, 6)\n",
      "('a', 'b', 'c', 'd')\n",
      "['a', 'b', 'c', 'd']\n",
      "('H', 'e', 'l', 'l', 'o')\n"
     ]
    }
   ],
   "source": [
    "# repetition\n",
    "my_tuple = ('a', 'b') * 5\n",
    "print(my_tuple)\n",
    "\n",
    "# concatenation\n",
    "my_tuple = (1,2,3) + (4,5,6)\n",
    "print(my_tuple)\n",
    "\n",
    "# convert list to a tuple and vice versa\n",
    "my_list = ['a', 'b', 'c', 'd']\n",
    "list_to_tuple = tuple(my_list)\n",
    "print(list_to_tuple)\n",
    "\n",
    "tuple_to_list = list(list_to_tuple)\n",
    "print(tuple_to_list)\n",
    "\n",
    "# convert string to tuple\n",
    "string_to_tuple = tuple('Hello')\n",
    "print(string_to_tuple)"
   ]
  },
  {
   "cell_type": "markdown",
   "metadata": {},
   "source": [
    "### Slicing a tuple\n",
    "Access sub parts of the tuple wih the use of colon (:), just as with strings."
   ]
  },
  {
   "cell_type": "code",
   "execution_count": 19,
   "metadata": {},
   "outputs": [
    {
     "name": "stdout",
     "output_type": "stream",
     "text": [
      "(2, 3)\n",
      "(3, 4, 5, 6, 7, 8, 9, 10)\n",
      "(1, 2, 3)\n",
      "(1, 3, 5, 7, 9)\n",
      "(10, 9, 8, 7, 6, 5, 4, 3, 2, 1)\n"
     ]
    }
   ],
   "source": [
    "# a[start:stop:step], default step is 1\n",
    "a = (1, 2, 3, 4, 5, 6, 7, 8, 9, 10)\n",
    "b = a[1:3] # Note that the last index is not included\n",
    "print(b)\n",
    "b = a[2:] # until the end\n",
    "print(b)\n",
    "b = a[:3] # from beginning\n",
    "print(b)\n",
    "b = a[::2] # start to end with every second item\n",
    "print(b)\n",
    "b = a[::-1] # reverse tuple\n",
    "print(b)"
   ]
  },
  {
   "cell_type": "markdown",
   "metadata": {},
   "source": [
    "### Unpack tuple"
   ]
  },
  {
   "cell_type": "code",
   "execution_count": 20,
   "metadata": {},
   "outputs": [
    {
     "name": "stdout",
     "output_type": "stream",
     "text": [
      "Max\n",
      "28\n",
      "New York\n",
      "0\n",
      "[1, 2, 3, 4]\n",
      "5\n"
     ]
    }
   ],
   "source": [
    "# number of variables have to match number of tuple elements\n",
    "tuple_1 = (\"Max\", 28, \"New York\")\n",
    "name, age, city = tuple_1\n",
    "print(name)\n",
    "print(age)\n",
    "print(city)\n",
    "\n",
    "# tip: unpack multiple elements to a list with *\n",
    "my_tuple = (0, 1, 2, 3, 4, 5)\n",
    "item_first, *items_between, item_last = my_tuple\n",
    "print(item_first)\n",
    "print(items_between)\n",
    "print(item_last)"
   ]
  },
  {
   "cell_type": "markdown",
   "metadata": {},
   "source": [
    "### Nested tuples\n",
    "Tuples can contain other tuples (or other container types)."
   ]
  },
  {
   "cell_type": "code",
   "execution_count": 21,
   "metadata": {},
   "outputs": [
    {
     "name": "stdout",
     "output_type": "stream",
     "text": [
      "((0, 1), ('age', 'height'))\n",
      "(0, 1)\n"
     ]
    }
   ],
   "source": [
    "a = ((0, 1), ('age', 'height'))\n",
    "print(a)\n",
    "print(a[0])"
   ]
  },
  {
   "cell_type": "markdown",
   "metadata": {},
   "source": [
    "### Compare tuple and list\n",
    "The immutability of tuples enables Python to make internal optimizations. Thus, tuples can be more efficient when working with large data."
   ]
  },
  {
   "cell_type": "code",
   "execution_count": 22,
   "metadata": {},
   "outputs": [
    {
     "name": "stdout",
     "output_type": "stream",
     "text": [
      "120 bytes\n",
      "80 bytes\n",
      "0.07349710000005416\n",
      "0.006673200000022916\n"
     ]
    }
   ],
   "source": [
    "# compare the size\n",
    "import sys\n",
    "my_list = [0, 1, 2, \"hello\", True]\n",
    "my_tuple = (0, 1, 2, \"hello\", True)\n",
    "print(sys.getsizeof(my_list), \"bytes\")\n",
    "print(sys.getsizeof(my_tuple), \"bytes\")\n",
    "\n",
    "# compare the execution time of a list vs. tuple creation statement\n",
    "import timeit\n",
    "print(timeit.timeit(stmt=\"[0, 1, 2, 3, 4, 5]\", number=1000000))\n",
    "print(timeit.timeit(stmt=\"(0, 1, 2, 3, 4, 5)\", number=1000000))"
   ]
  },
  {
   "attachments": {},
   "cell_type": "markdown",
   "metadata": {},
   "source": [
    "## Dictionaries\n",
    "* A dictionary is a collection which is unordered, changeable and indexed.\n",
    "* A dictionary consists of a collection of key-value pairs. Each key-value pair maps the key to its associated value. A dictionary is written in braces. Each key is separated from its value by a colon (:), and the items are separated by commas."
   ]
  },
  {
   "attachments": {},
   "cell_type": "markdown",
   "metadata": {},
   "source": [
    "### Create a dictionary, and Access items\n",
    "Create a dictionary with braces, or with the built-in dict funtion."
   ]
  },
  {
   "cell_type": "code",
   "execution_count": 23,
   "metadata": {},
   "outputs": [
    {
     "name": "stdout",
     "output_type": "stream",
     "text": [
      "{'name': 'Max', 'age': 28, 'city': 'New York'}\n",
      "{'name': 'Lisa', 'age': 27, 'city': 'Boston'}\n",
      "Max\n"
     ]
    }
   ],
   "source": [
    "my_dict = {\"name\":\"Max\", \"age\":28, \"city\":\"New York\"}\n",
    "print(my_dict)\n",
    "\n",
    "# or use the dict constructor, note: no quotes necessary for keys\n",
    "my_dict_2 = dict(name=\"Lisa\", age=27, city=\"Boston\")\n",
    "print(my_dict_2)\n",
    "\n",
    "name_in_dict = my_dict[\"name\"]\n",
    "print(name_in_dict)\n",
    "\n",
    "# KeyError if no key is found\n",
    "# print(my_dict[\"lastname\"])\n"
   ]
  },
  {
   "attachments": {},
   "cell_type": "markdown",
   "metadata": {},
   "source": [
    "### Add, change, and delete items\n",
    "Simply add or access a key and asign the value."
   ]
  },
  {
   "cell_type": "code",
   "execution_count": 24,
   "metadata": {},
   "outputs": [
    {
     "name": "stdout",
     "output_type": "stream",
     "text": [
      "{'name': 'Max', 'age': 28, 'city': 'New York', 'email': 'max@xyz.com'}\n",
      "{'name': 'Max', 'age': 28, 'city': 'New York', 'email': 'coolmax@xyz.com'}\n",
      "popped value: 28\n",
      "popped item: ('city', 'New York')\n",
      "{'name': 'Max'}\n"
     ]
    }
   ],
   "source": [
    "# add a new key\n",
    "my_dict[\"email\"] = \"max@xyz.com\"\n",
    "print(my_dict)\n",
    "\n",
    "# or overwrite the now existing key\n",
    "my_dict[\"email\"] = \"coolmax@xyz.com\"\n",
    "print(my_dict)\n",
    "\n",
    "# delete a key-value pair\n",
    "del my_dict[\"email\"]\n",
    "\n",
    "# this returns the value and removes the key-value pair\n",
    "print(\"popped value:\", my_dict.pop(\"age\"))\n",
    "\n",
    "# return and removes the last inserted key-value pair \n",
    "# (in versions before Python 3.7 it removes an arbitrary pair)\n",
    "print(\"popped item:\", my_dict.popitem())\n",
    "\n",
    "print(my_dict)\n",
    "\n",
    "# clear() : remove all pairs\n",
    "# my_dict.clear()"
   ]
  },
  {
   "attachments": {},
   "cell_type": "markdown",
   "metadata": {},
   "source": [
    "### Check for keys, and loop through dictionary\n",
    "dictionary has 'keys()', 'values()', and 'items()' methods."
   ]
  },
  {
   "cell_type": "code",
   "execution_count": 25,
   "metadata": {},
   "outputs": [
    {
     "name": "stdout",
     "output_type": "stream",
     "text": [
      "Max\n",
      "No key found\n",
      "name Max\n",
      "age 28\n",
      "city New York\n",
      "name\n",
      "age\n",
      "city\n",
      "Max\n",
      "28\n",
      "New York\n",
      "name Max\n",
      "age 28\n",
      "city New York\n"
     ]
    }
   ],
   "source": [
    "my_dict = {\"name\":\"Max\", \"age\":28, \"city\":\"New York\"}\n",
    "# use if .. in ..\n",
    "if \"name\" in my_dict:\n",
    "    print(my_dict[\"name\"])\n",
    "\n",
    "# use try except\n",
    "try:\n",
    "    print(my_dict[\"firstname\"])\n",
    "except KeyError:\n",
    "    print(\"No key found\")  \n",
    "\n",
    "# loop over keys\n",
    "for key in my_dict:\n",
    "    print(key, my_dict[key])\n",
    "\n",
    "# loop over keys\n",
    "for key in my_dict.keys():\n",
    "    print(key)\n",
    "\n",
    "# loop over values\n",
    "for value in my_dict.values():\n",
    "    print(value)\n",
    "\n",
    "# loop over keys and values\n",
    "for key, value in my_dict.items():\n",
    "    print(key, value)"
   ]
  },
  {
   "attachments": {},
   "cell_type": "markdown",
   "metadata": {},
   "source": [
    "### Copy a dictionary\n",
    "Like other types of collection data in Python, be careful when copying references."
   ]
  },
  {
   "cell_type": "code",
   "execution_count": 26,
   "metadata": {},
   "outputs": [
    {
     "name": "stdout",
     "output_type": "stream",
     "text": [
      "{'name': 'Lisa', 'age': 28, 'city': 'New York'}\n",
      "{'name': 'Lisa', 'age': 28, 'city': 'New York'}\n",
      "{'name': 'Lisa', 'age': 28, 'city': 'New York'}\n",
      "{'name': 'Max', 'age': 28, 'city': 'New York'}\n"
     ]
    }
   ],
   "source": [
    "dict_org = {\"name\":\"Max\", \"age\":28, \"city\":\"New York\"}\n",
    "\n",
    "# this just copies the reference to the dict, so be careful\n",
    "dict_copy = dict_org\n",
    "\n",
    "# now modifying the copy also affects the original\n",
    "dict_copy[\"name\"] = \"Lisa\"\n",
    "print(dict_copy)\n",
    "print(dict_org)\n",
    "\n",
    "# use copy(), or dict(x) to actually copy the dict\n",
    "dict_org = {\"name\":\"Max\", \"age\":28, \"city\":\"New York\"}\n",
    "\n",
    "dict_copy = dict_org.copy()\n",
    "# dict_copy = dict(dict_org)\n",
    "\n",
    "# now modifying the copy does not affect the original\n",
    "dict_copy[\"name\"] = \"Lisa\"\n",
    "print(dict_copy)\n",
    "print(dict_org)"
   ]
  },
  {
   "attachments": {},
   "cell_type": "markdown",
   "metadata": {},
   "source": [
    "### Merge two dictionaries\n",
    "This can be done by using 'update()' method."
   ]
  },
  {
   "cell_type": "code",
   "execution_count": 27,
   "metadata": {},
   "outputs": [
    {
     "name": "stdout",
     "output_type": "stream",
     "text": [
      "{'name': 'Lisa', 'age': 27, 'email': 'max@xyz.com', 'city': 'Boston'}\n"
     ]
    }
   ],
   "source": [
    "# Use the update() method to merge 2 dicts\n",
    "# existing keys are overwritten, new keys are added\n",
    "my_dict = {\"name\":\"Max\", \"age\":28, \"email\":\"max@xyz.com\"}\n",
    "my_dict_2 = dict(name=\"Lisa\", age=27, city=\"Boston\")\n",
    "\n",
    "my_dict.update(my_dict_2)\n",
    "print(my_dict)"
   ]
  },
  {
   "attachments": {},
   "cell_type": "markdown",
   "metadata": {},
   "source": [
    "### Possible key types\n",
    "Any immutable type, like strings or numbers can be used as a key. Also, a tuple can be used if it contains only immutable elements. However, using a list as a key is not possible, as a list is mutable."
   ]
  },
  {
   "cell_type": "code",
   "execution_count": 28,
   "metadata": {},
   "outputs": [
    {
     "name": "stdout",
     "output_type": "stream",
     "text": [
      "9 36 81\n",
      "15\n"
     ]
    }
   ],
   "source": [
    "# use numbers as key, but be careful\n",
    "my_dict = {3: 9, 6: 36, 9:81}\n",
    "# do not mistake the keys as indices of a list, e.g my_dict[0] is not possible here\n",
    "print(my_dict[3], my_dict[6], my_dict[9])\n",
    "\n",
    "# use a tuple with immutable elements (e.g. number, string)\n",
    "my_tuple = (8, 7)\n",
    "my_dict = {my_tuple: 15}\n",
    "\n",
    "print(my_dict[my_tuple])\n",
    "# print(my_dict[8, 7])\n",
    "\n",
    "# a list is not possible because it is not immutable\n",
    "# this will raise an Error:\n",
    "# my_list = [8, 7]\n",
    "# my_dict = {my_list: 15}"
   ]
  },
  {
   "attachments": {},
   "cell_type": "markdown",
   "metadata": {},
   "source": [
    "### Nested dictionaries\n",
    "The values can also be container types (e.g. lists, tuples, dictionaries)."
   ]
  },
  {
   "cell_type": "code",
   "execution_count": 29,
   "metadata": {},
   "outputs": [
    {
     "name": "stdout",
     "output_type": "stream",
     "text": [
      "{'dictA': {'name': 'Max', 'age': 28}, 'dictB': {'name': 'Alex', 'age': 25}}\n"
     ]
    }
   ],
   "source": [
    "my_dict_1 = {\"name\": \"Max\", \"age\": 28}\n",
    "my_dict_2 = {\"name\": \"Alex\", \"age\": 25}\n",
    "nested_dict = {\"dictA\": my_dict_1,\n",
    "               \"dictB\": my_dict_2}\n",
    "print(nested_dict)"
   ]
  }
 ],
 "metadata": {
  "kernelspec": {
   "display_name": "Python 3",
   "language": "python",
   "name": "python3"
  },
  "language_info": {
   "codemirror_mode": {
    "name": "ipython",
    "version": 3
   },
   "file_extension": ".py",
   "mimetype": "text/x-python",
   "name": "python",
   "nbconvert_exporter": "python",
   "pygments_lexer": "ipython3",
   "version": "3.9.13"
  },
  "orig_nbformat": 4,
  "vscode": {
   "interpreter": {
    "hash": "ba7521335e73b75fbbc3a0b8e9785ce22e7af7ba0c66c795a9c2954a3ece12ce"
   }
  }
 },
 "nbformat": 4,
 "nbformat_minor": 2
}
