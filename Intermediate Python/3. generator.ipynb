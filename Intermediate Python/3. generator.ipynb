{
 "cells": [
  {
   "cell_type": "markdown",
   "metadata": {},
   "source": [
    "# Generator"
   ]
  },
  {
   "attachments": {},
   "cell_type": "markdown",
   "metadata": {},
   "source": [
    "Generators are functions that can be paused and resumed on the fly, returning an object that can be iterated over. Unlike lists, they are lazy and thus produce items one at a time and only when asked. So they are much more memory efficient when dealing with large datasets.\n",
    "\n",
    "A generator is defined like a normal function but with the yield statement instead of return."
   ]
  },
  {
   "cell_type": "code",
   "execution_count": 4,
   "metadata": {},
   "outputs": [
    {
     "name": "stdout",
     "output_type": "stream",
     "text": [
      "1\n",
      "2\n",
      "3\n"
     ]
    }
   ],
   "source": [
    "def mygenerator():\n",
    "    yield 1\n",
    "    yield 2\n",
    "    yield 3\n",
    "\n",
    "g=mygenerator()\n",
    "\n",
    "for i in g:\n",
    "    print(i)\n"
   ]
  },
  {
   "attachments": {},
   "cell_type": "markdown",
   "metadata": {},
   "source": [
    "## Execution of a generator function\n",
    "* Calling the function does not execute it. \n",
    "* Instead, generator objects execute when 'next()' is called.\n",
    "* When calling 'next()' the first time, execution begins at the start of the function and continues until the first 'yield' statement where the value to the right of the statement is returned. Subsequent calls to 'next()' continue from the 'yield' statement (and loop around) until another 'yield' is reached.\n",
    "* If 'yield' is not called because of a condition or the end is reached, a 'StopIteration exception' is raised."
   ]
  },
  {
   "cell_type": "code",
   "execution_count": 2,
   "metadata": {},
   "outputs": [
    {
     "name": "stdout",
     "output_type": "stream",
     "text": [
      "1\n",
      "2\n",
      "3\n"
     ]
    }
   ],
   "source": [
    "def mygenerator():\n",
    "    yield 1\n",
    "    yield 2\n",
    "    yield 3\n",
    "\n",
    "g=mygenerator()\n",
    "\n",
    "value=next(g)\n",
    "print(value)\n",
    "\n",
    "value=next(g)\n",
    "print(value)\n",
    "\n",
    "value=next(g)\n",
    "print(value)\n",
    "\n",
    "# These will raise a 'StopIteration' error\n",
    "# value=next(g)\n",
    "# print(value)\n"
   ]
  },
  {
   "cell_type": "code",
   "execution_count": 3,
   "metadata": {},
   "outputs": [
    {
     "name": "stdout",
     "output_type": "stream",
     "text": [
      "6\n",
      "[]\n"
     ]
    }
   ],
   "source": [
    "# you can use it for functions that take iterables as input\n",
    "g=mygenerator()\n",
    "print(sum(g))\n",
    "print(sorted(g))"
   ]
  },
  {
   "attachments": {},
   "cell_type": "markdown",
   "metadata": {},
   "source": [
    "## Working with large data\n",
    "Since the values are generated lazily, i.e. only when needed, it saves a lot of memory, especially when working with large data. Furthermore, we do not need to wait until all the elements have been generated before we start to use them."
   ]
  },
  {
   "cell_type": "code",
   "execution_count": 4,
   "metadata": {},
   "outputs": [
    {
     "name": "stdout",
     "output_type": "stream",
     "text": [
      "499999500000\n",
      "8448728 bytes\n"
     ]
    }
   ],
   "source": [
    "# without a generator, the complete sequence has to be stored here in a list\n",
    "def firstn(n):\n",
    "    num, nums = 0, []\n",
    "    while num < n:\n",
    "        nums.append(num)\n",
    "        num += 1\n",
    "    return nums\n",
    "\n",
    "sum_of_first_n = sum(firstn(1000000))\n",
    "print(sum_of_first_n)\n",
    "import sys\n",
    "print(sys.getsizeof(firstn(1000000)), \"bytes\")"
   ]
  },
  {
   "cell_type": "markdown",
   "metadata": {},
   "source": [
    "Using generator, a lot of memory is saved"
   ]
  },
  {
   "cell_type": "code",
   "execution_count": 5,
   "metadata": {},
   "outputs": [
    {
     "name": "stdout",
     "output_type": "stream",
     "text": [
      "499999500000\n",
      "112 bytes\n"
     ]
    }
   ],
   "source": [
    "# with a generator, no additional sequence is needed to store the numbers\n",
    "def firstn(n):\n",
    "    num = 0\n",
    "    while num < n:\n",
    "        yield num\n",
    "        num += 1\n",
    "\n",
    "sum_of_first_n = sum(firstn(1000000))\n",
    "print(sum_of_first_n)\n",
    "import sys\n",
    "print(sys.getsizeof(firstn(1000000)), \"bytes\")"
   ]
  },
  {
   "cell_type": "markdown",
   "metadata": {},
   "source": [
    "Another example of generator, with fibonacci"
   ]
  },
  {
   "cell_type": "code",
   "execution_count": 22,
   "metadata": {},
   "outputs": [
    {
     "name": "stdout",
     "output_type": "stream",
     "text": [
      "0\n",
      "1\n",
      "1\n",
      "2\n",
      "3\n",
      "5\n",
      "8\n",
      "13\n",
      "21\n"
     ]
    }
   ],
   "source": [
    "def fibonacci(limit):\n",
    "    a,b=0,1\n",
    "    while a<limit:\n",
    "        yield a\n",
    "        a,b=b,a+b\n",
    "\n",
    "fib=fibonacci(30)\n",
    "for i in fib:\n",
    "    print(i)"
   ]
  },
  {
   "attachments": {},
   "cell_type": "markdown",
   "metadata": {},
   "source": [
    "## Generator expressions\n",
    "* Just like list comprehensions, generators can be written in the same syntax except with parenthesis instead of square brackets. \n",
    "* Be careful not to mix them up, since generator expressions are often slower than list comprehensions because of the overhead of function calls (https://stackoverflow.com/questions/11964130/list-comprehension-vs-generator-expressions-weird-timeit-results/11964478#11964478)"
   ]
  },
  {
   "cell_type": "code",
   "execution_count": 6,
   "metadata": {},
   "outputs": [
    {
     "name": "stdout",
     "output_type": "stream",
     "text": [
      "112\n",
      "4216\n"
     ]
    }
   ],
   "source": [
    "# generator expression\n",
    "mygenerator = (i for i in range(1000) if i % 2 == 0)\n",
    "print(sys.getsizeof(mygenerator))\n",
    "\n",
    "# list comprehension\n",
    "mylist = [i for i in range(1000) if i % 2 == 0]\n",
    "print(sys.getsizeof(mylist))\n",
    "     \n"
   ]
  },
  {
   "attachments": {},
   "cell_type": "markdown",
   "metadata": {},
   "source": [
    "## Concept behind a generator\n",
    "* This class implements our generator as an iterable object. \n",
    "* It has to implement '__iter__' and '__next__' to make it iterable, keep track of the current state (the current number in this case), and take care of a 'StopIteration'. \n",
    "* It can be used to understand the concept behind generators. \n",
    "* However, there is a lot of boilerplate code, and the logic is not as clear as with a simple function using the 'yield' keyword."
   ]
  },
  {
   "cell_type": "code",
   "execution_count": 7,
   "metadata": {},
   "outputs": [
    {
     "name": "stdout",
     "output_type": "stream",
     "text": [
      "499999500000\n"
     ]
    }
   ],
   "source": [
    "class firstn:\n",
    "    def __init__(self, n):\n",
    "        self.n = n\n",
    "        self.num = 0\n",
    "        \n",
    "    def __iter__(self):\n",
    "        return self\n",
    "    \n",
    "    def __next__(self):\n",
    "        if self.num < self.n:\n",
    "            cur = self.num\n",
    "            self.num += 1\n",
    "            return cur\n",
    "        else:\n",
    "            raise StopIteration()\n",
    "             \n",
    "firstn_object = firstn(1000000)\n",
    "print(sum(firstn_object))"
   ]
  }
 ],
 "metadata": {
  "kernelspec": {
   "display_name": "Python 3",
   "language": "python",
   "name": "python3"
  },
  "language_info": {
   "codemirror_mode": {
    "name": "ipython",
    "version": 3
   },
   "file_extension": ".py",
   "mimetype": "text/x-python",
   "name": "python",
   "nbconvert_exporter": "python",
   "pygments_lexer": "ipython3",
   "version": "3.9.13"
  },
  "orig_nbformat": 4,
  "vscode": {
   "interpreter": {
    "hash": "ba7521335e73b75fbbc3a0b8e9785ce22e7af7ba0c66c795a9c2954a3ece12ce"
   }
  }
 },
 "nbformat": 4,
 "nbformat_minor": 2
}
