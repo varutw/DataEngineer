{
 "cells": [
  {
   "cell_type": "markdown",
   "metadata": {},
   "source": [
    "# Generator"
   ]
  },
  {
   "cell_type": "markdown",
   "metadata": {},
   "source": [
    "Generator is about remembering the state"
   ]
  },
  {
   "cell_type": "code",
   "execution_count": 4,
   "metadata": {},
   "outputs": [
    {
     "name": "stdout",
     "output_type": "stream",
     "text": [
      "1\n",
      "2\n",
      "3\n"
     ]
    }
   ],
   "source": [
    "def mygenerator():\n",
    "    yield 1\n",
    "    yield 2\n",
    "    yield 3\n",
    "\n",
    "g=mygenerator()\n",
    "\n",
    "for i in g:\n",
    "    print(i)\n"
   ]
  },
  {
   "cell_type": "code",
   "execution_count": 8,
   "metadata": {},
   "outputs": [
    {
     "name": "stdout",
     "output_type": "stream",
     "text": [
      "1\n",
      "2\n",
      "3\n"
     ]
    },
    {
     "ename": "StopIteration",
     "evalue": "",
     "output_type": "error",
     "traceback": [
      "\u001b[1;31m---------------------------------------------------------------------------\u001b[0m",
      "\u001b[1;31mStopIteration\u001b[0m                             Traceback (most recent call last)",
      "\u001b[1;32mc:\\Users\\VARUT.W\\Documents\\Python\\python_generator.ipynb Cell 2'\u001b[0m in \u001b[0;36m<cell line: 17>\u001b[1;34m()\u001b[0m\n\u001b[0;32m     <a href='vscode-notebook-cell:/c%3A/Users/VARUT.W/Documents/Python/python_generator.ipynb#ch0000001?line=13'>14</a>\u001b[0m value\u001b[39m=\u001b[39m\u001b[39mnext\u001b[39m(g)\n\u001b[0;32m     <a href='vscode-notebook-cell:/c%3A/Users/VARUT.W/Documents/Python/python_generator.ipynb#ch0000001?line=14'>15</a>\u001b[0m \u001b[39mprint\u001b[39m(value)\n\u001b[1;32m---> <a href='vscode-notebook-cell:/c%3A/Users/VARUT.W/Documents/Python/python_generator.ipynb#ch0000001?line=16'>17</a>\u001b[0m value\u001b[39m=\u001b[39m\u001b[39mnext\u001b[39;49m(g)\n\u001b[0;32m     <a href='vscode-notebook-cell:/c%3A/Users/VARUT.W/Documents/Python/python_generator.ipynb#ch0000001?line=17'>18</a>\u001b[0m \u001b[39mprint\u001b[39m(value)\n",
      "\u001b[1;31mStopIteration\u001b[0m: "
     ]
    }
   ],
   "source": [
    "def mygenerator():\n",
    "    yield 1\n",
    "    yield 2\n",
    "    yield 3\n",
    "\n",
    "g=mygenerator()\n",
    "\n",
    "value=next(g)\n",
    "print(value)\n",
    "\n",
    "value=next(g)\n",
    "print(value)\n",
    "\n",
    "value=next(g)\n",
    "print(value)\n",
    "\n",
    "value=next(g)\n",
    "print(value)\n"
   ]
  },
  {
   "cell_type": "code",
   "execution_count": 9,
   "metadata": {},
   "outputs": [
    {
     "data": {
      "text/plain": [
       "6"
      ]
     },
     "execution_count": 9,
     "metadata": {},
     "output_type": "execute_result"
    }
   ],
   "source": [
    "def mygenerator():\n",
    "    yield 1\n",
    "    yield 2\n",
    "    yield 3\n",
    "\n",
    "g=mygenerator()\n",
    "sum(g)"
   ]
  },
  {
   "cell_type": "code",
   "execution_count": 10,
   "metadata": {},
   "outputs": [
    {
     "name": "stdout",
     "output_type": "stream",
     "text": [
      "[1, 2, 3]\n"
     ]
    }
   ],
   "source": [
    "def mygenerator():\n",
    "    yield 3\n",
    "    yield 2\n",
    "    yield 1\n",
    "\n",
    "g=mygenerator()\n",
    "print(sorted(g))"
   ]
  },
  {
   "cell_type": "code",
   "execution_count": 13,
   "metadata": {},
   "outputs": [
    {
     "name": "stdout",
     "output_type": "stream",
     "text": [
      "Starting\n",
      "4\n",
      "3\n",
      "2\n",
      "1\n"
     ]
    },
    {
     "ename": "StopIteration",
     "evalue": "",
     "output_type": "error",
     "traceback": [
      "\u001b[1;31m---------------------------------------------------------------------------\u001b[0m",
      "\u001b[1;31mStopIteration\u001b[0m                             Traceback (most recent call last)",
      "\u001b[1;32mc:\\Users\\VARUT.W\\Documents\\Python\\python_generator.ipynb Cell 5'\u001b[0m in \u001b[0;36m<cell line: 15>\u001b[1;34m()\u001b[0m\n\u001b[0;32m     <a href='vscode-notebook-cell:/c%3A/Users/VARUT.W/Documents/Python/python_generator.ipynb#ch0000004?line=12'>13</a>\u001b[0m \u001b[39mprint\u001b[39m(\u001b[39mnext\u001b[39m(cd))\n\u001b[0;32m     <a href='vscode-notebook-cell:/c%3A/Users/VARUT.W/Documents/Python/python_generator.ipynb#ch0000004?line=13'>14</a>\u001b[0m \u001b[39mprint\u001b[39m(\u001b[39mnext\u001b[39m(cd))\n\u001b[1;32m---> <a href='vscode-notebook-cell:/c%3A/Users/VARUT.W/Documents/Python/python_generator.ipynb#ch0000004?line=14'>15</a>\u001b[0m \u001b[39mprint\u001b[39m(\u001b[39mnext\u001b[39;49m(cd))\n",
      "\u001b[1;31mStopIteration\u001b[0m: "
     ]
    }
   ],
   "source": [
    "def countdown(num):\n",
    "    print('Starting')\n",
    "    while num>0:\n",
    "        yield num\n",
    "        num-=1\n",
    "\n",
    "cd=countdown(4)\n",
    "\n",
    "value=next(cd)\n",
    "print(value)\n",
    "\n",
    "print(next(cd))\n",
    "print(next(cd))\n",
    "print(next(cd))\n",
    "print(next(cd))\n"
   ]
  },
  {
   "cell_type": "markdown",
   "metadata": {},
   "source": [
    "Generator is very useful when working with large number"
   ]
  },
  {
   "cell_type": "markdown",
   "metadata": {},
   "source": [
    "This ways, a lot of memory has to be reserved for storing nums"
   ]
  },
  {
   "cell_type": "code",
   "execution_count": 19,
   "metadata": {},
   "outputs": [
    {
     "name": "stdout",
     "output_type": "stream",
     "text": [
      "499999500000\n",
      "8448728\n"
     ]
    }
   ],
   "source": [
    "import sys\n",
    "\n",
    "def firstn(n):\n",
    "    nums=[]\n",
    "    num=0\n",
    "    while num<n:\n",
    "        nums.append(num)\n",
    "        num+=1\n",
    "    return nums\n",
    "\n",
    "print(sum(firstn(10**6)))\n",
    "# print the size\n",
    "print(sys.getsizeof(firstn(10**6)))"
   ]
  },
  {
   "cell_type": "markdown",
   "metadata": {},
   "source": [
    "Using generator, a lot of memory is saved"
   ]
  },
  {
   "cell_type": "code",
   "execution_count": 21,
   "metadata": {},
   "outputs": [
    {
     "name": "stdout",
     "output_type": "stream",
     "text": [
      "499999500000\n",
      "112\n"
     ]
    }
   ],
   "source": [
    "# This ways, a lot of memory is saved\n",
    "def firstn_generator(n):\n",
    "    num=0\n",
    "    while num<n:\n",
    "        yield num\n",
    "        num+=1\n",
    "\n",
    "print(sum(firstn_generator(10**6)))\n",
    "\n",
    "# print the size\n",
    "print(sys.getsizeof(firstn_generator(10**6)))"
   ]
  },
  {
   "cell_type": "markdown",
   "metadata": {},
   "source": [
    "Another example of generator, with fibonacci"
   ]
  },
  {
   "cell_type": "code",
   "execution_count": 22,
   "metadata": {},
   "outputs": [
    {
     "name": "stdout",
     "output_type": "stream",
     "text": [
      "0\n",
      "1\n",
      "1\n",
      "2\n",
      "3\n",
      "5\n",
      "8\n",
      "13\n",
      "21\n"
     ]
    }
   ],
   "source": [
    "def fibonacci(limit):\n",
    "    a,b=0,1\n",
    "    while a<limit:\n",
    "        yield a\n",
    "        a,b=b,a+b\n",
    "\n",
    "fib=fibonacci(30)\n",
    "for i in fib:\n",
    "    print(i)"
   ]
  },
  {
   "cell_type": "markdown",
   "metadata": {},
   "source": [
    "Shortcut to implement generator expression"
   ]
  },
  {
   "cell_type": "code",
   "execution_count": 24,
   "metadata": {},
   "outputs": [
    {
     "name": "stdout",
     "output_type": "stream",
     "text": [
      "112\n",
      "4167352\n"
     ]
    }
   ],
   "source": [
    "mygenerator=(i for i in range(10**6) if i%2==0)\n",
    "print(sys.getsizeof(mygenerator))\n",
    "\n",
    "mylist=[i for i in range(10**6) if i%2==0]\n",
    "print(sys.getsizeof(mylist))\n"
   ]
  }
 ],
 "metadata": {
  "interpreter": {
   "hash": "aa7d306bc5ee7b4c864da777b4489922204fde91e00449dedac171af68f677e8"
  },
  "kernelspec": {
   "display_name": "Python 3.9.7 ('base')",
   "language": "python",
   "name": "python3"
  },
  "language_info": {
   "codemirror_mode": {
    "name": "ipython",
    "version": 3
   },
   "file_extension": ".py",
   "mimetype": "text/x-python",
   "name": "python",
   "nbconvert_exporter": "python",
   "pygments_lexer": "ipython3",
   "version": "3.9.7"
  },
  "orig_nbformat": 4
 },
 "nbformat": 4,
 "nbformat_minor": 2
}
