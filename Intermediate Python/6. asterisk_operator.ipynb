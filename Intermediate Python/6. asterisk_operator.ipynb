{
 "cells": [
  {
   "cell_type": "markdown",
   "metadata": {},
   "source": [
    "# The Asterisk (*) Operator"
   ]
  },
  {
   "cell_type": "code",
   "execution_count": 2,
   "metadata": {},
   "outputs": [
    {
     "name": "stdout",
     "output_type": "stream",
     "text": [
      "[0, 0, 0, 0, 0, 0, 0, 0, 0, 0]\n"
     ]
    }
   ],
   "source": [
    "zeros=[0]*10\n",
    "print(zeros)"
   ]
  },
  {
   "cell_type": "code",
   "execution_count": 3,
   "metadata": {},
   "outputs": [
    {
     "name": "stdout",
     "output_type": "stream",
     "text": [
      "ABABABABABABABABABAB\n"
     ]
    }
   ],
   "source": [
    "ab=\"AB\"*10\n",
    "print(ab)"
   ]
  },
  {
   "cell_type": "code",
   "execution_count": 5,
   "metadata": {},
   "outputs": [
    {
     "name": "stdout",
     "output_type": "stream",
     "text": [
      "1 2\n",
      "3\n",
      "4\n",
      "5\n",
      "six\n",
      "seven\n"
     ]
    }
   ],
   "source": [
    "def foo(a,b,*args,**kwargs):\n",
    "    print(a,b)\n",
    "    for arg in args:\n",
    "        print(arg)\n",
    "    for key in kwargs:\n",
    "        print(key)\n",
    "\n",
    "foo(1,2,3,4,5,six=6,seven=7)"
   ]
  },
  {
   "cell_type": "code",
   "execution_count": 8,
   "metadata": {},
   "outputs": [
    {
     "name": "stdout",
     "output_type": "stream",
     "text": [
      "0 1 2\n"
     ]
    }
   ],
   "source": [
    "def foo(a,b,c):\n",
    "    print(a,b,c)\n",
    "\n",
    "my_list=[0,1,2]\n",
    "# unpack\n",
    "foo(*my_list)"
   ]
  },
  {
   "cell_type": "code",
   "execution_count": 9,
   "metadata": {},
   "outputs": [
    {
     "name": "stdout",
     "output_type": "stream",
     "text": [
      "a b c\n"
     ]
    }
   ],
   "source": [
    "def foo(a,b,c):\n",
    "    print(a,b,c)\n",
    "\n",
    "my_dict={'a':1,'b':2,'c':3}\n",
    "# unpack\n",
    "foo(*my_dict)"
   ]
  },
  {
   "cell_type": "code",
   "execution_count": 10,
   "metadata": {},
   "outputs": [
    {
     "name": "stdout",
     "output_type": "stream",
     "text": [
      "[1, 2, 3, 4, 5]\n",
      "6\n"
     ]
    }
   ],
   "source": [
    "numbers=[1,2,3,4,5,6]\n",
    "\n",
    "*beginning,last=numbers\n",
    "print(beginning)\n",
    "print(last)"
   ]
  },
  {
   "cell_type": "code",
   "execution_count": 11,
   "metadata": {},
   "outputs": [
    {
     "name": "stdout",
     "output_type": "stream",
     "text": [
      "1\n",
      "[2, 3, 4, 5, 6]\n"
     ]
    }
   ],
   "source": [
    "numbers=(1,2,3,4,5,6)\n",
    "\n",
    "beginning,*last=numbers\n",
    "print(beginning)\n",
    "print(last)"
   ]
  },
  {
   "cell_type": "code",
   "execution_count": 12,
   "metadata": {},
   "outputs": [
    {
     "name": "stdout",
     "output_type": "stream",
     "text": [
      "1\n",
      "[2, 3, 4]\n",
      "5\n",
      "6\n"
     ]
    }
   ],
   "source": [
    "numbers=(1,2,3,4,5,6)\n",
    "\n",
    "beginning,*middle,secondlast,last=numbers\n",
    "print(beginning)\n",
    "print(middle)\n",
    "print(secondlast)\n",
    "print(last)"
   ]
  },
  {
   "cell_type": "markdown",
   "metadata": {},
   "source": [
    "It can be used to merge different types of data."
   ]
  },
  {
   "cell_type": "code",
   "execution_count": 21,
   "metadata": {},
   "outputs": [
    {
     "name": "stdout",
     "output_type": "stream",
     "text": [
      "[1, 2, 3, 4, 5, 6, 0, 1, 2]\n"
     ]
    }
   ],
   "source": [
    "my_tuple=(1,2,3)\n",
    "my_list=[4,5,6]\n",
    "my_set={0,1,2}\n",
    "\n",
    "new_list=[*my_tuple,*my_list,*my_set]\n",
    "print(new_list)"
   ]
  },
  {
   "cell_type": "markdown",
   "metadata": {},
   "source": [
    "It can be used to merge dictionaries."
   ]
  },
  {
   "cell_type": "code",
   "execution_count": 23,
   "metadata": {},
   "outputs": [
    {
     "name": "stdout",
     "output_type": "stream",
     "text": [
      "{'a': 1, 'b': 2, 'c': 3, 'd': 4}\n"
     ]
    }
   ],
   "source": [
    "dict_a={'a':1,'b':2}\n",
    "dict_b={'c':3,'d':4}\n",
    "my_dict={**dict_a,**dict_b}\n",
    "print(my_dict)"
   ]
  }
 ],
 "metadata": {
  "interpreter": {
   "hash": "aa7d306bc5ee7b4c864da777b4489922204fde91e00449dedac171af68f677e8"
  },
  "kernelspec": {
   "display_name": "Python 3.9.7 ('base')",
   "language": "python",
   "name": "python3"
  },
  "language_info": {
   "codemirror_mode": {
    "name": "ipython",
    "version": 3
   },
   "file_extension": ".py",
   "mimetype": "text/x-python",
   "name": "python",
   "nbconvert_exporter": "python",
   "pygments_lexer": "ipython3",
   "version": "3.9.7"
  },
  "orig_nbformat": 4
 },
 "nbformat": 4,
 "nbformat_minor": 2
}
