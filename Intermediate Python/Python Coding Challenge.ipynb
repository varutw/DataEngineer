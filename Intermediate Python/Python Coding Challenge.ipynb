{
 "cells": [
  {
   "cell_type": "markdown",
   "metadata": {},
   "source": [
    "# Python Coding Challenge"
   ]
  },
  {
   "cell_type": "markdown",
   "metadata": {},
   "source": [
    "## 1. Fibonacci\n",
    "let the input be the number of elements of Fibonacci sequence to print out, but starts the sequence with 1.\n",
    "For example, print out \"1,2,3,5,8,13\" if n equals to 6"
   ]
  },
  {
   "cell_type": "code",
   "execution_count": 5,
   "metadata": {},
   "outputs": [
    {
     "name": "stdout",
     "output_type": "stream",
     "text": [
      "[1, 2, 3, 5, 8, 13]\n"
     ]
    }
   ],
   "source": [
    "def fibonacci(n):\n",
    "    if n==0:\n",
    "        return []\n",
    "    elif n==1:\n",
    "        return [1]\n",
    "    elif n==2:\n",
    "        return [1,2]\n",
    "    else:\n",
    "        fibo_list=[1,2]\n",
    "        while len(fibo_list)<n:\n",
    "            next_fibo = fibo_list[-1] + fibo_list[-2]\n",
    "            fibo_list.append(next_fibo)\n",
    "        return fibo_list\n",
    "\n",
    "#input_num=int(input())\n",
    "input_num=6\n",
    "print(fibonacci(input_num))"
   ]
  },
  {
   "cell_type": "markdown",
   "metadata": {},
   "source": [
    "## 2. Holiday Bush\n",
    "Create a holiday bush with an input number that represents the number of bush floor. The bush has to be centered."
   ]
  },
  {
   "cell_type": "code",
   "execution_count": 12,
   "metadata": {},
   "outputs": [
    {
     "name": "stdout",
     "output_type": "stream",
     "text": [
      "       *       \n",
      "      ***      \n",
      "     *****     \n",
      "    *******    \n",
      "   *********   \n",
      "  ***********  \n",
      " ************* \n"
     ]
    }
   ],
   "source": [
    "def holidaybush(num_floor):\n",
    "    num_bush_all=(2*num_floor)+1\n",
    "    for i in range(num_floor):\n",
    "        num_space=num_floor-i\n",
    "        num_bush=num_bush_all-(num_space*2)\n",
    "        print(' '*num_space+'*'*num_bush+' '*num_space)\n",
    "\n",
    "#input_num=int(input())\n",
    "input_num=7\n",
    "holidaybush(input_num)\n"
   ]
  }
 ],
 "metadata": {
  "interpreter": {
   "hash": "58098f92ed1e0d68f435c965164f52730a73230d4281ebf10129faf68e2446dd"
  },
  "kernelspec": {
   "display_name": "Python 3.9.13 64-bit (windows store)",
   "language": "python",
   "name": "python3"
  },
  "language_info": {
   "codemirror_mode": {
    "name": "ipython",
    "version": 3
   },
   "file_extension": ".py",
   "mimetype": "text/x-python",
   "name": "python",
   "nbconvert_exporter": "python",
   "pygments_lexer": "ipython3",
   "version": "3.9.13"
  },
  "orig_nbformat": 4
 },
 "nbformat": 4,
 "nbformat_minor": 2
}
