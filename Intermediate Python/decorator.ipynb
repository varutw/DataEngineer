{
 "cells": [
  {
   "attachments": {},
   "cell_type": "markdown",
   "metadata": {},
   "source": [
    "# Decorator\n",
    "A decorator is a function that takes another function and extends the behavior of this function without explicitly modifying it. It is a very powerful tool that allows to add new functionality to an existing function.\n",
    "\n",
    "There are 2 kinds of decorators:\n",
    "* Function decoratos\n",
    "* Class decorators\n",
    "\n",
    "A function is decorated with the @ symbol\n"
   ]
  },
  {
   "cell_type": "markdown",
   "metadata": {},
   "source": [
    "## Function decorators\n",
    "Functions in Python are first class objects, which means that – like any other object – they can be defined inside another function, passed as argument to another function, or returned from other functions.\n",
    "A decorator is a function that takes another function as argument, wraps its behaviour inside an inner function. and returns the wrapped function."
   ]
  },
  {
   "cell_type": "markdown",
   "metadata": {},
   "source": [
    "This is the normal method"
   ]
  },
  {
   "cell_type": "code",
   "execution_count": 1,
   "metadata": {},
   "outputs": [
    {
     "name": "stdout",
     "output_type": "stream",
     "text": [
      "Start\n",
      "Alex\n",
      "End\n"
     ]
    }
   ],
   "source": [
    "# A decorator function takes another function as argument, wraps its behaviour inside\n",
    "# an inner function, and returns the wrapped function.\n",
    "def start_end_decorator(func):\n",
    "    def wrapper():\n",
    "        print('Start')\n",
    "        func()\n",
    "        print('End')\n",
    "    return wrapper\n",
    "\n",
    "def print_name():\n",
    "    print('Alex')\n",
    "\n",
    "# Now wrap the function by passing it as argument to the decorator function\n",
    "# and asign it to itself -> Our function has extended behaviour!\n",
    "print_name_with_wrapper=start_end_decorator(print_name)\n",
    "print_name_with_wrapper()"
   ]
  },
  {
   "attachments": {},
   "cell_type": "markdown",
   "metadata": {},
   "source": [
    "## The decorator syntax\n",
    "Instead of wrapping our function and asigning it to itself, we can achieve the same thing simply by decorating our function with an @."
   ]
  },
  {
   "cell_type": "code",
   "execution_count": 2,
   "metadata": {},
   "outputs": [
    {
     "name": "stdout",
     "output_type": "stream",
     "text": [
      "Start\n",
      "Alex\n",
      "End\n"
     ]
    }
   ],
   "source": [
    "def start_end_decorator(func):\n",
    "    def wrapper(x):\n",
    "        print('Start')\n",
    "        func(x)\n",
    "        print('End')\n",
    "    return wrapper\n",
    "\n",
    "@start_end_decorator\n",
    "def print_name(name):\n",
    "    print(name)\n",
    "\n",
    "input_name='Alex'\n",
    "print_name(input_name)\n"
   ]
  },
  {
   "attachments": {},
   "cell_type": "markdown",
   "metadata": {},
   "source": [
    "## With function arguments\n",
    "If our function has input arguments and we try to wrap it with our decorator above, it will raise a TypeError since we have to call our function inside the wrapper with this arguments, too. However, we can fix this by using *args and **kwargs in the inner function."
   ]
  },
  {
   "cell_type": "code",
   "execution_count": 3,
   "metadata": {},
   "outputs": [
    {
     "name": "stdout",
     "output_type": "stream",
     "text": [
      "Start\n",
      "End\n",
      "None\n"
     ]
    }
   ],
   "source": [
    "def start_end_decorator_2(func):\n",
    "    #  using *args and **kwargs in the inner function\n",
    "    def wrapper(*args, **kwargs):\n",
    "        print('Start')\n",
    "        func(*args, **kwargs)\n",
    "        print('End')\n",
    "    return wrapper\n",
    "\n",
    "@start_end_decorator_2\n",
    "def add_5(x):\n",
    "    return x + 5\n",
    "\n",
    "result = add_5(10)\n",
    "print(result)"
   ]
  },
  {
   "attachments": {},
   "cell_type": "markdown",
   "metadata": {},
   "source": [
    "## Return Values\n",
    "Note that in the example above, we do not get the result back, so as next step we also have to return the value from our inner function."
   ]
  },
  {
   "cell_type": "code",
   "execution_count": 4,
   "metadata": {},
   "outputs": [
    {
     "name": "stdout",
     "output_type": "stream",
     "text": [
      "Start\n",
      "End\n",
      "15\n"
     ]
    }
   ],
   "source": [
    "def start_end_decorator_3(func):\n",
    "    \n",
    "    def wrapper(*args, **kwargs):\n",
    "        print('Start')\n",
    "        result = func(*args, **kwargs)\n",
    "        print('End')\n",
    "        return result\n",
    "    return wrapper\n",
    "\n",
    "@start_end_decorator_3\n",
    "def add_5(x):\n",
    "    return x + 5\n",
    "\n",
    "result = add_5(10)\n",
    "print(result)"
   ]
  },
  {
   "cell_type": "markdown",
   "metadata": {},
   "source": [
    "## Function identity"
   ]
  },
  {
   "attachments": {},
   "cell_type": "markdown",
   "metadata": {},
   "source": [
    "If we have a look at the name of our decorated function, and inspect it with the built-in help function, we notice that Python thinks our function is now the wrapped inner function of the decorator function."
   ]
  },
  {
   "cell_type": "code",
   "execution_count": 5,
   "metadata": {},
   "outputs": [
    {
     "name": "stdout",
     "output_type": "stream",
     "text": [
      "wrapper\n",
      "Help on function wrapper in module __main__:\n",
      "\n",
      "wrapper(*args, **kwargs)\n",
      "\n"
     ]
    }
   ],
   "source": [
    "print(add_5.__name__)\n",
    "help(add_5)\n"
   ]
  },
  {
   "attachments": {},
   "cell_type": "markdown",
   "metadata": {},
   "source": [
    "To fix this, use the functools.wraps decorator, which will preserve the information about the original function. This is helpful for introspection purposes, i.e. the ability of an object to know about its own attributes at runtime:"
   ]
  },
  {
   "cell_type": "code",
   "execution_count": 6,
   "metadata": {},
   "outputs": [
    {
     "name": "stdout",
     "output_type": "stream",
     "text": [
      "Start\n",
      "End\n",
      "15\n",
      "add_5\n",
      "Help on function add_5 in module __main__:\n",
      "\n",
      "add_5(x)\n",
      "\n"
     ]
    }
   ],
   "source": [
    "import functools\n",
    "def start_end_decorator_4(func):\n",
    "    \n",
    "    @functools.wraps(func)\n",
    "    def wrapper(*args, **kwargs):\n",
    "        print('Start')\n",
    "        result = func(*args, **kwargs)\n",
    "        print('End')\n",
    "        return result\n",
    "    return wrapper\n",
    "\n",
    "@start_end_decorator_4\n",
    "def add_5(x):\n",
    "    return x + 5\n",
    "result = add_5(10)\n",
    "print(result)\n",
    "print(add_5.__name__)\n",
    "help(add_5)"
   ]
  },
  {
   "cell_type": "markdown",
   "metadata": {},
   "source": [
    "## Decorator function arguments"
   ]
  },
  {
   "cell_type": "markdown",
   "metadata": {},
   "source": [
    "Decorator with input argument"
   ]
  },
  {
   "cell_type": "code",
   "execution_count": 7,
   "metadata": {},
   "outputs": [
    {
     "name": "stdout",
     "output_type": "stream",
     "text": [
      "Hello Pete\n",
      "Hello Pete\n",
      "Hello Pete\n",
      "Hello Pete\n"
     ]
    }
   ],
   "source": [
    "def repeat(num_times):\n",
    "    def decorator_repeat(func):\n",
    "        def wrapper(*args,**kwargs):\n",
    "            for _ in range(num_times):\n",
    "                result=func(*args,**kwargs)\n",
    "            return result\n",
    "        return wrapper\n",
    "    return decorator_repeat\n",
    "\n",
    "@repeat(num_times=4)\n",
    "def greet(name):\n",
    "    print(f'Hello {name}')\n",
    "\n",
    "greet('Pete')\n"
   ]
  },
  {
   "attachments": {},
   "cell_type": "markdown",
   "metadata": {},
   "source": [
    "## The final template for own decorators\n",
    "Now that we have all parts, our template for any decorator looks like this."
   ]
  },
  {
   "cell_type": "code",
   "execution_count": 8,
   "metadata": {},
   "outputs": [],
   "source": [
    "import functools\n",
    "\n",
    "def my_decorator(func):\n",
    "    @functools.wraps(func)\n",
    "    def wrapper(*args, **kwargs):\n",
    "        # Do something before\n",
    "        result = func(*args, **kwargs)\n",
    "        # Do something after\n",
    "        return result\n",
    "    return wrapper"
   ]
  },
  {
   "attachments": {},
   "cell_type": "markdown",
   "metadata": {},
   "source": [
    "## Nest Decorators\n",
    "We can apply several decorators to a function by stacking them on top of each other. The decorators are being executed in the order they are listed."
   ]
  },
  {
   "cell_type": "code",
   "execution_count": 9,
   "metadata": {},
   "outputs": [
    {
     "name": "stdout",
     "output_type": "stream",
     "text": [
      "Calling say_hello(name='Alex')\n",
      "Start\n",
      "Hello Alex\n",
      "End\n",
      "'say_hello' returned 'Hello Alex'\n"
     ]
    },
    {
     "data": {
      "text/plain": [
       "'Hello Alex'"
      ]
     },
     "execution_count": 9,
     "metadata": {},
     "output_type": "execute_result"
    }
   ],
   "source": [
    "# a decorator function that prints debug information about the wrapped function\n",
    "def debug(func):\n",
    "    @functools.wraps(func)\n",
    "    def wrapper(*args, **kwargs):\n",
    "        args_repr = [repr(a) for a in args]\n",
    "        kwargs_repr = [f\"{k}={v!r}\" for k, v in kwargs.items()]\n",
    "        signature = \", \".join(args_repr + kwargs_repr)\n",
    "        print(f\"Calling {func.__name__}({signature})\")\n",
    "        result = func(*args, **kwargs)\n",
    "        print(f\"{func.__name__!r} returned {result!r}\")\n",
    "        return result\n",
    "    return wrapper\n",
    "\n",
    "# a decorator that prints \"start\" and \"end\"\n",
    "def start_end_decorator_4(func):\n",
    "    \n",
    "    @functools.wraps(func)\n",
    "    def wrapper(*args, **kwargs):\n",
    "        print('Start')\n",
    "        result = func(*args, **kwargs)\n",
    "        print('End')\n",
    "        return result\n",
    "    return wrapper\n",
    "\n",
    "@debug\n",
    "@start_end_decorator_4\n",
    "def say_hello(name):\n",
    "    greeting = f'Hello {name}'\n",
    "    print(greeting)\n",
    "    return greeting\n",
    "\n",
    "# now `debug` is executed first and calls `@start_end_decorator_4`, which then calls `say_hello`\n",
    "say_hello(name='Alex')"
   ]
  },
  {
   "cell_type": "markdown",
   "metadata": {},
   "source": [
    "## Class decorator \n",
    "We can also use a class as a decorator. Therefore, we have to implement the \"__call__()\" method to make our object callable. Class decorators are typically used to maintain a state, e.g. here we keep track of the number of times our function is executed. The \"__call__()\" method does essentially the same thing as the wrapper() method we have seen earlier."
   ]
  },
  {
   "cell_type": "code",
   "execution_count": 10,
   "metadata": {},
   "outputs": [
    {
     "name": "stdout",
     "output_type": "stream",
     "text": [
      "This is executed 1 times\n",
      "Hello\n",
      "This is executed 2 times\n",
      "Hello\n"
     ]
    }
   ],
   "source": [
    "class CountCalls:\n",
    "    # the init needs to have the func as argument and stores it\n",
    "    def __init__(self,func):\n",
    "        self.func=func\n",
    "        self.num_calls=0\n",
    "\n",
    "    # extend functionality, execute function, and return the result\n",
    "    def __call__(self,*args,**kwargs):\n",
    "        self.num_calls+=1\n",
    "        print(f'This is executed {self.num_calls} times')\n",
    "        return self.func(*args,**kwargs)\n",
    "\n",
    "@CountCalls\n",
    "def say_hello():\n",
    "    print('Hello')\n",
    "\n",
    "say_hello()\n",
    "say_hello()"
   ]
  },
  {
   "attachments": {},
   "cell_type": "markdown",
   "metadata": {},
   "source": [
    "## Some typical use cases\n",
    "* Use a timer decorator to calculate the execution time of a function\n",
    "* Use a debug decorator to print out some more information about the called function and its arguments\n",
    "* Use a check decorator to check if the arguments fulfill some requirements and adapt the bevaviour accordingly\n",
    "* Register functions (plugins)\n",
    "* Slow down code with time.sleep() to check network behaviour\n",
    "* Cache the return values for memoization (https://en.wikipedia.org/wiki/Memoization)\n",
    "* Add information or update a state"
   ]
  }
 ],
 "metadata": {
  "kernelspec": {
   "display_name": "Python 3",
   "language": "python",
   "name": "python3"
  },
  "language_info": {
   "codemirror_mode": {
    "name": "ipython",
    "version": 3
   },
   "file_extension": ".py",
   "mimetype": "text/x-python",
   "name": "python",
   "nbconvert_exporter": "python",
   "pygments_lexer": "ipython3",
   "version": "3.9.13"
  },
  "orig_nbformat": 4,
  "vscode": {
   "interpreter": {
    "hash": "ba7521335e73b75fbbc3a0b8e9785ce22e7af7ba0c66c795a9c2954a3ece12ce"
   }
  }
 },
 "nbformat": 4,
 "nbformat_minor": 2
}
