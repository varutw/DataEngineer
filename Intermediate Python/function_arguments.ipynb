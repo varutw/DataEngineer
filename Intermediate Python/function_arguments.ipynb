{
 "cells": [
  {
   "cell_type": "markdown",
   "metadata": {},
   "source": [
    "# Function Arguments"
   ]
  },
  {
   "cell_type": "markdown",
   "metadata": {},
   "source": [
    "[https://github.com/python-engineer/python-engineer-notebooks/blob/master/advanced-python/18-Functions%20arguments.ipynb]"
   ]
  },
  {
   "cell_type": "markdown",
   "metadata": {},
   "source": [
    "* Parameters are the variables that are defined or used inside parentheses while defining a function\n",
    "* Arguments are the value passed for these parameters while calling a function"
   ]
  },
  {
   "cell_type": "code",
   "execution_count": null,
   "metadata": {},
   "outputs": [],
   "source": [
    "def print_name(name): # This 'name' is a parameter\n",
    "    print(name)\n",
    "\n",
    "print_name('Alex') # 'Alex' is an argument"
   ]
  },
  {
   "cell_type": "markdown",
   "metadata": {},
   "source": [
    "There is a different between keyword and positional argument. Order is not important. Only the keywords that are important, not the position!"
   ]
  },
  {
   "cell_type": "code",
   "execution_count": 1,
   "metadata": {},
   "outputs": [
    {
     "name": "stdout",
     "output_type": "stream",
     "text": [
      "3 2 1\n"
     ]
    }
   ],
   "source": [
    "def foo(a,b,c):\n",
    "    print(a,b,c)\n",
    "\n",
    "foo(c=1,b=2,a=3)"
   ]
  },
  {
   "cell_type": "markdown",
   "metadata": {},
   "source": [
    "You cannot use positional argument after keyword argument"
   ]
  },
  {
   "cell_type": "code",
   "execution_count": 2,
   "metadata": {},
   "outputs": [
    {
     "ename": "SyntaxError",
     "evalue": "positional argument follows keyword argument (2895522970.py, line 1)",
     "output_type": "error",
     "traceback": [
      "\u001b[1;36m  Input \u001b[1;32mIn [2]\u001b[1;36m\u001b[0m\n\u001b[1;33m    foo(1,b=2,3)\u001b[0m\n\u001b[1;37m               ^\u001b[0m\n\u001b[1;31mSyntaxError\u001b[0m\u001b[1;31m:\u001b[0m positional argument follows keyword argument\n"
     ]
    }
   ],
   "source": [
    "foo(1,b=2,3)"
   ]
  },
  {
   "cell_type": "markdown",
   "metadata": {},
   "source": [
    "You also cannot assign multiple values for any argument."
   ]
  },
  {
   "cell_type": "code",
   "execution_count": 4,
   "metadata": {},
   "outputs": [
    {
     "ename": "TypeError",
     "evalue": "foo() got multiple values for argument 'a'",
     "output_type": "error",
     "traceback": [
      "\u001b[1;31m---------------------------------------------------------------------------\u001b[0m",
      "\u001b[1;31mTypeError\u001b[0m                                 Traceback (most recent call last)",
      "\u001b[1;32mc:\\Users\\VARUT.W\\DataEngineer\\Intermediate Python\\function_arguments.ipynb Cell 9'\u001b[0m in \u001b[0;36m<cell line: 2>\u001b[1;34m()\u001b[0m\n\u001b[0;32m      <a href='vscode-notebook-cell:/c%3A/Users/VARUT.W/DataEngineer/Intermediate%20Python/function_arguments.ipynb#ch0000016?line=0'>1</a>\u001b[0m \u001b[39m# 'a' is assigned twices\u001b[39;00m\n\u001b[1;32m----> <a href='vscode-notebook-cell:/c%3A/Users/VARUT.W/DataEngineer/Intermediate%20Python/function_arguments.ipynb#ch0000016?line=1'>2</a>\u001b[0m foo(\u001b[39m1\u001b[39;49m,b\u001b[39m=\u001b[39;49m\u001b[39m2\u001b[39;49m,a\u001b[39m=\u001b[39;49m\u001b[39m3\u001b[39;49m)\n",
      "\u001b[1;31mTypeError\u001b[0m: foo() got multiple values for argument 'a'"
     ]
    }
   ],
   "source": [
    "# 'a' is assigned twices\n",
    "foo(1,b=2,a=3)"
   ]
  },
  {
   "cell_type": "markdown",
   "metadata": {},
   "source": [
    "Sometimes it is better to use keywords argument, as it is more clear."
   ]
  },
  {
   "cell_type": "markdown",
   "metadata": {},
   "source": [
    "## Args and Kwargs"
   ]
  },
  {
   "cell_type": "markdown",
   "metadata": {},
   "source": [
    "kwargs is a keywords argument"
   ]
  },
  {
   "cell_type": "code",
   "execution_count": 6,
   "metadata": {},
   "outputs": [
    {
     "name": "stdout",
     "output_type": "stream",
     "text": [
      "1 2\n",
      "3\n",
      "4\n",
      "5\n",
      "six 6\n",
      "seven 7\n"
     ]
    }
   ],
   "source": [
    "def foo (a,b,*args,**kwargs):\n",
    "    print(a,b)\n",
    "    for arg in args:\n",
    "        print(arg)\n",
    "    for key in kwargs:\n",
    "        print(key,kwargs[key])\n",
    "\n",
    "foo(1,2,3,4,5,six=6,seven=7)"
   ]
  },
  {
   "cell_type": "markdown",
   "metadata": {},
   "source": [
    "Enforce to have keyword-only arguments"
   ]
  },
  {
   "cell_type": "code",
   "execution_count": 7,
   "metadata": {},
   "outputs": [
    {
     "name": "stdout",
     "output_type": "stream",
     "text": [
      "1\n",
      "2\n",
      "3\n",
      "100\n"
     ]
    }
   ],
   "source": [
    "def foo(*args,last):\n",
    "    for arg in args:\n",
    "        print(arg)\n",
    "    print(last)\n",
    "\n",
    "foo(1,2,3,last=100)"
   ]
  },
  {
   "cell_type": "markdown",
   "metadata": {},
   "source": [
    "# Unpacked arguments"
   ]
  },
  {
   "cell_type": "markdown",
   "metadata": {},
   "source": [
    "The length of container must match the number of aruments."
   ]
  },
  {
   "cell_type": "code",
   "execution_count": 11,
   "metadata": {},
   "outputs": [
    {
     "name": "stdout",
     "output_type": "stream",
     "text": [
      "0 1 2\n"
     ]
    }
   ],
   "source": [
    "def foo(a,b,c):\n",
    "    print(a,b,c)\n",
    "\n",
    "my_list=[0,1,2]\n",
    "foo(*my_list)\n"
   ]
  },
  {
   "cell_type": "markdown",
   "metadata": {},
   "source": [
    "For using dictionary as an input argument, the dictionry key must match the keywords arguments! "
   ]
  },
  {
   "cell_type": "code",
   "execution_count": null,
   "metadata": {},
   "outputs": [],
   "source": [
    "\n",
    "my_dict={'a':1,'b':2,'c':3}\n",
    "foo(**my_dict)\n",
    "\n",
    "my_dict={'e':1,'f':2,'g':3}\n",
    "foo(**my_dict)"
   ]
  },
  {
   "cell_type": "markdown",
   "metadata": {},
   "source": [
    "## The difference between global and local variable"
   ]
  },
  {
   "cell_type": "markdown",
   "metadata": {},
   "source": [
    "This will create an error"
   ]
  },
  {
   "cell_type": "code",
   "execution_count": 2,
   "metadata": {},
   "outputs": [
    {
     "ename": "UnboundLocalError",
     "evalue": "local variable 'number' referenced before assignment",
     "output_type": "error",
     "traceback": [
      "\u001b[1;31m---------------------------------------------------------------------------\u001b[0m",
      "\u001b[1;31mUnboundLocalError\u001b[0m                         Traceback (most recent call last)",
      "\u001b[1;32mc:\\Users\\VARUT.W\\DataEngineer\\Intermediate Python\\function_arguments.ipynb Cell 22'\u001b[0m in \u001b[0;36m<cell line: 8>\u001b[1;34m()\u001b[0m\n\u001b[0;32m      <a href='vscode-notebook-cell:/c%3A/Users/VARUT.W/DataEngineer/Intermediate%20Python/function_arguments.ipynb#ch0000025?line=4'>5</a>\u001b[0m     \u001b[39mprint\u001b[39m(\u001b[39m'\u001b[39m\u001b[39mnumber inside function:\u001b[39m\u001b[39m'\u001b[39m,x)\n\u001b[0;32m      <a href='vscode-notebook-cell:/c%3A/Users/VARUT.W/DataEngineer/Intermediate%20Python/function_arguments.ipynb#ch0000025?line=6'>7</a>\u001b[0m number\u001b[39m=\u001b[39m\u001b[39m0\u001b[39m\n\u001b[1;32m----> <a href='vscode-notebook-cell:/c%3A/Users/VARUT.W/DataEngineer/Intermediate%20Python/function_arguments.ipynb#ch0000025?line=7'>8</a>\u001b[0m foo()\n",
      "\u001b[1;32mc:\\Users\\VARUT.W\\DataEngineer\\Intermediate Python\\function_arguments.ipynb Cell 22'\u001b[0m in \u001b[0;36mfoo\u001b[1;34m()\u001b[0m\n\u001b[0;32m      <a href='vscode-notebook-cell:/c%3A/Users/VARUT.W/DataEngineer/Intermediate%20Python/function_arguments.ipynb#ch0000025?line=0'>1</a>\u001b[0m \u001b[39mdef\u001b[39;00m \u001b[39mfoo\u001b[39m():\n\u001b[1;32m----> <a href='vscode-notebook-cell:/c%3A/Users/VARUT.W/DataEngineer/Intermediate%20Python/function_arguments.ipynb#ch0000025?line=1'>2</a>\u001b[0m     x\u001b[39m=\u001b[39mnumber\n\u001b[0;32m      <a href='vscode-notebook-cell:/c%3A/Users/VARUT.W/DataEngineer/Intermediate%20Python/function_arguments.ipynb#ch0000025?line=2'>3</a>\u001b[0m     \u001b[39m# create local variable that is different than global variable \u001b[39;00m\n\u001b[0;32m      <a href='vscode-notebook-cell:/c%3A/Users/VARUT.W/DataEngineer/Intermediate%20Python/function_arguments.ipynb#ch0000025?line=3'>4</a>\u001b[0m     number\u001b[39m=\u001b[39m\u001b[39m3\u001b[39m\n",
      "\u001b[1;31mUnboundLocalError\u001b[0m: local variable 'number' referenced before assignment"
     ]
    }
   ],
   "source": [
    "def foo():\n",
    "    x=number\n",
    "    # create local variable that is different than global variable \n",
    "    number=3\n",
    "    print('number inside function:',x)\n",
    "\n",
    "number=0\n",
    "foo()"
   ]
  },
  {
   "cell_type": "markdown",
   "metadata": {},
   "source": [
    "To correct this, we have to use global variable."
   ]
  },
  {
   "cell_type": "code",
   "execution_count": 7,
   "metadata": {},
   "outputs": [
    {
     "name": "stdout",
     "output_type": "stream",
     "text": [
      "number inside function: 0\n",
      "3\n"
     ]
    }
   ],
   "source": [
    "def foo():\n",
    "    global number\n",
    "    x=number\n",
    "    number=3\n",
    "    print('number inside function:',x)\n",
    "\n",
    "number=0\n",
    "foo()\n",
    "print(number)"
   ]
  },
  {
   "cell_type": "code",
   "execution_count": 5,
   "metadata": {},
   "outputs": [
    {
     "name": "stdout",
     "output_type": "stream",
     "text": [
      "0\n"
     ]
    }
   ],
   "source": [
    "def foo():\n",
    "    number=3\n",
    "\n",
    "number=0\n",
    "foo()\n",
    "print(number)"
   ]
  },
  {
   "cell_type": "markdown",
   "metadata": {},
   "source": [
    "## Call by object reference"
   ]
  },
  {
   "cell_type": "markdown",
   "metadata": {},
   "source": [
    "Immutable object cannot be changed."
   ]
  },
  {
   "cell_type": "code",
   "execution_count": 8,
   "metadata": {},
   "outputs": [
    {
     "name": "stdout",
     "output_type": "stream",
     "text": [
      "10\n"
     ]
    }
   ],
   "source": [
    "def foo(x):\n",
    "    x=5\n",
    "\n",
    "var=10\n",
    "foo(var)\n",
    "print(var)"
   ]
  },
  {
   "cell_type": "markdown",
   "metadata": {},
   "source": [
    "But mutable object can be changed."
   ]
  },
  {
   "cell_type": "code",
   "execution_count": 11,
   "metadata": {},
   "outputs": [
    {
     "name": "stdout",
     "output_type": "stream",
     "text": [
      "[100, 2, 3, 4]\n"
     ]
    }
   ],
   "source": [
    "def foo(a_list):\n",
    "    a_list.append(4)\n",
    "    a_list[0]=100\n",
    "\n",
    "my_list=[1,2,3]\n",
    "\n",
    "# This will also change the global list\n",
    "foo(my_list)\n",
    "print(my_list)"
   ]
  },
  {
   "cell_type": "markdown",
   "metadata": {},
   "source": [
    "But Rewinding the reference will not change the original list."
   ]
  },
  {
   "cell_type": "code",
   "execution_count": 12,
   "metadata": {},
   "outputs": [
    {
     "name": "stdout",
     "output_type": "stream",
     "text": [
      "[1, 2, 3]\n"
     ]
    }
   ],
   "source": [
    "def foo(a_list):\n",
    "    # local variable\n",
    "    a_list=[200,300,400]\n",
    "    a_list.append(4)\n",
    "    a_list[0]=-100\n",
    "\n",
    "my_list=[1,2,3]\n",
    "foo(my_list)\n",
    "print(my_list)"
   ]
  },
  {
   "cell_type": "markdown",
   "metadata": {},
   "source": [
    "This will also not change the original list."
   ]
  },
  {
   "cell_type": "code",
   "execution_count": 13,
   "metadata": {},
   "outputs": [
    {
     "name": "stdout",
     "output_type": "stream",
     "text": [
      "[1, 2, 3]\n"
     ]
    }
   ],
   "source": [
    "def foo(a_list):\n",
    "    # create local variable\n",
    "    a_list=a_list+[200,300,400]\n",
    "\n",
    "my_list=[1,2,3]\n",
    "foo(my_list)\n",
    "print(my_list)"
   ]
  },
  {
   "cell_type": "markdown",
   "metadata": {},
   "source": [
    "But this will change! Be careful with += and = operations for mutable types. The first operation has an effect on the passed argument while the latter has not."
   ]
  },
  {
   "cell_type": "code",
   "execution_count": 14,
   "metadata": {},
   "outputs": [
    {
     "name": "stdout",
     "output_type": "stream",
     "text": [
      "[1, 2, 3, 200, 300, 400]\n"
     ]
    }
   ],
   "source": [
    "def foo(a_list):\n",
    "    \n",
    "    a_list+=[200,300,400]\n",
    "\n",
    "my_list=[1,2,3]\n",
    "foo(my_list)\n",
    "print(my_list)"
   ]
  }
 ],
 "metadata": {
  "interpreter": {
   "hash": "aa7d306bc5ee7b4c864da777b4489922204fde91e00449dedac171af68f677e8"
  },
  "kernelspec": {
   "display_name": "Python 3.9.7 ('base')",
   "language": "python",
   "name": "python3"
  },
  "language_info": {
   "codemirror_mode": {
    "name": "ipython",
    "version": 3
   },
   "file_extension": ".py",
   "mimetype": "text/x-python",
   "name": "python",
   "nbconvert_exporter": "python",
   "pygments_lexer": "ipython3",
   "version": "3.9.7"
  },
  "orig_nbformat": 4
 },
 "nbformat": 4,
 "nbformat_minor": 2
}
