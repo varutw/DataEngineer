{
 "cells": [
  {
   "cell_type": "markdown",
   "metadata": {},
   "source": [
    "# Function Arguments"
   ]
  },
  {
   "cell_type": "markdown",
   "metadata": {},
   "source": [
    "* Parameters are the variables that are defined or used inside parentheses while defining a function\n",
    "* Arguments are the value passed for these parameters while calling a function"
   ]
  },
  {
   "cell_type": "code",
   "execution_count": 12,
   "metadata": {},
   "outputs": [
    {
     "name": "stdout",
     "output_type": "stream",
     "text": [
      "Alex\n"
     ]
    }
   ],
   "source": [
    "def print_name(name): # This 'name' is a parameter\n",
    "    print(name)\n",
    "\n",
    "print_name('Alex') # 'Alex' is an argument"
   ]
  },
  {
   "attachments": {},
   "cell_type": "markdown",
   "metadata": {},
   "source": [
    "## Positional and keyword arguments"
   ]
  },
  {
   "attachments": {},
   "cell_type": "markdown",
   "metadata": {},
   "source": [
    "We can pass arguments as positional or keyword arguments. Some benefits of keyword arguments can be:\n",
    "* We can call arguments by their names to make it more clear what they represent\n",
    "* We can rearrange arguments in a way that makes them most readable"
   ]
  },
  {
   "cell_type": "code",
   "execution_count": 13,
   "metadata": {},
   "outputs": [
    {
     "name": "stdout",
     "output_type": "stream",
     "text": [
      "1 2 3\n",
      "1 2 3\n",
      "1 2 3\n",
      "1 2 3\n"
     ]
    }
   ],
   "source": [
    "def foo(a, b, c):\n",
    "    print(a, b, c)\n",
    "    \n",
    "# positional arguments\n",
    "foo(1, 2, 3)\n",
    "\n",
    "# keyword arguments\n",
    "foo(a=1, b=2, c=3)\n",
    "foo(c=3, b=2, a=1) # Note that the order is not important here\n",
    "\n",
    "# mix of both\n",
    "foo(1, b=2, c=3)\n",
    "\n",
    "# This is not allowed:\n",
    "# foo(1, b=2, 3) # positional argument after keyword argument\n",
    "# foo(1, b=2, a=3) # multiple values for argument 'a'"
   ]
  },
  {
   "attachments": {},
   "cell_type": "markdown",
   "metadata": {},
   "source": [
    "## Default arguments\n",
    "\n",
    "Functions can have default arguments with a predefined value. This argument can be left out and the default value is then passed to the function, or the argument can be used with a different value. Note that default arguments must be defined as the last parameters in a function."
   ]
  },
  {
   "cell_type": "code",
   "execution_count": 14,
   "metadata": {},
   "outputs": [
    {
     "name": "stdout",
     "output_type": "stream",
     "text": [
      "1 2 3 4\n",
      "1 2 3 100\n"
     ]
    }
   ],
   "source": [
    "# default arguments\n",
    "def foo(a, b, c, d=4):\n",
    "    print(a, b, c, d)\n",
    "\n",
    "foo(1, 2, 3, 4)\n",
    "foo(1, b=2, c=3, d=100)\n",
    "\n",
    "# not allowed: default arguments must be at the end\n",
    "# def foo(a, b=2, c, d=4):\n",
    "#     print(a, b, c, d)"
   ]
  },
  {
   "attachments": {},
   "cell_type": "markdown",
   "metadata": {},
   "source": [
    "## Variable-length arguments ('*args' and '**kwargs')\n",
    "If you mark a parameter with one asterisk (*), you can pass any number of positional arguments to your function (Typically called *args)\n",
    "If you mark a parameter with two asterisks (**), you can pass any number of keyword arguments to this function (Typically called **kwargs)."
   ]
  },
  {
   "cell_type": "code",
   "execution_count": 15,
   "metadata": {},
   "outputs": [
    {
     "name": "stdout",
     "output_type": "stream",
     "text": [
      "these are positional arguments\n",
      "1 2\n",
      "this is args\n",
      "3\n",
      "this is args\n",
      "4\n",
      "this is args\n",
      "5\n",
      "this is kwargs\n",
      "six 6\n",
      "this is kwargs\n",
      "seven 7\n",
      "\n",
      "these are positional arguments\n",
      "1 2\n",
      "this is kwargs\n",
      "three 3\n"
     ]
    }
   ],
   "source": [
    "def foo(a, b, *args, **kwargs):\n",
    "    print('these are positional arguments')\n",
    "    print(a, b)\n",
    "    for arg in args:\n",
    "        print('this is args')\n",
    "        print(arg)\n",
    "    for kwarg in kwargs:\n",
    "        print('this is kwargs')\n",
    "        print(kwarg, kwargs[kwarg])\n",
    "\n",
    "# 3, 4, 5 are combined into args\n",
    "# six and seven are combined into kwargs\n",
    "foo(1, 2, 3, 4, 5, six=6, seven=7)\n",
    "print()\n",
    "\n",
    "# omitting of args or kwargs is also possible\n",
    "foo(1, 2, three=3)"
   ]
  },
  {
   "attachments": {},
   "cell_type": "markdown",
   "metadata": {},
   "source": [
    "## Forced keyword arguments\n",
    "Sometimes you want to have keyword-only arguments. You can enforce that with:\n",
    "* If you write '*,' in your function parameter list, all parameters after that must be passed as keyword arguments.\n",
    "* Arguments after variable-length arguments must be keyword arguments."
   ]
  },
  {
   "cell_type": "code",
   "execution_count": 16,
   "metadata": {},
   "outputs": [
    {
     "name": "stdout",
     "output_type": "stream",
     "text": [
      "1 2 3 4\n",
      "8\n",
      "9\n",
      "10\n",
      "50\n"
     ]
    }
   ],
   "source": [
    "def foo(a, b, *, c, d):\n",
    "    print(a, b, c, d)\n",
    "\n",
    "foo(1, 2, c=3, d=4)\n",
    "# not allowed:\n",
    "# foo(1, 2, 3, 4)\n",
    "\n",
    "# arguments after variable-length arguments must be keyword arguments\n",
    "def foo(*args, last):\n",
    "    for arg in args:\n",
    "        print(arg)\n",
    "    print(last)\n",
    "\n",
    "foo(8, 9, 10, last=50)"
   ]
  },
  {
   "attachments": {},
   "cell_type": "markdown",
   "metadata": {},
   "source": [
    "## The difference between global and local variable\n",
    "Global variables can be accessed within a function body, but to modify them, we first must state global var_name in order to change the global variable."
   ]
  },
  {
   "cell_type": "code",
   "execution_count": 17,
   "metadata": {},
   "outputs": [
    {
     "name": "stdout",
     "output_type": "stream",
     "text": [
      "number in function: 0\n",
      "number before foo2():  0\n",
      "number after foo2():  3\n"
     ]
    }
   ],
   "source": [
    "def foo1():\n",
    "    x = number # global variable can only be accessed here\n",
    "    print('number in function:', x)\n",
    "\n",
    "number = 0\n",
    "foo1()\n",
    "\n",
    "# modifying the global variable\n",
    "def foo2():\n",
    "    global number # global variable can now be accessed and modified\n",
    "    number = 3\n",
    "\n",
    "print('number before foo2(): ', number)\n",
    "foo2() # modifies the global variable\n",
    "print('number after foo2(): ', number)"
   ]
  },
  {
   "attachments": {},
   "cell_type": "markdown",
   "metadata": {},
   "source": [
    "If we do not write global var_name and asign a new value to a variable with the same name as the global variable, this will create a local variable within the function. The global variable remains unchanged."
   ]
  },
  {
   "cell_type": "code",
   "execution_count": 18,
   "metadata": {},
   "outputs": [
    {
     "name": "stdout",
     "output_type": "stream",
     "text": [
      "number before foo3():  0\n",
      "number after foo3():  0\n"
     ]
    }
   ],
   "source": [
    "number = 0\n",
    "\n",
    "def foo3():\n",
    "    number = 3 # this is a local variable\n",
    "\n",
    "print('number before foo3(): ', number)\n",
    "foo3() # does not modify the global variable\n",
    "print('number after foo3(): ', number)"
   ]
  },
  {
   "cell_type": "markdown",
   "metadata": {},
   "source": [
    "## Call by object reference"
   ]
  },
  {
   "attachments": {},
   "cell_type": "markdown",
   "metadata": {},
   "source": [
    "Python uses a mechanism, which is known as \"Call-by-Object\" or \"Call-by-Object-Reference.\n",
    "* Immutable objects (e.g. int, string) cannot be changed within a method. But immutable object CONTAINED WITHIN a mutable object can be re-assigned within a method.\n",
    "* Mutable objects (e.g. lists,dict) can be changed within a method. But if you rebind the reference in the method, the outer reference will still point at the original object.\n"
   ]
  },
  {
   "cell_type": "code",
   "execution_count": 19,
   "metadata": {},
   "outputs": [
    {
     "name": "stdout",
     "output_type": "stream",
     "text": [
      "var before foo(): 10\n",
      "var after foo(): 10\n"
     ]
    }
   ],
   "source": [
    "# immutable objects -> no change\n",
    "def foo(x):\n",
    "    x = 5 # x += 5 also no effect since x is immutable and a new variable must be created\n",
    "\n",
    "var = 10\n",
    "print('var before foo():', var)\n",
    "foo(var)\n",
    "print('var after foo():', var)"
   ]
  },
  {
   "cell_type": "code",
   "execution_count": 20,
   "metadata": {},
   "outputs": [
    {
     "name": "stdout",
     "output_type": "stream",
     "text": [
      "my_list before foo(): [1, 2, 'Max']\n",
      "my_list after foo(): [-100, 2, 'Paul']\n"
     ]
    }
   ],
   "source": [
    "# immutable objects within a mutable object -> change\n",
    "def foo(a_list):\n",
    "    a_list[0] = -100\n",
    "    a_list[2] = \"Paul\"\n",
    "    \n",
    "my_list = [1, 2, \"Max\"]\n",
    "print('my_list before foo():', my_list)\n",
    "foo(my_list)\n",
    "print('my_list after foo():', my_list)"
   ]
  },
  {
   "cell_type": "code",
   "execution_count": 21,
   "metadata": {},
   "outputs": [
    {
     "name": "stdout",
     "output_type": "stream",
     "text": [
      "my_list before foo(): [1, 2, 3]\n",
      "my_list after foo(): [1, 2, 3, 4]\n"
     ]
    }
   ],
   "source": [
    "# mutable objects -> change\n",
    "def foo(a_list):\n",
    "    a_list.append(4)\n",
    "    \n",
    "my_list = [1, 2, 3]\n",
    "print('my_list before foo():', my_list)\n",
    "foo(my_list)\n",
    "print('my_list after foo():', my_list)"
   ]
  },
  {
   "cell_type": "code",
   "execution_count": 22,
   "metadata": {},
   "outputs": [
    {
     "name": "stdout",
     "output_type": "stream",
     "text": [
      "my_list before foo(): [1, 2, 3]\n",
      "my_list after foo(): [1, 2, 3]\n"
     ]
    }
   ],
   "source": [
    "# Rebind a mutable reference -> no change\n",
    "def foo(a_list):\n",
    "    a_list = [50, 60, 70] # a_list is now a new local variable within the function\n",
    "    a_list.append(50)\n",
    "    \n",
    "my_list = [1, 2, 3]\n",
    "print('my_list before foo():', my_list)\n",
    "foo(my_list)\n",
    "print('my_list after foo():', my_list)"
   ]
  },
  {
   "cell_type": "markdown",
   "metadata": {},
   "source": [
    "This will also not change the original list."
   ]
  },
  {
   "cell_type": "code",
   "execution_count": 23,
   "metadata": {},
   "outputs": [
    {
     "name": "stdout",
     "output_type": "stream",
     "text": [
      "[1, 2, 3]\n"
     ]
    }
   ],
   "source": [
    "def foo(a_list):\n",
    "    # create local variable\n",
    "    a_list=a_list+[200,300,400]\n",
    "\n",
    "my_list=[1,2,3]\n",
    "foo(my_list)\n",
    "print(my_list)"
   ]
  },
  {
   "attachments": {},
   "cell_type": "markdown",
   "metadata": {},
   "source": [
    "But this will change! Be careful with '+=' and '=' operations for mutable types. The first operation has an effect on the passed argument while the latter has not."
   ]
  },
  {
   "cell_type": "code",
   "execution_count": 24,
   "metadata": {},
   "outputs": [
    {
     "name": "stdout",
     "output_type": "stream",
     "text": [
      "my_list before foo(): [1, 2, 3]\n",
      "my_list after foo(): [1, 2, 3, 4, 5]\n",
      "my_list before bar(): [1, 2, 3]\n",
      "my_list after bar(): [1, 2, 3]\n"
     ]
    }
   ],
   "source": [
    "# another example with rebinding references:\n",
    "def foo(a_list):\n",
    "    a_list += [4, 5] # this chanches the outer variable\n",
    "    \n",
    "def bar(a_list):\n",
    "    a_list = a_list + [4, 5] # this rebinds the reference to a new local variable\n",
    "\n",
    "my_list = [1, 2, 3]\n",
    "print('my_list before foo():', my_list)\n",
    "foo(my_list)\n",
    "print('my_list after foo():', my_list)\n",
    "\n",
    "my_list = [1, 2, 3]\n",
    "print('my_list before bar():', my_list)\n",
    "bar(my_list)\n",
    "print('my_list after bar():', my_list)"
   ]
  }
 ],
 "metadata": {
  "kernelspec": {
   "display_name": "Python 3",
   "language": "python",
   "name": "python3"
  },
  "language_info": {
   "codemirror_mode": {
    "name": "ipython",
    "version": 3
   },
   "file_extension": ".py",
   "mimetype": "text/x-python",
   "name": "python",
   "nbconvert_exporter": "python",
   "pygments_lexer": "ipython3",
   "version": "3.9.13"
  },
  "orig_nbformat": 4,
  "vscode": {
   "interpreter": {
    "hash": "ba7521335e73b75fbbc3a0b8e9785ce22e7af7ba0c66c795a9c2954a3ece12ce"
   }
  }
 },
 "nbformat": 4,
 "nbformat_minor": 2
}
