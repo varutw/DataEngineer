{
 "cells": [
  {
   "cell_type": "markdown",
   "metadata": {},
   "source": [
    "# Threading vs Multiprocessing"
   ]
  },
  {
   "cell_type": "markdown",
   "metadata": {},
   "source": [
    "Threads and multiple processes are two common approaches to run code in parallel to achieve multitasking and speed up the program."
   ]
  },
  {
   "cell_type": "markdown",
   "metadata": {},
   "source": [
    "## Process"
   ]
  },
  {
   "cell_type": "markdown",
   "metadata": {},
   "source": [
    "Process is an instance of a program\n",
    "\n",
    "Advantages\n",
    "* Takes advantage of multiple CPUs and cores\n",
    "* Separate memory space-->memory is not shared between processes\n",
    "* Great for CPU-bound processing\n",
    "* New process is started independently from other processes\n",
    "* Killable/interruptable\n",
    "\n",
    "Disadvantages\n",
    "* Heavyweight\n",
    "* Starting a process is slower than starting a thread\n",
    "* More memory"
   ]
  },
  {
   "cell_type": "code",
   "execution_count": 1,
   "metadata": {},
   "outputs": [],
   "source": [
    "from multiprocessing import Process\n",
    "import os\n",
    "import time"
   ]
  },
  {
   "cell_type": "markdown",
   "metadata": {},
   "source": [
    "Create dummy function to show how to use multiprocessor and threading"
   ]
  },
  {
   "cell_type": "code",
   "execution_count": 2,
   "metadata": {},
   "outputs": [],
   "source": [
    "def square_numbers():\n",
    "    for i in range(10):\n",
    "        i*i\n",
    "        # wait some time to show the different processes\n",
    "        time.sleep(0.1)\n"
   ]
  },
  {
   "cell_type": "markdown",
   "metadata": {},
   "source": [
    "Show the simple usage of multiprocessor"
   ]
  },
  {
   "cell_type": "code",
   "execution_count": 3,
   "metadata": {},
   "outputs": [
    {
     "name": "stdout",
     "output_type": "stream",
     "text": [
      "total number of CPU is: 8\n",
      "end main\n"
     ]
    }
   ],
   "source": [
    "\n",
    "processes=[]\n",
    "# count the number of CPU in the machine\n",
    "num_processes=os.cpu_count()\n",
    "print('total number of CPU is: '+str(num_processes))\n",
    "\n",
    "# create processes\n",
    "for i in range(num_processes):\n",
    "    p=Process(target=square_numbers)\n",
    "    processes.append(p)\n",
    "\n",
    "# start the process\n",
    "for p in processes:\n",
    "    p.start()\n",
    "\n",
    "#join\n",
    "for p in processes:\n",
    "    p.join()\n",
    "\n",
    "print('end main')\n"
   ]
  },
  {
   "cell_type": "markdown",
   "metadata": {},
   "source": [
    "## Threads"
   ]
  },
  {
   "cell_type": "markdown",
   "metadata": {},
   "source": [
    "Threads is an entity within a process that can be schedule. A process can spawn multiple threads.\n",
    "\n",
    "Advantages\n",
    "* Lightweight\n",
    "* All threads within a process share the same memory\n",
    "* Starting a thread is faster than starting a process\n",
    "* Great for I/O-bound tasks\n",
    "\n",
    "Disadvantages\n",
    "* Only one thread at a time\n",
    "* No effect for CPU-bound tasks\n",
    "* Not interruptable/killable"
   ]
  },
  {
   "cell_type": "code",
   "execution_count": 4,
   "metadata": {},
   "outputs": [],
   "source": [
    "from threading import Thread\n",
    "import os\n",
    "import time"
   ]
  },
  {
   "cell_type": "markdown",
   "metadata": {},
   "source": [
    "Show the simple usage of threading"
   ]
  },
  {
   "cell_type": "code",
   "execution_count": 5,
   "metadata": {},
   "outputs": [
    {
     "name": "stdout",
     "output_type": "stream",
     "text": [
      "end main\n"
     ]
    }
   ],
   "source": [
    "threads=[]\n",
    "num_threads=10\n",
    "\n",
    "# create processes\n",
    "for i in range(num_threads):\n",
    "    t=Thread(target=square_numbers)\n",
    "    threads.append(t)\n",
    "\n",
    "# start the process\n",
    "for t in threads:\n",
    "    t.start()\n",
    "\n",
    "#join\n",
    "for t in threads:\n",
    "    t.join()\n",
    "\n",
    "print('end main')"
   ]
  },
  {
   "cell_type": "markdown",
   "metadata": {},
   "source": [
    "More example of Multithreading. Use Lock to prevent another thread to access the code at the same time (race condition)."
   ]
  },
  {
   "cell_type": "code",
   "execution_count": 8,
   "metadata": {},
   "outputs": [
    {
     "name": "stdout",
     "output_type": "stream",
     "text": [
      "start value 0\n",
      "end value 2\n",
      "end main\n"
     ]
    }
   ],
   "source": [
    "from threading import Lock\n",
    "\n",
    "# define global variable\n",
    "database_value = 0\n",
    "\n",
    "#define target function\n",
    "def increase(lock):\n",
    "    global database_value \n",
    "\n",
    "    lock.acquire()\n",
    "\n",
    "    local_copy=database_value\n",
    "    # processing\n",
    "    local_copy+=1\n",
    "    time.sleep(0.1)\n",
    "    database_value=local_copy\n",
    "    # release lock every time!\n",
    "    lock.release()\n",
    "\n",
    "if __name__==\"__main__\":\n",
    "\n",
    "    lock=Lock()\n",
    "\n",
    "    print('start value',database_value)\n",
    "\n",
    "    # comma to tell python that argument is a tuple\n",
    "    thread1=Thread(target=increase,args=(lock,))\n",
    "    thread2=Thread(target=increase,args=(lock,))\n",
    "\n",
    "    thread1.start()\n",
    "    thread2.start()\n",
    "\n",
    "    thread1.join()\n",
    "    thread2.join()\n",
    "    \n",
    "    print('end value',database_value)\n",
    "\n",
    "    print('end main')"
   ]
  },
  {
   "cell_type": "markdown",
   "metadata": {},
   "source": [
    "Use lock as a contect manager."
   ]
  },
  {
   "cell_type": "code",
   "execution_count": 9,
   "metadata": {},
   "outputs": [
    {
     "name": "stdout",
     "output_type": "stream",
     "text": [
      "start value 0\n",
      "end value 2\n",
      "end main\n"
     ]
    }
   ],
   "source": [
    "from threading import Lock\n",
    "\n",
    "# define global variable\n",
    "database_value = 0\n",
    "\n",
    "#define target function\n",
    "def increase(lock):\n",
    "    global database_value \n",
    "\n",
    "    with lock:\n",
    "        local_copy=database_value\n",
    "        # processing\n",
    "        local_copy+=1\n",
    "        time.sleep(0.1)\n",
    "        database_value=local_copy\n",
    "\n",
    "if __name__==\"__main__\":\n",
    "\n",
    "    lock=Lock()\n",
    "\n",
    "    print('start value',database_value)\n",
    "\n",
    "    # comma to tell python that argument is a tuple\n",
    "    thread1=Thread(target=increase,args=(lock,))\n",
    "    thread2=Thread(target=increase,args=(lock,))\n",
    "\n",
    "    thread1.start()\n",
    "    thread2.start()\n",
    "\n",
    "    thread1.join()\n",
    "    thread2.join()\n",
    "    \n",
    "    print('end value',database_value)\n",
    "\n",
    "    print('end main')"
   ]
  },
  {
   "cell_type": "markdown",
   "metadata": {},
   "source": [
    "Queues are excellent for thread-safe/process-safe data exchanges and data processing both in a multithreaded and a multiprocessing environment."
   ]
  },
  {
   "cell_type": "code",
   "execution_count": 11,
   "metadata": {},
   "outputs": [
    {
     "name": "stdout",
     "output_type": "stream",
     "text": [
      "1\n",
      "end main\n"
     ]
    }
   ],
   "source": [
    "from queue import Queue\n",
    "import time\n",
    "\n",
    "def worker(q,lock):\n",
    "    while True:\n",
    "        value=q.get()\n",
    "\n",
    "        #processing...\n",
    "        print(f'in {current_thread().name} got {value}')\n",
    "        q.task_done()\n",
    "\n",
    "if __name__==\"__main__\":\n",
    "\n",
    "    # create Queue object\n",
    "    q=Queue()\n",
    "\n",
    "    num_threads=10\n",
    "    for i in range(num_threads):\n",
    "        thread=Thread(target=worker)\n",
    "        #use deamon thread\n",
    "        thread.daemon=True\n",
    "        thread.start()\n",
    "\n",
    "    print('end main')"
   ]
  }
 ],
 "metadata": {
  "interpreter": {
   "hash": "aa7d306bc5ee7b4c864da777b4489922204fde91e00449dedac171af68f677e8"
  },
  "kernelspec": {
   "display_name": "Python 3.9.7 ('base')",
   "language": "python",
   "name": "python3"
  },
  "language_info": {
   "codemirror_mode": {
    "name": "ipython",
    "version": 3
   },
   "file_extension": ".py",
   "mimetype": "text/x-python",
   "name": "python",
   "nbconvert_exporter": "python",
   "pygments_lexer": "ipython3",
   "version": "3.9.7"
  },
  "orig_nbformat": 4
 },
 "nbformat": 4,
 "nbformat_minor": 2
}
